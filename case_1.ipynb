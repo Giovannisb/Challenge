{
 "cells": [
  {
   "cell_type": "markdown",
   "metadata": {
    "colab_type": "text",
    "id": "cjwVgnjSncVg"
   },
   "source": [
    "#Q1"
   ]
  },
  {
   "cell_type": "markdown",
   "metadata": {
    "colab_type": "text",
    "id": "YOytIT4-ehcw"
   },
   "source": [
    "O dataset avaliado é composto por uma variável TFP (variável rtfpna)  para três países: Estados Unidos (EUA), Canadá (CAN) e México (MEX)."
   ]
  },
  {
   "cell_type": "code",
   "execution_count": 4,
   "metadata": {
    "colab": {},
    "colab_type": "code",
    "executionInfo": {
     "elapsed": 802,
     "status": "ok",
     "timestamp": 1594096881802,
     "user": {
      "displayName": "Giovanni Sá Barreto",
      "photoUrl": "",
      "userId": "12625235111421277305"
     },
     "user_tz": 180
    },
    "id": "-zT4aOoRagAM"
   },
   "outputs": [],
   "source": [
    "import pandas as pd\n",
    "import matplotlib.pyplot as plt\n",
    "import seaborn as sns"
   ]
  },
  {
   "cell_type": "code",
   "execution_count": 5,
   "metadata": {
    "colab": {
     "base_uri": "https://localhost:8080/",
     "height": 195
    },
    "colab_type": "code",
    "executionInfo": {
     "elapsed": 789,
     "status": "ok",
     "timestamp": 1594096881803,
     "user": {
      "displayName": "Giovanni Sá Barreto",
      "photoUrl": "",
      "userId": "12625235111421277305"
     },
     "user_tz": 180
    },
    "id": "fdWv16nFasUW",
    "outputId": "784af756-c635-43bb-fb86-a7c012b6895f"
   },
   "outputs": [
    {
     "data": {
      "text/html": [
       "<div>\n",
       "<style scoped>\n",
       "    .dataframe tbody tr th:only-of-type {\n",
       "        vertical-align: middle;\n",
       "    }\n",
       "\n",
       "    .dataframe tbody tr th {\n",
       "        vertical-align: top;\n",
       "    }\n",
       "\n",
       "    .dataframe thead th {\n",
       "        text-align: right;\n",
       "    }\n",
       "</style>\n",
       "<table border=\"1\" class=\"dataframe\">\n",
       "  <thead>\n",
       "    <tr style=\"text-align: right;\">\n",
       "      <th></th>\n",
       "      <th>isocode</th>\n",
       "      <th>year</th>\n",
       "      <th>rtfpna</th>\n",
       "    </tr>\n",
       "  </thead>\n",
       "  <tbody>\n",
       "    <tr>\n",
       "      <th>0</th>\n",
       "      <td>USA</td>\n",
       "      <td>1950</td>\n",
       "      <td>0.617148</td>\n",
       "    </tr>\n",
       "    <tr>\n",
       "      <th>1</th>\n",
       "      <td>USA</td>\n",
       "      <td>1951</td>\n",
       "      <td>0.629588</td>\n",
       "    </tr>\n",
       "    <tr>\n",
       "      <th>2</th>\n",
       "      <td>USA</td>\n",
       "      <td>1952</td>\n",
       "      <td>0.638451</td>\n",
       "    </tr>\n",
       "    <tr>\n",
       "      <th>3</th>\n",
       "      <td>USA</td>\n",
       "      <td>1953</td>\n",
       "      <td>0.651858</td>\n",
       "    </tr>\n",
       "    <tr>\n",
       "      <th>4</th>\n",
       "      <td>USA</td>\n",
       "      <td>1954</td>\n",
       "      <td>0.646179</td>\n",
       "    </tr>\n",
       "  </tbody>\n",
       "</table>\n",
       "</div>"
      ],
      "text/plain": [
       "  isocode  year    rtfpna\n",
       "0     USA  1950  0.617148\n",
       "1     USA  1951  0.629588\n",
       "2     USA  1952  0.638451\n",
       "3     USA  1953  0.651858\n",
       "4     USA  1954  0.646179"
      ]
     },
     "execution_count": 5,
     "metadata": {},
     "output_type": "execute_result"
    }
   ],
   "source": [
    "df = pd.read_csv(\"TFP.csv\")\n",
    "\n",
    "df.head()"
   ]
  },
  {
   "cell_type": "code",
   "execution_count": 6,
   "metadata": {
    "colab": {
     "base_uri": "https://localhost:8080/",
     "height": 284
    },
    "colab_type": "code",
    "executionInfo": {
     "elapsed": 781,
     "status": "ok",
     "timestamp": 1594096881804,
     "user": {
      "displayName": "Giovanni Sá Barreto",
      "photoUrl": "",
      "userId": "12625235111421277305"
     },
     "user_tz": 180
    },
    "id": "xHw9_nt4bV5n",
    "outputId": "0ab3d0d5-36cd-46f7-f8ce-2734a0df9371"
   },
   "outputs": [
    {
     "data": {
      "text/html": [
       "<div>\n",
       "<style scoped>\n",
       "    .dataframe tbody tr th:only-of-type {\n",
       "        vertical-align: middle;\n",
       "    }\n",
       "\n",
       "    .dataframe tbody tr th {\n",
       "        vertical-align: top;\n",
       "    }\n",
       "\n",
       "    .dataframe thead th {\n",
       "        text-align: right;\n",
       "    }\n",
       "</style>\n",
       "<table border=\"1\" class=\"dataframe\">\n",
       "  <thead>\n",
       "    <tr style=\"text-align: right;\">\n",
       "      <th></th>\n",
       "      <th>year</th>\n",
       "      <th>rtfpna</th>\n",
       "    </tr>\n",
       "  </thead>\n",
       "  <tbody>\n",
       "    <tr>\n",
       "      <th>count</th>\n",
       "      <td>186.000000</td>\n",
       "      <td>186.000000</td>\n",
       "    </tr>\n",
       "    <tr>\n",
       "      <th>mean</th>\n",
       "      <td>1980.500000</td>\n",
       "      <td>0.975614</td>\n",
       "    </tr>\n",
       "    <tr>\n",
       "      <th>std</th>\n",
       "      <td>17.943831</td>\n",
       "      <td>0.177538</td>\n",
       "    </tr>\n",
       "    <tr>\n",
       "      <th>min</th>\n",
       "      <td>1950.000000</td>\n",
       "      <td>0.617148</td>\n",
       "    </tr>\n",
       "    <tr>\n",
       "      <th>25%</th>\n",
       "      <td>1965.000000</td>\n",
       "      <td>0.855143</td>\n",
       "    </tr>\n",
       "    <tr>\n",
       "      <th>50%</th>\n",
       "      <td>1980.500000</td>\n",
       "      <td>0.995047</td>\n",
       "    </tr>\n",
       "    <tr>\n",
       "      <th>75%</th>\n",
       "      <td>1996.000000</td>\n",
       "      <td>1.046348</td>\n",
       "    </tr>\n",
       "    <tr>\n",
       "      <th>max</th>\n",
       "      <td>2011.000000</td>\n",
       "      <td>1.383718</td>\n",
       "    </tr>\n",
       "  </tbody>\n",
       "</table>\n",
       "</div>"
      ],
      "text/plain": [
       "              year      rtfpna\n",
       "count   186.000000  186.000000\n",
       "mean   1980.500000    0.975614\n",
       "std      17.943831    0.177538\n",
       "min    1950.000000    0.617148\n",
       "25%    1965.000000    0.855143\n",
       "50%    1980.500000    0.995047\n",
       "75%    1996.000000    1.046348\n",
       "max    2011.000000    1.383718"
      ]
     },
     "execution_count": 6,
     "metadata": {},
     "output_type": "execute_result"
    }
   ],
   "source": [
    "df.describe()"
   ]
  },
  {
   "cell_type": "code",
   "execution_count": 7,
   "metadata": {
    "colab": {
     "base_uri": "https://localhost:8080/",
     "height": 84
    },
    "colab_type": "code",
    "executionInfo": {
     "elapsed": 775,
     "status": "ok",
     "timestamp": 1594096881805,
     "user": {
      "displayName": "Giovanni Sá Barreto",
      "photoUrl": "",
      "userId": "12625235111421277305"
     },
     "user_tz": 180
    },
    "id": "UoyXegNUbalB",
    "outputId": "fb5cf6cb-4332-460c-c8ad-eb0b3520f7e7"
   },
   "outputs": [
    {
     "data": {
      "text/plain": [
       "isocode    0\n",
       "year       0\n",
       "rtfpna     0\n",
       "dtype: int64"
      ]
     },
     "execution_count": 7,
     "metadata": {},
     "output_type": "execute_result"
    }
   ],
   "source": [
    "df.isnull().sum()"
   ]
  },
  {
   "cell_type": "code",
   "execution_count": 8,
   "metadata": {
    "colab": {
     "base_uri": "https://localhost:8080/",
     "height": 84
    },
    "colab_type": "code",
    "executionInfo": {
     "elapsed": 768,
     "status": "ok",
     "timestamp": 1594096881806,
     "user": {
      "displayName": "Giovanni Sá Barreto",
      "photoUrl": "",
      "userId": "12625235111421277305"
     },
     "user_tz": 180
    },
    "id": "clye1pDbd_GG",
    "outputId": "04a96f64-71f0-433b-ca1e-8083d7569ca0"
   },
   "outputs": [
    {
     "data": {
      "text/plain": [
       "CAN    62\n",
       "USA    62\n",
       "MEX    62\n",
       "Name: isocode, dtype: int64"
      ]
     },
     "execution_count": 8,
     "metadata": {},
     "output_type": "execute_result"
    }
   ],
   "source": [
    "df.isocode.value_counts()"
   ]
  },
  {
   "cell_type": "markdown",
   "metadata": {
    "colab_type": "text",
    "id": "gyaY9KiIfHjQ"
   },
   "source": [
    "Criado um `dataframe` a partir do dataset fornecido, verificamos que a variável rtfpna não apresenta possíveis outliers e também não possui variáveis nulas. A contagem de inputs relacionada a cada pais é de igual valor para todos(62 entradas para cada pais)."
   ]
  },
  {
   "cell_type": "markdown",
   "metadata": {
    "colab_type": "text",
    "id": "n1Uj373igs4m"
   },
   "source": [
    "##EUA"
   ]
  },
  {
   "cell_type": "code",
   "execution_count": 9,
   "metadata": {
    "colab": {
     "base_uri": "https://localhost:8080/",
     "height": 195
    },
    "colab_type": "code",
    "executionInfo": {
     "elapsed": 1048,
     "status": "ok",
     "timestamp": 1594096882094,
     "user": {
      "displayName": "Giovanni Sá Barreto",
      "photoUrl": "",
      "userId": "12625235111421277305"
     },
     "user_tz": 180
    },
    "id": "-phCtPDEb_kx",
    "outputId": "a2dba5c1-8e49-4f3c-fdf8-1ae94ca8b022"
   },
   "outputs": [
    {
     "data": {
      "text/html": [
       "<div>\n",
       "<style scoped>\n",
       "    .dataframe tbody tr th:only-of-type {\n",
       "        vertical-align: middle;\n",
       "    }\n",
       "\n",
       "    .dataframe tbody tr th {\n",
       "        vertical-align: top;\n",
       "    }\n",
       "\n",
       "    .dataframe thead th {\n",
       "        text-align: right;\n",
       "    }\n",
       "</style>\n",
       "<table border=\"1\" class=\"dataframe\">\n",
       "  <thead>\n",
       "    <tr style=\"text-align: right;\">\n",
       "      <th></th>\n",
       "      <th>isocode</th>\n",
       "      <th>year</th>\n",
       "      <th>rtfpna</th>\n",
       "    </tr>\n",
       "  </thead>\n",
       "  <tbody>\n",
       "    <tr>\n",
       "      <th>57</th>\n",
       "      <td>USA</td>\n",
       "      <td>2007</td>\n",
       "      <td>1.006595</td>\n",
       "    </tr>\n",
       "    <tr>\n",
       "      <th>58</th>\n",
       "      <td>USA</td>\n",
       "      <td>2008</td>\n",
       "      <td>0.998499</td>\n",
       "    </tr>\n",
       "    <tr>\n",
       "      <th>59</th>\n",
       "      <td>USA</td>\n",
       "      <td>2009</td>\n",
       "      <td>0.986738</td>\n",
       "    </tr>\n",
       "    <tr>\n",
       "      <th>60</th>\n",
       "      <td>USA</td>\n",
       "      <td>2010</td>\n",
       "      <td>1.009463</td>\n",
       "    </tr>\n",
       "    <tr>\n",
       "      <th>61</th>\n",
       "      <td>USA</td>\n",
       "      <td>2011</td>\n",
       "      <td>1.020392</td>\n",
       "    </tr>\n",
       "  </tbody>\n",
       "</table>\n",
       "</div>"
      ],
      "text/plain": [
       "   isocode  year    rtfpna\n",
       "57     USA  2007  1.006595\n",
       "58     USA  2008  0.998499\n",
       "59     USA  2009  0.986738\n",
       "60     USA  2010  1.009463\n",
       "61     USA  2011  1.020392"
      ]
     },
     "execution_count": 9,
     "metadata": {},
     "output_type": "execute_result"
    }
   ],
   "source": [
    "df_usa = df.loc[df.isocode == 'USA'].copy()\n",
    "df_usa.tail()"
   ]
  },
  {
   "cell_type": "code",
   "execution_count": 10,
   "metadata": {
    "colab": {
     "base_uri": "https://localhost:8080/",
     "height": 284
    },
    "colab_type": "code",
    "executionInfo": {
     "elapsed": 666,
     "status": "ok",
     "timestamp": 1594096984436,
     "user": {
      "displayName": "Giovanni Sá Barreto",
      "photoUrl": "",
      "userId": "12625235111421277305"
     },
     "user_tz": 180
    },
    "id": "IPqgovNxhfW9",
    "outputId": "1dd22cb5-c8da-43a3-d35a-969b4bfa6ef0"
   },
   "outputs": [
    {
     "data": {
      "text/html": [
       "<div>\n",
       "<style scoped>\n",
       "    .dataframe tbody tr th:only-of-type {\n",
       "        vertical-align: middle;\n",
       "    }\n",
       "\n",
       "    .dataframe tbody tr th {\n",
       "        vertical-align: top;\n",
       "    }\n",
       "\n",
       "    .dataframe thead th {\n",
       "        text-align: right;\n",
       "    }\n",
       "</style>\n",
       "<table border=\"1\" class=\"dataframe\">\n",
       "  <thead>\n",
       "    <tr style=\"text-align: right;\">\n",
       "      <th></th>\n",
       "      <th>year</th>\n",
       "      <th>rtfpna</th>\n",
       "    </tr>\n",
       "  </thead>\n",
       "  <tbody>\n",
       "    <tr>\n",
       "      <th>count</th>\n",
       "      <td>62.000000</td>\n",
       "      <td>62.000000</td>\n",
       "    </tr>\n",
       "    <tr>\n",
       "      <th>mean</th>\n",
       "      <td>1980.500000</td>\n",
       "      <td>0.803824</td>\n",
       "    </tr>\n",
       "    <tr>\n",
       "      <th>std</th>\n",
       "      <td>18.041619</td>\n",
       "      <td>0.116121</td>\n",
       "    </tr>\n",
       "    <tr>\n",
       "      <th>min</th>\n",
       "      <td>1950.000000</td>\n",
       "      <td>0.617148</td>\n",
       "    </tr>\n",
       "    <tr>\n",
       "      <th>25%</th>\n",
       "      <td>1965.250000</td>\n",
       "      <td>0.739949</td>\n",
       "    </tr>\n",
       "    <tr>\n",
       "      <th>50%</th>\n",
       "      <td>1980.500000</td>\n",
       "      <td>0.766047</td>\n",
       "    </tr>\n",
       "    <tr>\n",
       "      <th>75%</th>\n",
       "      <td>1995.750000</td>\n",
       "      <td>0.880544</td>\n",
       "    </tr>\n",
       "    <tr>\n",
       "      <th>max</th>\n",
       "      <td>2011.000000</td>\n",
       "      <td>1.020392</td>\n",
       "    </tr>\n",
       "  </tbody>\n",
       "</table>\n",
       "</div>"
      ],
      "text/plain": [
       "              year     rtfpna\n",
       "count    62.000000  62.000000\n",
       "mean   1980.500000   0.803824\n",
       "std      18.041619   0.116121\n",
       "min    1950.000000   0.617148\n",
       "25%    1965.250000   0.739949\n",
       "50%    1980.500000   0.766047\n",
       "75%    1995.750000   0.880544\n",
       "max    2011.000000   1.020392"
      ]
     },
     "execution_count": 10,
     "metadata": {},
     "output_type": "execute_result"
    }
   ],
   "source": [
    "df_usa.describe()"
   ]
  },
  {
   "cell_type": "code",
   "execution_count": 11,
   "metadata": {
    "colab": {
     "base_uri": "https://localhost:8080/",
     "height": 282
    },
    "colab_type": "code",
    "executionInfo": {
     "elapsed": 626,
     "status": "ok",
     "timestamp": 1594096997728,
     "user": {
      "displayName": "Giovanni Sá Barreto",
      "photoUrl": "",
      "userId": "12625235111421277305"
     },
     "user_tz": 180
    },
    "id": "BE7k2NiOlWqd",
    "outputId": "9eef6efd-1c8f-4f1d-c019-f4c77e55fedd"
   },
   "outputs": [
    {
     "data": {
      "text/plain": [
       "<matplotlib.axes._subplots.AxesSubplot at 0x12c82116f08>"
      ]
     },
     "execution_count": 11,
     "metadata": {},
     "output_type": "execute_result"
    },
    {
     "data": {
      "image/png": "[encoded data removed]",
      "text/plain": [
       "<Figure size 432x288 with 1 Axes>"
      ]
     },
     "metadata": {
      "needs_background": "light"
     },
     "output_type": "display_data"
    }
   ],
   "source": [
    "df_usa.boxplot()"
   ]
  },
  {
   "cell_type": "markdown",
   "metadata": {
    "colab_type": "text",
    "id": "mP3-a_l4hitf"
   },
   "source": [
    "A partir do gráfico boxplot, não observamos outliers nos dados dos Estados Unidos."
   ]
  },
  {
   "cell_type": "code",
   "execution_count": 12,
   "metadata": {
    "colab": {
     "base_uri": "https://localhost:8080/",
     "height": 225
    },
    "colab_type": "code",
    "executionInfo": {
     "elapsed": 1028,
     "status": "ok",
     "timestamp": 1594096882096,
     "user": {
      "displayName": "Giovanni Sá Barreto",
      "photoUrl": "",
      "userId": "12625235111421277305"
     },
     "user_tz": 180
    },
    "id": "bPkf1MVbcMhp",
    "outputId": "200f8042-8107-4151-a69c-1995addf2859"
   },
   "outputs": [
    {
     "data": {
      "text/html": [
       "<div>\n",
       "<style scoped>\n",
       "    .dataframe tbody tr th:only-of-type {\n",
       "        vertical-align: middle;\n",
       "    }\n",
       "\n",
       "    .dataframe tbody tr th {\n",
       "        vertical-align: top;\n",
       "    }\n",
       "\n",
       "    .dataframe thead th {\n",
       "        text-align: right;\n",
       "    }\n",
       "</style>\n",
       "<table border=\"1\" class=\"dataframe\">\n",
       "  <thead>\n",
       "    <tr style=\"text-align: right;\">\n",
       "      <th></th>\n",
       "      <th>isocode</th>\n",
       "      <th>rtfpna</th>\n",
       "    </tr>\n",
       "    <tr>\n",
       "      <th>year</th>\n",
       "      <th></th>\n",
       "      <th></th>\n",
       "    </tr>\n",
       "  </thead>\n",
       "  <tbody>\n",
       "    <tr>\n",
       "      <th>1950-01-01</th>\n",
       "      <td>USA</td>\n",
       "      <td>0.617148</td>\n",
       "    </tr>\n",
       "    <tr>\n",
       "      <th>1951-01-01</th>\n",
       "      <td>USA</td>\n",
       "      <td>0.629588</td>\n",
       "    </tr>\n",
       "    <tr>\n",
       "      <th>1952-01-01</th>\n",
       "      <td>USA</td>\n",
       "      <td>0.638451</td>\n",
       "    </tr>\n",
       "    <tr>\n",
       "      <th>1953-01-01</th>\n",
       "      <td>USA</td>\n",
       "      <td>0.651858</td>\n",
       "    </tr>\n",
       "    <tr>\n",
       "      <th>1954-01-01</th>\n",
       "      <td>USA</td>\n",
       "      <td>0.646179</td>\n",
       "    </tr>\n",
       "  </tbody>\n",
       "</table>\n",
       "</div>"
      ],
      "text/plain": [
       "           isocode    rtfpna\n",
       "year                        \n",
       "1950-01-01     USA  0.617148\n",
       "1951-01-01     USA  0.629588\n",
       "1952-01-01     USA  0.638451\n",
       "1953-01-01     USA  0.651858\n",
       "1954-01-01     USA  0.646179"
      ]
     },
     "execution_count": 12,
     "metadata": {},
     "output_type": "execute_result"
    }
   ],
   "source": [
    "df_usa.index = pd.to_datetime(df_usa.year, format='%Y')\n",
    "df_usa.drop('year', inplace=True, axis=1)\n",
    "\n",
    "df_usa.head()"
   ]
  },
  {
   "cell_type": "code",
   "execution_count": 13,
   "metadata": {
    "colab": {
     "base_uri": "https://localhost:8080/",
     "height": 218
    },
    "colab_type": "code",
    "executionInfo": {
     "elapsed": 1021,
     "status": "ok",
     "timestamp": 1594096882097,
     "user": {
      "displayName": "Giovanni Sá Barreto",
      "photoUrl": "",
      "userId": "12625235111421277305"
     },
     "user_tz": 180
    },
    "id": "FWwYwsaIqfLr",
    "outputId": "f71abc51-a7cf-4531-bcd6-7c23ca33cf6c"
   },
   "outputs": [
    {
     "data": {
      "text/plain": [
       "year\n",
       "1950-01-01    0.617148\n",
       "1951-01-01    0.629588\n",
       "1952-01-01    0.638451\n",
       "1953-01-01    0.651858\n",
       "1954-01-01    0.646179\n",
       "1955-01-01    0.668773\n",
       "1956-01-01    0.661000\n",
       "1957-01-01    0.662165\n",
       "1958-01-01    0.654813\n",
       "1959-01-01    0.680680\n",
       "Name: rtfpna, dtype: float64"
      ]
     },
     "execution_count": 13,
     "metadata": {},
     "output_type": "execute_result"
    }
   ],
   "source": [
    "ts = df_usa.rtfpna \n",
    "\n",
    "ts.head(10)"
   ]
  },
  {
   "cell_type": "markdown",
   "metadata": {
    "colab_type": "text",
    "id": "IPthPtZ4fu8G"
   },
   "source": [
    "Para poder avaliar de forma individual a variável `rtfpna` de cada pais, crio outros dataframes individuais de cada país. Iniciando com os Estados Unidos."
   ]
  },
  {
   "cell_type": "code",
   "execution_count": 14,
   "metadata": {
    "colab": {
     "base_uri": "https://localhost:8080/",
     "height": 374
    },
    "colab_type": "code",
    "executionInfo": {
     "elapsed": 1456,
     "status": "ok",
     "timestamp": 1594096882539,
     "user": {
      "displayName": "Giovanni Sá Barreto",
      "photoUrl": "",
      "userId": "12625235111421277305"
     },
     "user_tz": 180
    },
    "id": "SYeIjW23Ipmb",
    "outputId": "694c71d4-93d8-4d94-b6c2-7e3a68f83aaa"
   },
   "outputs": [
    {
     "data": {
      "image/png": "[encoded data removed]",
      "text/plain": [
       "<Figure size 576x432 with 1 Axes>"
      ]
     },
     "metadata": {
      "needs_background": "light"
     },
     "output_type": "display_data"
    }
   ],
   "source": [
    "fig, ax = plt.subplots(figsize=(8,6))\n",
    "\n",
    "ax.plot(ts);"
   ]
  },
  {
   "cell_type": "markdown",
   "metadata": {
    "colab_type": "text",
    "id": "T_64GbXBgHh8"
   },
   "source": [
    "A partir do gráfico acima, podemos ver que o índice `rtfpna` cresce ao longo do tempo, onde podemos observar uma pequena queda entre o final dos anos 70 e meados dos anos 80 mas, logo se observa uma recuperação."
   ]
  },
  {
   "cell_type": "code",
   "execution_count": 15,
   "metadata": {
    "colab": {},
    "colab_type": "code",
    "executionInfo": {
     "elapsed": 1450,
     "status": "ok",
     "timestamp": 1594096882540,
     "user": {
      "displayName": "Giovanni Sá Barreto",
      "photoUrl": "",
      "userId": "12625235111421277305"
     },
     "user_tz": 180
    },
    "id": "5b0TuNTtMwXn"
   },
   "outputs": [],
   "source": [
    "from statsmodels.tsa.stattools import adfuller\n",
    "def test_stationarity(timeseries):\n",
    "    \n",
    "    #Determing rolling statistics\n",
    "    rolmean = timeseries.rolling(12).mean()  #pd.rolling_mean(timeseries, window=12)\n",
    "    rolstd = timeseries.rolling(window=12).std()  #pd.rolling_std(timeseries, window=12)\n",
    "\n",
    "    #Plot rolling statistics:\n",
    "    orig = plt.plot(timeseries, color='blue',label='Original')\n",
    "    mean = plt.plot(rolmean, color='red', label='Rolling Mean')\n",
    "    std = plt.plot(rolstd, color='black', label = 'Rolling Std')\n",
    "    plt.legend(loc='best')\n",
    "    plt.title('Rolling Mean & Standard Deviation')\n",
    "    plt.show(block=False)\n",
    "    \n",
    "    #Perform Dickey-Fuller test:\n",
    "    print('Results of Dickey-Fuller Test:')\n",
    "    dftest = adfuller(timeseries, autolag='AIC')\n",
    "    dfoutput = pd.Series(dftest[0:4], index=['Test Statistic','p-value','#Lags Used','Number of Observations Used'])\n",
    "    for key,value in dftest[4].items():\n",
    "        dfoutput['Critical Value (%s)'%key] = value\n",
    "    print(dfoutput)"
   ]
  },
  {
   "cell_type": "code",
   "execution_count": 16,
   "metadata": {
    "colab": {
     "base_uri": "https://localhost:8080/",
     "height": 432
    },
    "colab_type": "code",
    "executionInfo": {
     "elapsed": 2160,
     "status": "ok",
     "timestamp": 1594096883256,
     "user": {
      "displayName": "Giovanni Sá Barreto",
      "photoUrl": "",
      "userId": "12625235111421277305"
     },
     "user_tz": 180
    },
    "id": "T_gkwjNfPEv_",
    "outputId": "41a13ea6-c45b-4c7f-9eff-a8c8fb0c63b5"
   },
   "outputs": [
    {
     "data": {
      "image/png": "[encoded data removed]",
      "text/plain": [
       "<Figure size 432x288 with 1 Axes>"
      ]
     },
     "metadata": {
      "needs_background": "light"
     },
     "output_type": "display_data"
    },
    {
     "name": "stdout",
     "output_type": "stream",
     "text": [
      "Results of Dickey-Fuller Test:\n",
      "Test Statistic                  0.223647\n",
      "p-value                         0.973557\n",
      "#Lags Used                      0.000000\n",
      "Number of Observations Used    61.000000\n",
      "Critical Value (1%)            -3.542413\n",
      "Critical Value (5%)            -2.910236\n",
      "Critical Value (10%)           -2.592745\n",
      "dtype: float64\n"
     ]
    }
   ],
   "source": [
    "test_stationarity(ts)"
   ]
  },
  {
   "cell_type": "markdown",
   "metadata": {
    "colab_type": "text",
    "id": "x4e3kO0AgzuF"
   },
   "source": [
    "Observamos que a média acompanha a evolução do gráfico e que nosso dataframe é uma série não-estacionária."
   ]
  },
  {
   "cell_type": "markdown",
   "metadata": {
    "colab_type": "text",
    "id": "oIrIjDtYgyAn"
   },
   "source": [
    "##CAN"
   ]
  },
  {
   "cell_type": "markdown",
   "metadata": {
    "colab_type": "text",
    "id": "HSakk6GbhLiq"
   },
   "source": [
    "Da mesma forma que fizemos com os dados dos Estados unidos, iremos fazer com os dados do Canadá."
   ]
  },
  {
   "cell_type": "code",
   "execution_count": 17,
   "metadata": {
    "colab": {
     "base_uri": "https://localhost:8080/",
     "height": 195
    },
    "colab_type": "code",
    "executionInfo": {
     "elapsed": 2154,
     "status": "ok",
     "timestamp": 1594096883257,
     "user": {
      "displayName": "Giovanni Sá Barreto",
      "photoUrl": "",
      "userId": "12625235111421277305"
     },
     "user_tz": 180
    },
    "id": "zaJICqhbcxLc",
    "outputId": "85f6735a-9f30-432c-fb98-6c5d432ad17d"
   },
   "outputs": [
    {
     "data": {
      "text/html": [
       "<div>\n",
       "<style scoped>\n",
       "    .dataframe tbody tr th:only-of-type {\n",
       "        vertical-align: middle;\n",
       "    }\n",
       "\n",
       "    .dataframe tbody tr th {\n",
       "        vertical-align: top;\n",
       "    }\n",
       "\n",
       "    .dataframe thead th {\n",
       "        text-align: right;\n",
       "    }\n",
       "</style>\n",
       "<table border=\"1\" class=\"dataframe\">\n",
       "  <thead>\n",
       "    <tr style=\"text-align: right;\">\n",
       "      <th></th>\n",
       "      <th>isocode</th>\n",
       "      <th>year</th>\n",
       "      <th>rtfpna</th>\n",
       "    </tr>\n",
       "  </thead>\n",
       "  <tbody>\n",
       "    <tr>\n",
       "      <th>119</th>\n",
       "      <td>CAN</td>\n",
       "      <td>2007</td>\n",
       "      <td>0.981433</td>\n",
       "    </tr>\n",
       "    <tr>\n",
       "      <th>120</th>\n",
       "      <td>CAN</td>\n",
       "      <td>2008</td>\n",
       "      <td>0.958357</td>\n",
       "    </tr>\n",
       "    <tr>\n",
       "      <th>121</th>\n",
       "      <td>CAN</td>\n",
       "      <td>2009</td>\n",
       "      <td>0.926482</td>\n",
       "    </tr>\n",
       "    <tr>\n",
       "      <th>122</th>\n",
       "      <td>CAN</td>\n",
       "      <td>2010</td>\n",
       "      <td>0.932567</td>\n",
       "    </tr>\n",
       "    <tr>\n",
       "      <th>123</th>\n",
       "      <td>CAN</td>\n",
       "      <td>2011</td>\n",
       "      <td>0.929405</td>\n",
       "    </tr>\n",
       "  </tbody>\n",
       "</table>\n",
       "</div>"
      ],
      "text/plain": [
       "    isocode  year    rtfpna\n",
       "119     CAN  2007  0.981433\n",
       "120     CAN  2008  0.958357\n",
       "121     CAN  2009  0.926482\n",
       "122     CAN  2010  0.932567\n",
       "123     CAN  2011  0.929405"
      ]
     },
     "execution_count": 17,
     "metadata": {},
     "output_type": "execute_result"
    }
   ],
   "source": [
    "df_can = df.loc[df.isocode == 'CAN'].copy()\n",
    "\n",
    "df_can.tail()"
   ]
  },
  {
   "cell_type": "code",
   "execution_count": 18,
   "metadata": {
    "colab": {
     "base_uri": "https://localhost:8080/",
     "height": 225
    },
    "colab_type": "code",
    "executionInfo": {
     "elapsed": 2148,
     "status": "ok",
     "timestamp": 1594096883257,
     "user": {
      "displayName": "Giovanni Sá Barreto",
      "photoUrl": "",
      "userId": "12625235111421277305"
     },
     "user_tz": 180
    },
    "id": "9_sRij5ldE0D",
    "outputId": "7bb75497-3d4f-4fa0-ebaa-fa10ecb296d8"
   },
   "outputs": [
    {
     "data": {
      "text/html": [
       "<div>\n",
       "<style scoped>\n",
       "    .dataframe tbody tr th:only-of-type {\n",
       "        vertical-align: middle;\n",
       "    }\n",
       "\n",
       "    .dataframe tbody tr th {\n",
       "        vertical-align: top;\n",
       "    }\n",
       "\n",
       "    .dataframe thead th {\n",
       "        text-align: right;\n",
       "    }\n",
       "</style>\n",
       "<table border=\"1\" class=\"dataframe\">\n",
       "  <thead>\n",
       "    <tr style=\"text-align: right;\">\n",
       "      <th></th>\n",
       "      <th>isocode</th>\n",
       "      <th>rtfpna</th>\n",
       "    </tr>\n",
       "    <tr>\n",
       "      <th>year</th>\n",
       "      <th></th>\n",
       "      <th></th>\n",
       "    </tr>\n",
       "  </thead>\n",
       "  <tbody>\n",
       "    <tr>\n",
       "      <th>1950-01-01</th>\n",
       "      <td>CAN</td>\n",
       "      <td>0.843335</td>\n",
       "    </tr>\n",
       "    <tr>\n",
       "      <th>1951-01-01</th>\n",
       "      <td>CAN</td>\n",
       "      <td>0.855123</td>\n",
       "    </tr>\n",
       "    <tr>\n",
       "      <th>1952-01-01</th>\n",
       "      <td>CAN</td>\n",
       "      <td>0.896489</td>\n",
       "    </tr>\n",
       "    <tr>\n",
       "      <th>1953-01-01</th>\n",
       "      <td>CAN</td>\n",
       "      <td>0.910658</td>\n",
       "    </tr>\n",
       "    <tr>\n",
       "      <th>1954-01-01</th>\n",
       "      <td>CAN</td>\n",
       "      <td>0.875178</td>\n",
       "    </tr>\n",
       "  </tbody>\n",
       "</table>\n",
       "</div>"
      ],
      "text/plain": [
       "           isocode    rtfpna\n",
       "year                        \n",
       "1950-01-01     CAN  0.843335\n",
       "1951-01-01     CAN  0.855123\n",
       "1952-01-01     CAN  0.896489\n",
       "1953-01-01     CAN  0.910658\n",
       "1954-01-01     CAN  0.875178"
      ]
     },
     "execution_count": 18,
     "metadata": {},
     "output_type": "execute_result"
    }
   ],
   "source": [
    "df_can.index = pd.to_datetime(df_can.year, format='%Y')\n",
    "df_can.drop('year', inplace=True, axis=1)\n",
    "\n",
    "df_can.head()"
   ]
  },
  {
   "cell_type": "code",
   "execution_count": 19,
   "metadata": {
    "colab": {
     "base_uri": "https://localhost:8080/",
     "height": 284
    },
    "colab_type": "code",
    "executionInfo": {
     "elapsed": 684,
     "status": "ok",
     "timestamp": 1594097039377,
     "user": {
      "displayName": "Giovanni Sá Barreto",
      "photoUrl": "",
      "userId": "12625235111421277305"
     },
     "user_tz": 180
    },
    "id": "cA-Cq72Yll8a",
    "outputId": "9de6d627-da87-4cd9-e4c7-8b0d40a22c18"
   },
   "outputs": [
    {
     "data": {
      "text/html": [
       "<div>\n",
       "<style scoped>\n",
       "    .dataframe tbody tr th:only-of-type {\n",
       "        vertical-align: middle;\n",
       "    }\n",
       "\n",
       "    .dataframe tbody tr th {\n",
       "        vertical-align: top;\n",
       "    }\n",
       "\n",
       "    .dataframe thead th {\n",
       "        text-align: right;\n",
       "    }\n",
       "</style>\n",
       "<table border=\"1\" class=\"dataframe\">\n",
       "  <thead>\n",
       "    <tr style=\"text-align: right;\">\n",
       "      <th></th>\n",
       "      <th>rtfpna</th>\n",
       "    </tr>\n",
       "  </thead>\n",
       "  <tbody>\n",
       "    <tr>\n",
       "      <th>count</th>\n",
       "      <td>62.000000</td>\n",
       "    </tr>\n",
       "    <tr>\n",
       "      <th>mean</th>\n",
       "      <td>0.992886</td>\n",
       "    </tr>\n",
       "    <tr>\n",
       "      <th>std</th>\n",
       "      <td>0.050126</td>\n",
       "    </tr>\n",
       "    <tr>\n",
       "      <th>min</th>\n",
       "      <td>0.843335</td>\n",
       "    </tr>\n",
       "    <tr>\n",
       "      <th>25%</th>\n",
       "      <td>0.973294</td>\n",
       "    </tr>\n",
       "    <tr>\n",
       "      <th>50%</th>\n",
       "      <td>1.004211</td>\n",
       "    </tr>\n",
       "    <tr>\n",
       "      <th>75%</th>\n",
       "      <td>1.029513</td>\n",
       "    </tr>\n",
       "    <tr>\n",
       "      <th>max</th>\n",
       "      <td>1.066104</td>\n",
       "    </tr>\n",
       "  </tbody>\n",
       "</table>\n",
       "</div>"
      ],
      "text/plain": [
       "          rtfpna\n",
       "count  62.000000\n",
       "mean    0.992886\n",
       "std     0.050126\n",
       "min     0.843335\n",
       "25%     0.973294\n",
       "50%     1.004211\n",
       "75%     1.029513\n",
       "max     1.066104"
      ]
     },
     "execution_count": 19,
     "metadata": {},
     "output_type": "execute_result"
    }
   ],
   "source": [
    "df_can.describe()"
   ]
  },
  {
   "cell_type": "code",
   "execution_count": 20,
   "metadata": {
    "colab": {
     "base_uri": "https://localhost:8080/",
     "height": 282
    },
    "colab_type": "code",
    "executionInfo": {
     "elapsed": 628,
     "status": "ok",
     "timestamp": 1594097048774,
     "user": {
      "displayName": "Giovanni Sá Barreto",
      "photoUrl": "",
      "userId": "12625235111421277305"
     },
     "user_tz": 180
    },
    "id": "pT-ekut0ln0v",
    "outputId": "293ffd97-069f-46fd-92e7-c07e032322c3"
   },
   "outputs": [
    {
     "data": {
      "text/plain": [
       "<matplotlib.axes._subplots.AxesSubplot at 0x12c850baa88>"
      ]
     },
     "execution_count": 20,
     "metadata": {},
     "output_type": "execute_result"
    },
    {
     "data": {
      "image/png": "[encoded data removed]",
      "text/plain": [
       "<Figure size 432x288 with 1 Axes>"
      ]
     },
     "metadata": {
      "needs_background": "light"
     },
     "output_type": "display_data"
    }
   ],
   "source": [
    "df_can.boxplot()"
   ]
  },
  {
   "cell_type": "markdown",
   "metadata": {
    "colab_type": "text",
    "id": "c9pjin9llryY"
   },
   "source": [
    "Nos dados do Canadá podemos observar um número não significativo de outliers abaixo do valor mínimo no gráfico boxplot."
   ]
  },
  {
   "cell_type": "code",
   "execution_count": 21,
   "metadata": {
    "colab": {
     "base_uri": "https://localhost:8080/",
     "height": 374
    },
    "colab_type": "code",
    "executionInfo": {
     "elapsed": 2137,
     "status": "ok",
     "timestamp": 1594096883258,
     "user": {
      "displayName": "Giovanni Sá Barreto",
      "photoUrl": "",
      "userId": "12625235111421277305"
     },
     "user_tz": 180
    },
    "id": "jdDlhFPSdVFq",
    "outputId": "ca584646-c208-46ba-ffc1-bbb287b25d2b"
   },
   "outputs": [
    {
     "data": {
      "image/png": "[encoded data removed]",
      "text/plain": [
       "<Figure size 576x432 with 1 Axes>"
      ]
     },
     "metadata": {
      "needs_background": "light"
     },
     "output_type": "display_data"
    }
   ],
   "source": [
    "ts = df_can.rtfpna \n",
    "fig, ax = plt.subplots(figsize=(8,6))\n",
    "\n",
    "ax.plot(ts);"
   ]
  },
  {
   "cell_type": "markdown",
   "metadata": {
    "colab_type": "text",
    "id": "-YnpooMol4yL"
   },
   "source": [
    "O comportamento dos valores no gráfico oscila bastante, tendo picos em meados dos anos 70 e nos anos 2000."
   ]
  },
  {
   "cell_type": "code",
   "execution_count": 22,
   "metadata": {
    "colab": {
     "base_uri": "https://localhost:8080/",
     "height": 432
    },
    "colab_type": "code",
    "executionInfo": {
     "elapsed": 2127,
     "status": "ok",
     "timestamp": 1594096883259,
     "user": {
      "displayName": "Giovanni Sá Barreto",
      "photoUrl": "",
      "userId": "12625235111421277305"
     },
     "user_tz": 180
    },
    "id": "BmrhvcMZdnej",
    "outputId": "1830cdbf-e706-4513-b415-37b849a0abdf"
   },
   "outputs": [
    {
     "data": {
      "image/png": "[encoded data removed]",
      "text/plain": [
       "<Figure size 432x288 with 1 Axes>"
      ]
     },
     "metadata": {
      "needs_background": "light"
     },
     "output_type": "display_data"
    },
    {
     "name": "stdout",
     "output_type": "stream",
     "text": [
      "Results of Dickey-Fuller Test:\n",
      "Test Statistic                 -3.027753\n",
      "p-value                         0.032383\n",
      "#Lags Used                      1.000000\n",
      "Number of Observations Used    60.000000\n",
      "Critical Value (1%)            -3.544369\n",
      "Critical Value (5%)            -2.911073\n",
      "Critical Value (10%)           -2.593190\n",
      "dtype: float64\n"
     ]
    }
   ],
   "source": [
    "test_stationarity(ts)"
   ]
  },
  {
   "cell_type": "markdown",
   "metadata": {
    "colab_type": "text",
    "id": "njWcxH7ImIGK"
   },
   "source": [
    "Com uma média quase que constante, os dados referente ao Canadá são mais próximos de uma série estacionária."
   ]
  },
  {
   "cell_type": "markdown",
   "metadata": {
    "colab_type": "text",
    "id": "p_wBs7iRhICO"
   },
   "source": [
    "##MEX"
   ]
  },
  {
   "cell_type": "code",
   "execution_count": 23,
   "metadata": {
    "colab": {
     "base_uri": "https://localhost:8080/",
     "height": 195
    },
    "colab_type": "code",
    "executionInfo": {
     "elapsed": 2120,
     "status": "ok",
     "timestamp": 1594096883260,
     "user": {
      "displayName": "Giovanni Sá Barreto",
      "photoUrl": "",
      "userId": "12625235111421277305"
     },
     "user_tz": 180
    },
    "id": "yhG4TSG-dtDs",
    "outputId": "b5af53fd-fefd-4ba0-8754-9c506069eceb"
   },
   "outputs": [
    {
     "data": {
      "text/html": [
       "<div>\n",
       "<style scoped>\n",
       "    .dataframe tbody tr th:only-of-type {\n",
       "        vertical-align: middle;\n",
       "    }\n",
       "\n",
       "    .dataframe tbody tr th {\n",
       "        vertical-align: top;\n",
       "    }\n",
       "\n",
       "    .dataframe thead th {\n",
       "        text-align: right;\n",
       "    }\n",
       "</style>\n",
       "<table border=\"1\" class=\"dataframe\">\n",
       "  <thead>\n",
       "    <tr style=\"text-align: right;\">\n",
       "      <th></th>\n",
       "      <th>isocode</th>\n",
       "      <th>year</th>\n",
       "      <th>rtfpna</th>\n",
       "    </tr>\n",
       "  </thead>\n",
       "  <tbody>\n",
       "    <tr>\n",
       "      <th>181</th>\n",
       "      <td>MEX</td>\n",
       "      <td>2007</td>\n",
       "      <td>1.013673</td>\n",
       "    </tr>\n",
       "    <tr>\n",
       "      <th>182</th>\n",
       "      <td>MEX</td>\n",
       "      <td>2008</td>\n",
       "      <td>0.991548</td>\n",
       "    </tr>\n",
       "    <tr>\n",
       "      <th>183</th>\n",
       "      <td>MEX</td>\n",
       "      <td>2009</td>\n",
       "      <td>0.915879</td>\n",
       "    </tr>\n",
       "    <tr>\n",
       "      <th>184</th>\n",
       "      <td>MEX</td>\n",
       "      <td>2010</td>\n",
       "      <td>0.941604</td>\n",
       "    </tr>\n",
       "    <tr>\n",
       "      <th>185</th>\n",
       "      <td>MEX</td>\n",
       "      <td>2011</td>\n",
       "      <td>0.955766</td>\n",
       "    </tr>\n",
       "  </tbody>\n",
       "</table>\n",
       "</div>"
      ],
      "text/plain": [
       "    isocode  year    rtfpna\n",
       "181     MEX  2007  1.013673\n",
       "182     MEX  2008  0.991548\n",
       "183     MEX  2009  0.915879\n",
       "184     MEX  2010  0.941604\n",
       "185     MEX  2011  0.955766"
      ]
     },
     "execution_count": 23,
     "metadata": {},
     "output_type": "execute_result"
    }
   ],
   "source": [
    "df_mex = df.loc[df.isocode == 'MEX'].copy()\n",
    "df_mex.tail()"
   ]
  },
  {
   "cell_type": "code",
   "execution_count": 24,
   "metadata": {
    "colab": {
     "base_uri": "https://localhost:8080/",
     "height": 225
    },
    "colab_type": "code",
    "executionInfo": {
     "elapsed": 2112,
     "status": "ok",
     "timestamp": 1594096883260,
     "user": {
      "displayName": "Giovanni Sá Barreto",
      "photoUrl": "",
      "userId": "12625235111421277305"
     },
     "user_tz": 180
    },
    "id": "aE1cAHwWd58F",
    "outputId": "27ac901c-26de-482d-8abc-0bec41073c11"
   },
   "outputs": [
    {
     "data": {
      "text/html": [
       "<div>\n",
       "<style scoped>\n",
       "    .dataframe tbody tr th:only-of-type {\n",
       "        vertical-align: middle;\n",
       "    }\n",
       "\n",
       "    .dataframe tbody tr th {\n",
       "        vertical-align: top;\n",
       "    }\n",
       "\n",
       "    .dataframe thead th {\n",
       "        text-align: right;\n",
       "    }\n",
       "</style>\n",
       "<table border=\"1\" class=\"dataframe\">\n",
       "  <thead>\n",
       "    <tr style=\"text-align: right;\">\n",
       "      <th></th>\n",
       "      <th>isocode</th>\n",
       "      <th>rtfpna</th>\n",
       "    </tr>\n",
       "    <tr>\n",
       "      <th>year</th>\n",
       "      <th></th>\n",
       "      <th></th>\n",
       "    </tr>\n",
       "  </thead>\n",
       "  <tbody>\n",
       "    <tr>\n",
       "      <th>1950-01-01</th>\n",
       "      <td>MEX</td>\n",
       "      <td>0.798159</td>\n",
       "    </tr>\n",
       "    <tr>\n",
       "      <th>1951-01-01</th>\n",
       "      <td>MEX</td>\n",
       "      <td>0.860931</td>\n",
       "    </tr>\n",
       "    <tr>\n",
       "      <th>1952-01-01</th>\n",
       "      <td>MEX</td>\n",
       "      <td>0.876968</td>\n",
       "    </tr>\n",
       "    <tr>\n",
       "      <th>1953-01-01</th>\n",
       "      <td>MEX</td>\n",
       "      <td>0.855204</td>\n",
       "    </tr>\n",
       "    <tr>\n",
       "      <th>1954-01-01</th>\n",
       "      <td>MEX</td>\n",
       "      <td>0.929168</td>\n",
       "    </tr>\n",
       "  </tbody>\n",
       "</table>\n",
       "</div>"
      ],
      "text/plain": [
       "           isocode    rtfpna\n",
       "year                        \n",
       "1950-01-01     MEX  0.798159\n",
       "1951-01-01     MEX  0.860931\n",
       "1952-01-01     MEX  0.876968\n",
       "1953-01-01     MEX  0.855204\n",
       "1954-01-01     MEX  0.929168"
      ]
     },
     "execution_count": 24,
     "metadata": {},
     "output_type": "execute_result"
    }
   ],
   "source": [
    "df_mex.index = pd.to_datetime(df_mex.year, format='%Y')\n",
    "df_mex.drop('year', inplace=True, axis=1)\n",
    "\n",
    "df_mex.head()"
   ]
  },
  {
   "cell_type": "code",
   "execution_count": 25,
   "metadata": {
    "colab": {
     "base_uri": "https://localhost:8080/",
     "height": 284
    },
    "colab_type": "code",
    "executionInfo": {
     "elapsed": 679,
     "status": "ok",
     "timestamp": 1594097263342,
     "user": {
      "displayName": "Giovanni Sá Barreto",
      "photoUrl": "",
      "userId": "12625235111421277305"
     },
     "user_tz": 180
    },
    "id": "BxwfvNskmcV9",
    "outputId": "fe4083f9-e0ce-4508-d21f-7dda6997f29f"
   },
   "outputs": [
    {
     "data": {
      "text/html": [
       "<div>\n",
       "<style scoped>\n",
       "    .dataframe tbody tr th:only-of-type {\n",
       "        vertical-align: middle;\n",
       "    }\n",
       "\n",
       "    .dataframe tbody tr th {\n",
       "        vertical-align: top;\n",
       "    }\n",
       "\n",
       "    .dataframe thead th {\n",
       "        text-align: right;\n",
       "    }\n",
       "</style>\n",
       "<table border=\"1\" class=\"dataframe\">\n",
       "  <thead>\n",
       "    <tr style=\"text-align: right;\">\n",
       "      <th></th>\n",
       "      <th>rtfpna</th>\n",
       "    </tr>\n",
       "  </thead>\n",
       "  <tbody>\n",
       "    <tr>\n",
       "      <th>count</th>\n",
       "      <td>62.000000</td>\n",
       "    </tr>\n",
       "    <tr>\n",
       "      <th>mean</th>\n",
       "      <td>1.130132</td>\n",
       "    </tr>\n",
       "    <tr>\n",
       "      <th>std</th>\n",
       "      <td>0.158209</td>\n",
       "    </tr>\n",
       "    <tr>\n",
       "      <th>min</th>\n",
       "      <td>0.798159</td>\n",
       "    </tr>\n",
       "    <tr>\n",
       "      <th>25%</th>\n",
       "      <td>1.012231</td>\n",
       "    </tr>\n",
       "    <tr>\n",
       "      <th>50%</th>\n",
       "      <td>1.093859</td>\n",
       "    </tr>\n",
       "    <tr>\n",
       "      <th>75%</th>\n",
       "      <td>1.299591</td>\n",
       "    </tr>\n",
       "    <tr>\n",
       "      <th>max</th>\n",
       "      <td>1.383718</td>\n",
       "    </tr>\n",
       "  </tbody>\n",
       "</table>\n",
       "</div>"
      ],
      "text/plain": [
       "          rtfpna\n",
       "count  62.000000\n",
       "mean    1.130132\n",
       "std     0.158209\n",
       "min     0.798159\n",
       "25%     1.012231\n",
       "50%     1.093859\n",
       "75%     1.299591\n",
       "max     1.383718"
      ]
     },
     "execution_count": 25,
     "metadata": {},
     "output_type": "execute_result"
    }
   ],
   "source": [
    "df_mex.describe()"
   ]
  },
  {
   "cell_type": "code",
   "execution_count": 26,
   "metadata": {
    "colab": {
     "base_uri": "https://localhost:8080/",
     "height": 282
    },
    "colab_type": "code",
    "executionInfo": {
     "elapsed": 704,
     "status": "ok",
     "timestamp": 1594097272560,
     "user": {
      "displayName": "Giovanni Sá Barreto",
      "photoUrl": "",
      "userId": "12625235111421277305"
     },
     "user_tz": 180
    },
    "id": "MUqSowlRmeg2",
    "outputId": "cda14745-6052-4e46-9d04-0bd8b8b48943"
   },
   "outputs": [
    {
     "data": {
      "text/plain": [
       "<matplotlib.axes._subplots.AxesSubplot at 0x12c85a31508>"
      ]
     },
     "execution_count": 26,
     "metadata": {},
     "output_type": "execute_result"
    },
    {
     "data": {
      "image/png": "[encoded data removed]",
      "text/plain": [
       "<Figure size 432x288 with 1 Axes>"
      ]
     },
     "metadata": {
      "needs_background": "light"
     },
     "output_type": "display_data"
    }
   ],
   "source": [
    "df_mex.boxplot()"
   ]
  },
  {
   "cell_type": "markdown",
   "metadata": {
    "colab_type": "text",
    "id": "5RRLkjfcmhrb"
   },
   "source": [
    "Assim como nos dados referente aos Estados Unido, no México não observamos outliers."
   ]
  },
  {
   "cell_type": "code",
   "execution_count": 27,
   "metadata": {
    "colab": {
     "base_uri": "https://localhost:8080/",
     "height": 374
    },
    "colab_type": "code",
    "executionInfo": {
     "elapsed": 2534,
     "status": "ok",
     "timestamp": 1594096883691,
     "user": {
      "displayName": "Giovanni Sá Barreto",
      "photoUrl": "",
      "userId": "12625235111421277305"
     },
     "user_tz": 180
    },
    "id": "pLTd7HyYeC43",
    "outputId": "c6e427a5-2f04-446d-f75e-1881cdef5c8e"
   },
   "outputs": [
    {
     "data": {
      "image/png": "[encoded data removed]",
      "text/plain": [
       "<Figure size 576x432 with 1 Axes>"
      ]
     },
     "metadata": {
      "needs_background": "light"
     },
     "output_type": "display_data"
    }
   ],
   "source": [
    "ts = df_mex.rtfpna \n",
    "fig, ax = plt.subplots(figsize=(8,6))\n",
    "\n",
    "ax.plot(ts);"
   ]
  },
  {
   "cell_type": "markdown",
   "metadata": {
    "colab_type": "text",
    "id": "JrrPYHbvms_B"
   },
   "source": [
    "O Valor do índice `rtfpna` teve uma ascenção desde os anos 50 até meados dos anos 70, desde então entrou em queda com pequenas recuperações mas não foram suficientes para manter seu valor mais constante."
   ]
  },
  {
   "cell_type": "code",
   "execution_count": 28,
   "metadata": {
    "colab": {
     "base_uri": "https://localhost:8080/",
     "height": 432
    },
    "colab_type": "code",
    "executionInfo": {
     "elapsed": 2525,
     "status": "ok",
     "timestamp": 1594096883692,
     "user": {
      "displayName": "Giovanni Sá Barreto",
      "photoUrl": "",
      "userId": "12625235111421277305"
     },
     "user_tz": 180
    },
    "id": "egGZhWmYeG2s",
    "outputId": "3e2c64ec-fa6d-449b-d971-a42598e1de69"
   },
   "outputs": [
    {
     "data": {
      "image/png": "[encoded data removed]",
      "text/plain": [
       "<Figure size 432x288 with 1 Axes>"
      ]
     },
     "metadata": {
      "needs_background": "light"
     },
     "output_type": "display_data"
    },
    {
     "name": "stdout",
     "output_type": "stream",
     "text": [
      "Results of Dickey-Fuller Test:\n",
      "Test Statistic                 -1.940444\n",
      "p-value                         0.313281\n",
      "#Lags Used                      9.000000\n",
      "Number of Observations Used    52.000000\n",
      "Critical Value (1%)            -3.562879\n",
      "Critical Value (5%)            -2.918973\n",
      "Critical Value (10%)           -2.597393\n",
      "dtype: float64\n"
     ]
    }
   ],
   "source": [
    "test_stationarity(ts)"
   ]
  },
  {
   "cell_type": "markdown",
   "metadata": {
    "colab_type": "text",
    "id": "JZWxrjnonLya"
   },
   "source": [
    "Com a oscilação da média, nossa série é considerada não-estacionária."
   ]
  },
  {
   "cell_type": "markdown",
   "metadata": {
    "colab_type": "text",
    "id": "dPsdU-kjnYOX"
   },
   "source": []
  },
  {
   "cell_type": "markdown",
   "metadata": {
    "colab_type": "text",
    "id": "6tBGcrncnguq"
   },
   "source": [
    "#Q3"
   ]
  },
  {
   "cell_type": "markdown",
   "metadata": {
    "colab_type": "text",
    "id": "oWhEKHNjnj6E"
   },
   "source": [
    "Referente ao link 'https://cran.r-project.org/web/packages/pwt8/pwt8.pdf'. Com o dataset completo, poderia ser feita predições com maior clareza e levando fatores como população, número de pessoas envolvidas, média anual de horas trabalhadas, entre outras variáveis. Poderia ser correlacionado o índice `rtfpna` com outras variáveis."
   ]
  }
 ],
 "metadata": {
  "colab": {
   "authorship_tag": "ABX9TyP2XTOKn82i/sxhDd6kfwlK",
   "mount_file_id": "1rWgR8KZ9aw28ZF0cOvIVgQR5RROvE0GW",
   "name": "case_1.ipynb",
   "provenance": []
  },
  "kernelspec": {
   "display_name": "Python 3",
   "language": "python",
   "name": "python3"
  },
  "language_info": {
   "codemirror_mode": {
    "name": "ipython",
    "version": 3
   },
   "file_extension": ".py",
   "mimetype": "text/x-python",
   "name": "python",
   "nbconvert_exporter": "python",
   "pygments_lexer": "ipython3",
   "version": "3.7.6"
  }
 },
 "nbformat": 4,
 "nbformat_minor": 1
}

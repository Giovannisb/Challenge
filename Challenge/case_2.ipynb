{
 "cells": [
  {
   "cell_type": "code",
   "execution_count": 1,
   "metadata": {
    "colab": {
     "base_uri": "https://localhost:8080/",
     "height": 70
    },
    "colab_type": "code",
    "executionInfo": {
     "elapsed": 934,
     "status": "ok",
     "timestamp": 1594232222088,
     "user": {
      "displayName": "Giovanni Sá Barreto",
      "photoUrl": "",
      "userId": "12625235111421277305"
     },
     "user_tz": 180
    },
    "id": "_UPdX8dTdgwW",
    "outputId": "3d69b185-e4bc-4929-f020-67ac1c50de49"
   },
   "outputs": [],
   "source": [
    "import pandas as pd\n",
    "import matplotlib.pyplot as plt\n",
    "import seaborn as sns\n",
    "%matplotlib inline"
   ]
  },
  {
   "cell_type": "code",
   "execution_count": 2,
   "metadata": {
    "colab": {
     "base_uri": "https://localhost:8080/",
     "height": 195
    },
    "colab_type": "code",
    "executionInfo": {
     "elapsed": 1750,
     "status": "ok",
     "timestamp": 1594232222915,
     "user": {
      "displayName": "Giovanni Sá Barreto",
      "photoUrl": "",
      "userId": "12625235111421277305"
     },
     "user_tz": 180
    },
    "id": "Zmfs_F0ydt3g",
    "outputId": "96490b46-fbc5-4357-e0bc-89f4000f8250"
   },
   "outputs": [
    {
     "data": {
      "text/html": [
       "<div>\n",
       "<style scoped>\n",
       "    .dataframe tbody tr th:only-of-type {\n",
       "        vertical-align: middle;\n",
       "    }\n",
       "\n",
       "    .dataframe tbody tr th {\n",
       "        vertical-align: top;\n",
       "    }\n",
       "\n",
       "    .dataframe thead th {\n",
       "        text-align: right;\n",
       "    }\n",
       "</style>\n",
       "<table border=\"1\" class=\"dataframe\">\n",
       "  <thead>\n",
       "    <tr style=\"text-align: right;\">\n",
       "      <th></th>\n",
       "      <th>date</th>\n",
       "      <th>product</th>\n",
       "      <th>state</th>\n",
       "      <th>country</th>\n",
       "      <th>type</th>\n",
       "      <th>route</th>\n",
       "      <th>tons</th>\n",
       "      <th>usd</th>\n",
       "    </tr>\n",
       "  </thead>\n",
       "  <tbody>\n",
       "    <tr>\n",
       "      <th>0</th>\n",
       "      <td>1997-01-01</td>\n",
       "      <td>corn</td>\n",
       "      <td>ES</td>\n",
       "      <td>United States</td>\n",
       "      <td>Import</td>\n",
       "      <td>Sea</td>\n",
       "      <td>44.045</td>\n",
       "      <td>113029.0</td>\n",
       "    </tr>\n",
       "    <tr>\n",
       "      <th>1</th>\n",
       "      <td>1997-01-01</td>\n",
       "      <td>corn</td>\n",
       "      <td>GO</td>\n",
       "      <td>Argentina</td>\n",
       "      <td>Import</td>\n",
       "      <td>Ground</td>\n",
       "      <td>54.000</td>\n",
       "      <td>36720.0</td>\n",
       "    </tr>\n",
       "    <tr>\n",
       "      <th>2</th>\n",
       "      <td>1997-01-01</td>\n",
       "      <td>corn</td>\n",
       "      <td>GO</td>\n",
       "      <td>Bolivia</td>\n",
       "      <td>Export</td>\n",
       "      <td>Ground</td>\n",
       "      <td>0.200</td>\n",
       "      <td>180.0</td>\n",
       "    </tr>\n",
       "    <tr>\n",
       "      <th>3</th>\n",
       "      <td>1997-01-01</td>\n",
       "      <td>corn</td>\n",
       "      <td>GO</td>\n",
       "      <td>United States</td>\n",
       "      <td>Export</td>\n",
       "      <td>Sea</td>\n",
       "      <td>3.488</td>\n",
       "      <td>5688.0</td>\n",
       "    </tr>\n",
       "    <tr>\n",
       "      <th>4</th>\n",
       "      <td>1997-01-01</td>\n",
       "      <td>corn</td>\n",
       "      <td>MG</td>\n",
       "      <td>Argentina</td>\n",
       "      <td>Import</td>\n",
       "      <td>Ground</td>\n",
       "      <td>27.000</td>\n",
       "      <td>18630.0</td>\n",
       "    </tr>\n",
       "  </tbody>\n",
       "</table>\n",
       "</div>"
      ],
      "text/plain": [
       "         date product state        country    type   route    tons       usd\n",
       "0  1997-01-01    corn    ES  United States  Import     Sea  44.045  113029.0\n",
       "1  1997-01-01    corn    GO      Argentina  Import  Ground  54.000   36720.0\n",
       "2  1997-01-01    corn    GO        Bolivia  Export  Ground   0.200     180.0\n",
       "3  1997-01-01    corn    GO  United States  Export     Sea   3.488    5688.0\n",
       "4  1997-01-01    corn    MG      Argentina  Import  Ground  27.000   18630.0"
      ]
     },
     "execution_count": 2,
     "metadata": {},
     "output_type": "execute_result"
    }
   ],
   "source": [
    "df = pd.read_csv('data_comexstat.csv', encoding = \"ISO-8859-1\")\n",
    "\n",
    "df.head()"
   ]
  },
  {
   "cell_type": "code",
   "execution_count": 3,
   "metadata": {
    "colab": {
     "base_uri": "https://localhost:8080/",
     "height": 168
    },
    "colab_type": "code",
    "executionInfo": {
     "elapsed": 1743,
     "status": "ok",
     "timestamp": 1594232222916,
     "user": {
      "displayName": "Giovanni Sá Barreto",
      "photoUrl": "",
      "userId": "12625235111421277305"
     },
     "user_tz": 180
    },
    "id": "mFkLBxK1tiQv",
    "outputId": "a1c98e3d-4926-40af-d7c2-523751e2fb1a"
   },
   "outputs": [
    {
     "data": {
      "text/plain": [
       "date        object\n",
       "product     object\n",
       "state       object\n",
       "country     object\n",
       "type        object\n",
       "route       object\n",
       "tons       float64\n",
       "usd        float64\n",
       "dtype: object"
      ]
     },
     "execution_count": 3,
     "metadata": {},
     "output_type": "execute_result"
    }
   ],
   "source": [
    "df.dtypes"
   ]
  },
  {
   "cell_type": "code",
   "execution_count": 4,
   "metadata": {
    "colab": {
     "base_uri": "https://localhost:8080/",
     "height": 195
    },
    "colab_type": "code",
    "executionInfo": {
     "elapsed": 1739,
     "status": "ok",
     "timestamp": 1594232222919,
     "user": {
      "displayName": "Giovanni Sá Barreto",
      "photoUrl": "",
      "userId": "12625235111421277305"
     },
     "user_tz": 180
    },
    "id": "Jbfq5AxPtl2c",
    "outputId": "63e9b661-9cb6-4b39-a4f7-204080043f0c"
   },
   "outputs": [
    {
     "data": {
      "text/html": [
       "<div>\n",
       "<style scoped>\n",
       "    .dataframe tbody tr th:only-of-type {\n",
       "        vertical-align: middle;\n",
       "    }\n",
       "\n",
       "    .dataframe tbody tr th {\n",
       "        vertical-align: top;\n",
       "    }\n",
       "\n",
       "    .dataframe thead th {\n",
       "        text-align: right;\n",
       "    }\n",
       "</style>\n",
       "<table border=\"1\" class=\"dataframe\">\n",
       "  <thead>\n",
       "    <tr style=\"text-align: right;\">\n",
       "      <th></th>\n",
       "      <th>date</th>\n",
       "      <th>product</th>\n",
       "      <th>state</th>\n",
       "      <th>country</th>\n",
       "      <th>type</th>\n",
       "      <th>route</th>\n",
       "      <th>tons</th>\n",
       "      <th>usd</th>\n",
       "    </tr>\n",
       "  </thead>\n",
       "  <tbody>\n",
       "    <tr>\n",
       "      <th>0</th>\n",
       "      <td>1997-01-01</td>\n",
       "      <td>corn</td>\n",
       "      <td>ES</td>\n",
       "      <td>United States</td>\n",
       "      <td>Import</td>\n",
       "      <td>Sea</td>\n",
       "      <td>44.045</td>\n",
       "      <td>113029.0</td>\n",
       "    </tr>\n",
       "    <tr>\n",
       "      <th>1</th>\n",
       "      <td>1997-01-01</td>\n",
       "      <td>corn</td>\n",
       "      <td>GO</td>\n",
       "      <td>Argentina</td>\n",
       "      <td>Import</td>\n",
       "      <td>Ground</td>\n",
       "      <td>54.000</td>\n",
       "      <td>36720.0</td>\n",
       "    </tr>\n",
       "    <tr>\n",
       "      <th>2</th>\n",
       "      <td>1997-01-01</td>\n",
       "      <td>corn</td>\n",
       "      <td>GO</td>\n",
       "      <td>Bolivia</td>\n",
       "      <td>Export</td>\n",
       "      <td>Ground</td>\n",
       "      <td>0.200</td>\n",
       "      <td>180.0</td>\n",
       "    </tr>\n",
       "    <tr>\n",
       "      <th>3</th>\n",
       "      <td>1997-01-01</td>\n",
       "      <td>corn</td>\n",
       "      <td>GO</td>\n",
       "      <td>United States</td>\n",
       "      <td>Export</td>\n",
       "      <td>Sea</td>\n",
       "      <td>3.488</td>\n",
       "      <td>5688.0</td>\n",
       "    </tr>\n",
       "    <tr>\n",
       "      <th>4</th>\n",
       "      <td>1997-01-01</td>\n",
       "      <td>corn</td>\n",
       "      <td>MG</td>\n",
       "      <td>Argentina</td>\n",
       "      <td>Import</td>\n",
       "      <td>Ground</td>\n",
       "      <td>27.000</td>\n",
       "      <td>18630.0</td>\n",
       "    </tr>\n",
       "  </tbody>\n",
       "</table>\n",
       "</div>"
      ],
      "text/plain": [
       "        date product state        country    type   route    tons       usd\n",
       "0 1997-01-01    corn    ES  United States  Import     Sea  44.045  113029.0\n",
       "1 1997-01-01    corn    GO      Argentina  Import  Ground  54.000   36720.0\n",
       "2 1997-01-01    corn    GO        Bolivia  Export  Ground   0.200     180.0\n",
       "3 1997-01-01    corn    GO  United States  Export     Sea   3.488    5688.0\n",
       "4 1997-01-01    corn    MG      Argentina  Import  Ground  27.000   18630.0"
      ]
     },
     "execution_count": 4,
     "metadata": {},
     "output_type": "execute_result"
    }
   ],
   "source": [
    "df.date = pd.to_datetime(df.date, format='%Y/%m/%d')\n",
    "\n",
    "df.head()"
   ]
  },
  {
   "cell_type": "code",
   "execution_count": 5,
   "metadata": {
    "colab": {
     "base_uri": "https://localhost:8080/",
     "height": 195
    },
    "colab_type": "code",
    "executionInfo": {
     "elapsed": 3133,
     "status": "ok",
     "timestamp": 1594232224320,
     "user": {
      "displayName": "Giovanni Sá Barreto",
      "photoUrl": "",
      "userId": "12625235111421277305"
     },
     "user_tz": 180
    },
    "id": "NeFyJjIxVqUD",
    "outputId": "835cabfd-05bf-4e50-ab54-b7855b6a1f7d"
   },
   "outputs": [
    {
     "data": {
      "text/html": [
       "<div>\n",
       "<style scoped>\n",
       "    .dataframe tbody tr th:only-of-type {\n",
       "        vertical-align: middle;\n",
       "    }\n",
       "\n",
       "    .dataframe tbody tr th {\n",
       "        vertical-align: top;\n",
       "    }\n",
       "\n",
       "    .dataframe thead th {\n",
       "        text-align: right;\n",
       "    }\n",
       "</style>\n",
       "<table border=\"1\" class=\"dataframe\">\n",
       "  <thead>\n",
       "    <tr style=\"text-align: right;\">\n",
       "      <th></th>\n",
       "      <th>date</th>\n",
       "      <th>product</th>\n",
       "      <th>state</th>\n",
       "      <th>country</th>\n",
       "      <th>type</th>\n",
       "      <th>route</th>\n",
       "      <th>tons</th>\n",
       "      <th>usd</th>\n",
       "      <th>year</th>\n",
       "      <th>month</th>\n",
       "    </tr>\n",
       "  </thead>\n",
       "  <tbody>\n",
       "    <tr>\n",
       "      <th>0</th>\n",
       "      <td>1997-01-01</td>\n",
       "      <td>corn</td>\n",
       "      <td>ES</td>\n",
       "      <td>United States</td>\n",
       "      <td>Import</td>\n",
       "      <td>Sea</td>\n",
       "      <td>44.045</td>\n",
       "      <td>113029.0</td>\n",
       "      <td>1997</td>\n",
       "      <td>01</td>\n",
       "    </tr>\n",
       "    <tr>\n",
       "      <th>1</th>\n",
       "      <td>1997-01-01</td>\n",
       "      <td>corn</td>\n",
       "      <td>GO</td>\n",
       "      <td>Argentina</td>\n",
       "      <td>Import</td>\n",
       "      <td>Ground</td>\n",
       "      <td>54.000</td>\n",
       "      <td>36720.0</td>\n",
       "      <td>1997</td>\n",
       "      <td>01</td>\n",
       "    </tr>\n",
       "    <tr>\n",
       "      <th>2</th>\n",
       "      <td>1997-01-01</td>\n",
       "      <td>corn</td>\n",
       "      <td>GO</td>\n",
       "      <td>Bolivia</td>\n",
       "      <td>Export</td>\n",
       "      <td>Ground</td>\n",
       "      <td>0.200</td>\n",
       "      <td>180.0</td>\n",
       "      <td>1997</td>\n",
       "      <td>01</td>\n",
       "    </tr>\n",
       "    <tr>\n",
       "      <th>3</th>\n",
       "      <td>1997-01-01</td>\n",
       "      <td>corn</td>\n",
       "      <td>GO</td>\n",
       "      <td>United States</td>\n",
       "      <td>Export</td>\n",
       "      <td>Sea</td>\n",
       "      <td>3.488</td>\n",
       "      <td>5688.0</td>\n",
       "      <td>1997</td>\n",
       "      <td>01</td>\n",
       "    </tr>\n",
       "    <tr>\n",
       "      <th>4</th>\n",
       "      <td>1997-01-01</td>\n",
       "      <td>corn</td>\n",
       "      <td>MG</td>\n",
       "      <td>Argentina</td>\n",
       "      <td>Import</td>\n",
       "      <td>Ground</td>\n",
       "      <td>27.000</td>\n",
       "      <td>18630.0</td>\n",
       "      <td>1997</td>\n",
       "      <td>01</td>\n",
       "    </tr>\n",
       "  </tbody>\n",
       "</table>\n",
       "</div>"
      ],
      "text/plain": [
       "        date product state        country    type   route    tons       usd  \\\n",
       "0 1997-01-01    corn    ES  United States  Import     Sea  44.045  113029.0   \n",
       "1 1997-01-01    corn    GO      Argentina  Import  Ground  54.000   36720.0   \n",
       "2 1997-01-01    corn    GO        Bolivia  Export  Ground   0.200     180.0   \n",
       "3 1997-01-01    corn    GO  United States  Export     Sea   3.488    5688.0   \n",
       "4 1997-01-01    corn    MG      Argentina  Import  Ground  27.000   18630.0   \n",
       "\n",
       "   year month  \n",
       "0  1997    01  \n",
       "1  1997    01  \n",
       "2  1997    01  \n",
       "3  1997    01  \n",
       "4  1997    01  "
      ]
     },
     "execution_count": 5,
     "metadata": {},
     "output_type": "execute_result"
    }
   ],
   "source": [
    "df['year'] = df['date'].apply(lambda x: str(x)[:4])\n",
    "df['month'] = df['date'].apply(lambda x: str(x)[5:7])\n",
    "\n",
    "df.head()"
   ]
  },
  {
   "cell_type": "code",
   "execution_count": 6,
   "metadata": {
    "colab": {
     "base_uri": "https://localhost:8080/",
     "height": 195
    },
    "colab_type": "code",
    "executionInfo": {
     "elapsed": 3126,
     "status": "ok",
     "timestamp": 1594232224321,
     "user": {
      "displayName": "Giovanni Sá Barreto",
      "photoUrl": "",
      "userId": "12625235111421277305"
     },
     "user_tz": 180
    },
    "id": "IrzyAOgIGFLu",
    "outputId": "8db30ee0-e58e-41ea-e073-c45cf96902dd"
   },
   "outputs": [
    {
     "data": {
      "text/html": [
       "<div>\n",
       "<style scoped>\n",
       "    .dataframe tbody tr th:only-of-type {\n",
       "        vertical-align: middle;\n",
       "    }\n",
       "\n",
       "    .dataframe tbody tr th {\n",
       "        vertical-align: top;\n",
       "    }\n",
       "\n",
       "    .dataframe thead th {\n",
       "        text-align: right;\n",
       "    }\n",
       "</style>\n",
       "<table border=\"1\" class=\"dataframe\">\n",
       "  <thead>\n",
       "    <tr style=\"text-align: right;\">\n",
       "      <th></th>\n",
       "      <th>date</th>\n",
       "      <th>product</th>\n",
       "      <th>state</th>\n",
       "      <th>country</th>\n",
       "      <th>type</th>\n",
       "      <th>route</th>\n",
       "      <th>tons</th>\n",
       "      <th>usd</th>\n",
       "      <th>year</th>\n",
       "      <th>month</th>\n",
       "    </tr>\n",
       "  </thead>\n",
       "  <tbody>\n",
       "    <tr>\n",
       "      <th>117960</th>\n",
       "      <td>2019-12-01</td>\n",
       "      <td>wheat</td>\n",
       "      <td>SP</td>\n",
       "      <td>Argentina</td>\n",
       "      <td>Import</td>\n",
       "      <td>Sea</td>\n",
       "      <td>87124.765</td>\n",
       "      <td>17897516.0</td>\n",
       "      <td>2019</td>\n",
       "      <td>12</td>\n",
       "    </tr>\n",
       "    <tr>\n",
       "      <th>117961</th>\n",
       "      <td>2019-12-01</td>\n",
       "      <td>wheat</td>\n",
       "      <td>SP</td>\n",
       "      <td>Ireland</td>\n",
       "      <td>Export</td>\n",
       "      <td>Sea</td>\n",
       "      <td>0.500</td>\n",
       "      <td>477.0</td>\n",
       "      <td>2019</td>\n",
       "      <td>12</td>\n",
       "    </tr>\n",
       "    <tr>\n",
       "      <th>117962</th>\n",
       "      <td>2019-12-01</td>\n",
       "      <td>wheat</td>\n",
       "      <td>SP</td>\n",
       "      <td>Lebanon</td>\n",
       "      <td>Import</td>\n",
       "      <td>Sea</td>\n",
       "      <td>5.769</td>\n",
       "      <td>6726.0</td>\n",
       "      <td>2019</td>\n",
       "      <td>12</td>\n",
       "    </tr>\n",
       "    <tr>\n",
       "      <th>117963</th>\n",
       "      <td>2019-12-01</td>\n",
       "      <td>wheat</td>\n",
       "      <td>SP</td>\n",
       "      <td>Liberia</td>\n",
       "      <td>Export</td>\n",
       "      <td>Other</td>\n",
       "      <td>0.025</td>\n",
       "      <td>50.0</td>\n",
       "      <td>2019</td>\n",
       "      <td>12</td>\n",
       "    </tr>\n",
       "    <tr>\n",
       "      <th>117964</th>\n",
       "      <td>2019-12-01</td>\n",
       "      <td>wheat</td>\n",
       "      <td>SP</td>\n",
       "      <td>Marshall Islands</td>\n",
       "      <td>Export</td>\n",
       "      <td>Other</td>\n",
       "      <td>0.010</td>\n",
       "      <td>85.0</td>\n",
       "      <td>2019</td>\n",
       "      <td>12</td>\n",
       "    </tr>\n",
       "  </tbody>\n",
       "</table>\n",
       "</div>"
      ],
      "text/plain": [
       "             date product state           country    type  route       tons  \\\n",
       "117960 2019-12-01   wheat    SP         Argentina  Import    Sea  87124.765   \n",
       "117961 2019-12-01   wheat    SP           Ireland  Export    Sea      0.500   \n",
       "117962 2019-12-01   wheat    SP           Lebanon  Import    Sea      5.769   \n",
       "117963 2019-12-01   wheat    SP           Liberia  Export  Other      0.025   \n",
       "117964 2019-12-01   wheat    SP  Marshall Islands  Export  Other      0.010   \n",
       "\n",
       "               usd  year month  \n",
       "117960  17897516.0  2019    12  \n",
       "117961       477.0  2019    12  \n",
       "117962      6726.0  2019    12  \n",
       "117963        50.0  2019    12  \n",
       "117964        85.0  2019    12  "
      ]
     },
     "execution_count": 6,
     "metadata": {},
     "output_type": "execute_result"
    }
   ],
   "source": [
    "df.tail()"
   ]
  },
  {
   "cell_type": "markdown",
   "metadata": {
    "colab_type": "text",
    "id": "8Usa2dZNr7z3"
   },
   "source": [
    "#Q1"
   ]
  },
  {
   "cell_type": "code",
   "execution_count": 7,
   "metadata": {
    "colab": {
     "base_uri": "https://localhost:8080/",
     "height": 0
    },
    "colab_type": "code",
    "executionInfo": {
     "elapsed": 3119,
     "status": "ok",
     "timestamp": 1594232224321,
     "user": {
      "displayName": "Giovanni Sá Barreto",
      "photoUrl": "",
      "userId": "12625235111421277305"
     },
     "user_tz": 180
    },
    "id": "wKtXanQIr98G",
    "outputId": "9aa809d7-a28f-405f-d396-3d582fb34d52"
   },
   "outputs": [
    {
     "data": {
      "text/html": [
       "<div>\n",
       "<style scoped>\n",
       "    .dataframe tbody tr th:only-of-type {\n",
       "        vertical-align: middle;\n",
       "    }\n",
       "\n",
       "    .dataframe tbody tr th {\n",
       "        vertical-align: top;\n",
       "    }\n",
       "\n",
       "    .dataframe thead th {\n",
       "        text-align: right;\n",
       "    }\n",
       "</style>\n",
       "<table border=\"1\" class=\"dataframe\">\n",
       "  <thead>\n",
       "    <tr style=\"text-align: right;\">\n",
       "      <th></th>\n",
       "      <th>date</th>\n",
       "      <th>product</th>\n",
       "      <th>state</th>\n",
       "      <th>country</th>\n",
       "      <th>type</th>\n",
       "      <th>route</th>\n",
       "      <th>tons</th>\n",
       "      <th>usd</th>\n",
       "      <th>year</th>\n",
       "      <th>month</th>\n",
       "    </tr>\n",
       "  </thead>\n",
       "  <tbody>\n",
       "    <tr>\n",
       "      <th>2</th>\n",
       "      <td>1997-01-01</td>\n",
       "      <td>corn</td>\n",
       "      <td>GO</td>\n",
       "      <td>Bolivia</td>\n",
       "      <td>Export</td>\n",
       "      <td>Ground</td>\n",
       "      <td>0.200</td>\n",
       "      <td>180.0</td>\n",
       "      <td>1997</td>\n",
       "      <td>01</td>\n",
       "    </tr>\n",
       "    <tr>\n",
       "      <th>3</th>\n",
       "      <td>1997-01-01</td>\n",
       "      <td>corn</td>\n",
       "      <td>GO</td>\n",
       "      <td>United States</td>\n",
       "      <td>Export</td>\n",
       "      <td>Sea</td>\n",
       "      <td>3.488</td>\n",
       "      <td>5688.0</td>\n",
       "      <td>1997</td>\n",
       "      <td>01</td>\n",
       "    </tr>\n",
       "    <tr>\n",
       "      <th>5</th>\n",
       "      <td>1997-01-01</td>\n",
       "      <td>corn</td>\n",
       "      <td>MS</td>\n",
       "      <td>Paraguay</td>\n",
       "      <td>Export</td>\n",
       "      <td>Ground</td>\n",
       "      <td>40.000</td>\n",
       "      <td>38700.0</td>\n",
       "      <td>1997</td>\n",
       "      <td>01</td>\n",
       "    </tr>\n",
       "    <tr>\n",
       "      <th>9</th>\n",
       "      <td>1997-01-01</td>\n",
       "      <td>corn</td>\n",
       "      <td>PR</td>\n",
       "      <td>Netherlands</td>\n",
       "      <td>Export</td>\n",
       "      <td>Sea</td>\n",
       "      <td>170000.000</td>\n",
       "      <td>20000000.0</td>\n",
       "      <td>1997</td>\n",
       "      <td>01</td>\n",
       "    </tr>\n",
       "    <tr>\n",
       "      <th>10</th>\n",
       "      <td>1997-01-01</td>\n",
       "      <td>corn</td>\n",
       "      <td>PR</td>\n",
       "      <td>Paraguay</td>\n",
       "      <td>Export</td>\n",
       "      <td>Ground</td>\n",
       "      <td>258.300</td>\n",
       "      <td>386733.0</td>\n",
       "      <td>1997</td>\n",
       "      <td>01</td>\n",
       "    </tr>\n",
       "  </tbody>\n",
       "</table>\n",
       "</div>"
      ],
      "text/plain": [
       "         date product state        country    type   route        tons  \\\n",
       "2  1997-01-01    corn    GO        Bolivia  Export  Ground       0.200   \n",
       "3  1997-01-01    corn    GO  United States  Export     Sea       3.488   \n",
       "5  1997-01-01    corn    MS       Paraguay  Export  Ground      40.000   \n",
       "9  1997-01-01    corn    PR    Netherlands  Export     Sea  170000.000   \n",
       "10 1997-01-01    corn    PR       Paraguay  Export  Ground     258.300   \n",
       "\n",
       "           usd  year month  \n",
       "2        180.0  1997    01  \n",
       "3       5688.0  1997    01  \n",
       "5      38700.0  1997    01  \n",
       "9   20000000.0  1997    01  \n",
       "10    386733.0  1997    01  "
      ]
     },
     "execution_count": 7,
     "metadata": {},
     "output_type": "execute_result"
    }
   ],
   "source": [
    "df_exports = df.loc[df['type'] == 'Export'].copy()\n",
    "\n",
    "df_exports.head()"
   ]
  },
  {
   "cell_type": "code",
   "execution_count": 8,
   "metadata": {
    "colab": {
     "base_uri": "https://localhost:8080/",
     "height": 0
    },
    "colab_type": "code",
    "executionInfo": {
     "elapsed": 3111,
     "status": "ok",
     "timestamp": 1594232224322,
     "user": {
      "displayName": "Giovanni Sá Barreto",
      "photoUrl": "",
      "userId": "12625235111421277305"
     },
     "user_tz": 180
    },
    "id": "nsvER7RBdoAT",
    "outputId": "d0fba581-4840-42ea-bd9f-04cb89bbd7d2"
   },
   "outputs": [
    {
     "data": {
      "text/plain": [
       "sugar           32988\n",
       "soybeans        21817\n",
       "soybean_meal    17672\n",
       "corn            17394\n",
       "soybean_oil     15287\n",
       "wheat             703\n",
       "Name: product, dtype: int64"
      ]
     },
     "execution_count": 8,
     "metadata": {},
     "output_type": "execute_result"
    }
   ],
   "source": [
    "df_exports['product'].value_counts()"
   ]
  },
  {
   "cell_type": "markdown",
   "metadata": {
    "colab_type": "text",
    "id": "-BeRjSgrCLun"
   },
   "source": [
    "Como podemos observar, no geral, o açucar é o produto mais exportado pelo Brasil. Seguido de sója e o farelo de sója"
   ]
  },
  {
   "cell_type": "markdown",
   "metadata": {
    "colab_type": "text",
    "id": "Nv0EZIqEnvBn"
   },
   "source": [
    "##Soybeans"
   ]
  },
  {
   "cell_type": "code",
   "execution_count": 9,
   "metadata": {
    "colab": {
     "base_uri": "https://localhost:8080/",
     "height": 0
    },
    "colab_type": "code",
    "executionInfo": {
     "elapsed": 3105,
     "status": "ok",
     "timestamp": 1594232224322,
     "user": {
      "displayName": "Giovanni Sá Barreto",
      "photoUrl": "",
      "userId": "12625235111421277305"
     },
     "user_tz": 180
    },
    "id": "3gnr7Vv_cFho",
    "outputId": "7e552c43-bb02-45ec-8f81-8c87a0e7f6d5"
   },
   "outputs": [
    {
     "data": {
      "text/html": [
       "<div>\n",
       "<style scoped>\n",
       "    .dataframe tbody tr th:only-of-type {\n",
       "        vertical-align: middle;\n",
       "    }\n",
       "\n",
       "    .dataframe tbody tr th {\n",
       "        vertical-align: top;\n",
       "    }\n",
       "\n",
       "    .dataframe thead th {\n",
       "        text-align: right;\n",
       "    }\n",
       "</style>\n",
       "<table border=\"1\" class=\"dataframe\">\n",
       "  <thead>\n",
       "    <tr style=\"text-align: right;\">\n",
       "      <th></th>\n",
       "      <th>date</th>\n",
       "      <th>product</th>\n",
       "      <th>state</th>\n",
       "      <th>country</th>\n",
       "      <th>type</th>\n",
       "      <th>route</th>\n",
       "      <th>tons</th>\n",
       "      <th>usd</th>\n",
       "      <th>year</th>\n",
       "      <th>month</th>\n",
       "    </tr>\n",
       "  </thead>\n",
       "  <tbody>\n",
       "    <tr>\n",
       "      <th>73</th>\n",
       "      <td>1997-01-01</td>\n",
       "      <td>soybeans</td>\n",
       "      <td>GO</td>\n",
       "      <td>Spain</td>\n",
       "      <td>Export</td>\n",
       "      <td>Sea</td>\n",
       "      <td>13730.0</td>\n",
       "      <td>3954240.0</td>\n",
       "      <td>1997</td>\n",
       "      <td>01</td>\n",
       "    </tr>\n",
       "    <tr>\n",
       "      <th>74</th>\n",
       "      <td>1997-01-01</td>\n",
       "      <td>soybeans</td>\n",
       "      <td>MT</td>\n",
       "      <td>Bolivia</td>\n",
       "      <td>Export</td>\n",
       "      <td>Other</td>\n",
       "      <td>100.0</td>\n",
       "      <td>60500.0</td>\n",
       "      <td>1997</td>\n",
       "      <td>01</td>\n",
       "    </tr>\n",
       "    <tr>\n",
       "      <th>75</th>\n",
       "      <td>1997-01-01</td>\n",
       "      <td>soybeans</td>\n",
       "      <td>RS</td>\n",
       "      <td>Argentina</td>\n",
       "      <td>Export</td>\n",
       "      <td>Ground</td>\n",
       "      <td>200.0</td>\n",
       "      <td>104000.0</td>\n",
       "      <td>1997</td>\n",
       "      <td>01</td>\n",
       "    </tr>\n",
       "    <tr>\n",
       "      <th>167</th>\n",
       "      <td>1997-02-01</td>\n",
       "      <td>soybeans</td>\n",
       "      <td>GO</td>\n",
       "      <td>Netherlands</td>\n",
       "      <td>Export</td>\n",
       "      <td>Sea</td>\n",
       "      <td>3000.0</td>\n",
       "      <td>855450.0</td>\n",
       "      <td>1997</td>\n",
       "      <td>02</td>\n",
       "    </tr>\n",
       "    <tr>\n",
       "      <th>168</th>\n",
       "      <td>1997-02-01</td>\n",
       "      <td>soybeans</td>\n",
       "      <td>MT</td>\n",
       "      <td>Netherlands</td>\n",
       "      <td>Export</td>\n",
       "      <td>Sea</td>\n",
       "      <td>5000.0</td>\n",
       "      <td>1436185.0</td>\n",
       "      <td>1997</td>\n",
       "      <td>02</td>\n",
       "    </tr>\n",
       "  </tbody>\n",
       "</table>\n",
       "</div>"
      ],
      "text/plain": [
       "          date   product state      country    type   route     tons  \\\n",
       "73  1997-01-01  soybeans    GO        Spain  Export     Sea  13730.0   \n",
       "74  1997-01-01  soybeans    MT      Bolivia  Export   Other    100.0   \n",
       "75  1997-01-01  soybeans    RS    Argentina  Export  Ground    200.0   \n",
       "167 1997-02-01  soybeans    GO  Netherlands  Export     Sea   3000.0   \n",
       "168 1997-02-01  soybeans    MT  Netherlands  Export     Sea   5000.0   \n",
       "\n",
       "           usd  year month  \n",
       "73   3954240.0  1997    01  \n",
       "74     60500.0  1997    01  \n",
       "75    104000.0  1997    01  \n",
       "167   855450.0  1997    02  \n",
       "168  1436185.0  1997    02  "
      ]
     },
     "execution_count": 9,
     "metadata": {},
     "output_type": "execute_result"
    }
   ],
   "source": [
    "df1 = df_exports.loc[df_exports['product'] == 'soybeans'].copy()\n",
    "\n",
    "df1.head()"
   ]
  },
  {
   "cell_type": "markdown",
   "metadata": {
    "colab_type": "text",
    "id": "ee2wdC2voJgV"
   },
   "source": [
    "###year"
   ]
  },
  {
   "cell_type": "code",
   "execution_count": 10,
   "metadata": {
    "colab": {
     "base_uri": "https://localhost:8080/",
     "height": 0
    },
    "colab_type": "code",
    "executionInfo": {
     "elapsed": 3734,
     "status": "ok",
     "timestamp": 1594232224957,
     "user": {
      "displayName": "Giovanni Sá Barreto",
      "photoUrl": "",
      "userId": "12625235111421277305"
     },
     "user_tz": 180
    },
    "id": "N4X8JAIamfKV",
    "outputId": "5b226721-4abc-42a0-caa4-fb4bba650447"
   },
   "outputs": [
    {
     "data": {
      "image/png": "[encoded data removed]",
      "text/plain": [
       "<Figure size 432x288 with 1 Axes>"
      ]
     },
     "metadata": {
      "needs_background": "light"
     },
     "output_type": "display_data"
    }
   ],
   "source": [
    "df_exports_year = df1.groupby(['year']).mean()\n",
    "\n",
    "plt.plot(df_exports_year.tons)\n",
    "plt.xticks(rotation=90)\n",
    "plt.xlabel('Year')\n",
    "plt.ylabel('tons')\n",
    "\n",
    "plt.show()"
   ]
  },
  {
   "cell_type": "markdown",
   "metadata": {
    "colab_type": "text",
    "id": "sJKki4B5CmrF"
   },
   "source": [
    "Em relação a quantidade, a sója vem em um período de alta desde 2008, com uma pequena queda em 2014 e uma queda bastante significativa em 2019."
   ]
  },
  {
   "cell_type": "code",
   "execution_count": 11,
   "metadata": {
    "colab": {
     "base_uri": "https://localhost:8080/",
     "height": 0
    },
    "colab_type": "code",
    "executionInfo": {
     "elapsed": 3728,
     "status": "ok",
     "timestamp": 1594232224957,
     "user": {
      "displayName": "Giovanni Sá Barreto",
      "photoUrl": "",
      "userId": "12625235111421277305"
     },
     "user_tz": 180
    },
    "id": "ibZP26lxnFOe",
    "outputId": "1ff68ab0-67fa-40d9-e9a3-a056116f9951"
   },
   "outputs": [
    {
     "data": {
      "image/png": "[encoded data removed]",
      "text/plain": [
       "<Figure size 432x288 with 1 Axes>"
      ]
     },
     "metadata": {
      "needs_background": "light"
     },
     "output_type": "display_data"
    }
   ],
   "source": [
    "plt.plot(df_exports_year.usd)\n",
    "plt.xticks(rotation=90)\n",
    "plt.xlabel('Year')\n",
    "plt.ylabel('USD')\n",
    "\n",
    "plt.show()"
   ]
  },
  {
   "cell_type": "markdown",
   "metadata": {
    "colab_type": "text",
    "id": "DpjGsGZPC8F0"
   },
   "source": [
    "Assim como a quantidade, o valor arrecadado atraves da exportação da sója sofre a mesma queda em 2004 e em 2019. Possivelmente por uma queda no preço da sója, entre 2013 e 2015 teve uma pequena queda."
   ]
  },
  {
   "cell_type": "markdown",
   "metadata": {
    "colab_type": "text",
    "id": "eR4LpP_boL-x"
   },
   "source": [
    "###month"
   ]
  },
  {
   "cell_type": "code",
   "execution_count": 12,
   "metadata": {
    "colab": {
     "base_uri": "https://localhost:8080/",
     "height": 0
    },
    "colab_type": "code",
    "executionInfo": {
     "elapsed": 4339,
     "status": "ok",
     "timestamp": 1594232225574,
     "user": {
      "displayName": "Giovanni Sá Barreto",
      "photoUrl": "",
      "userId": "12625235111421277305"
     },
     "user_tz": 180
    },
    "id": "ri71WSNpoOFN",
    "outputId": "245147dc-0c5c-4bba-8c07-332fd004efea"
   },
   "outputs": [
    {
     "data": {
      "image/png": "[encoded data removed]",
      "text/plain": [
       "<Figure size 432x288 with 1 Axes>"
      ]
     },
     "metadata": {
      "needs_background": "light"
     },
     "output_type": "display_data"
    }
   ],
   "source": [
    "df_exports_month = df1.groupby(['month']).mean()\n",
    "\n",
    "plt.plot(df_exports_month.tons)\n",
    "plt.xticks(rotation=90)\n",
    "plt.xlabel('Month')\n",
    "plt.ylabel('Tons')\n",
    "\n",
    "plt.show()"
   ]
  },
  {
   "cell_type": "code",
   "execution_count": 13,
   "metadata": {
    "colab": {
     "base_uri": "https://localhost:8080/",
     "height": 0
    },
    "colab_type": "code",
    "executionInfo": {
     "elapsed": 4333,
     "status": "ok",
     "timestamp": 1594232225575,
     "user": {
      "displayName": "Giovanni Sá Barreto",
      "photoUrl": "",
      "userId": "12625235111421277305"
     },
     "user_tz": 180
    },
    "id": "hZpHUrbHobHP",
    "outputId": "bf7f19d1-e870-4384-b1db-86748e690f92"
   },
   "outputs": [
    {
     "data": {
      "image/png": "[encoded data removed]",
      "text/plain": [
       "<Figure size 432x288 with 1 Axes>"
      ]
     },
     "metadata": {
      "needs_background": "light"
     },
     "output_type": "display_data"
    }
   ],
   "source": [
    "plt.plot(df_exports_month.usd)\n",
    "plt.xticks(rotation=90)\n",
    "plt.xlabel('Month')\n",
    "plt.ylabel('USD')\n",
    "\n",
    "plt.show()"
   ]
  },
  {
   "cell_type": "markdown",
   "metadata": {
    "colab_type": "text",
    "id": "jLrkA8N6Dig8"
   },
   "source": [
    "Os melhores meses de exportação, estão compreendidos entre março e maio mantendo quase uma constância. Já os piores meses estão entre outubro e novembro."
   ]
  },
  {
   "cell_type": "markdown",
   "metadata": {
    "colab_type": "text",
    "id": "Cc9irTBqnyMi"
   },
   "source": [
    "##soybean oil"
   ]
  },
  {
   "cell_type": "code",
   "execution_count": 14,
   "metadata": {
    "colab": {
     "base_uri": "https://localhost:8080/",
     "height": 0
    },
    "colab_type": "code",
    "executionInfo": {
     "elapsed": 4328,
     "status": "ok",
     "timestamp": 1594232225575,
     "user": {
      "displayName": "Giovanni Sá Barreto",
      "photoUrl": "",
      "userId": "12625235111421277305"
     },
     "user_tz": 180
    },
    "id": "yuW8uKFZaEIx",
    "outputId": "ed6cd7cd-ebae-4642-ea41-d643a0c5ccee"
   },
   "outputs": [
    {
     "data": {
      "text/html": [
       "<div>\n",
       "<style scoped>\n",
       "    .dataframe tbody tr th:only-of-type {\n",
       "        vertical-align: middle;\n",
       "    }\n",
       "\n",
       "    .dataframe tbody tr th {\n",
       "        vertical-align: top;\n",
       "    }\n",
       "\n",
       "    .dataframe thead th {\n",
       "        text-align: right;\n",
       "    }\n",
       "</style>\n",
       "<table border=\"1\" class=\"dataframe\">\n",
       "  <thead>\n",
       "    <tr style=\"text-align: right;\">\n",
       "      <th></th>\n",
       "      <th>date</th>\n",
       "      <th>product</th>\n",
       "      <th>state</th>\n",
       "      <th>country</th>\n",
       "      <th>type</th>\n",
       "      <th>route</th>\n",
       "      <th>tons</th>\n",
       "      <th>usd</th>\n",
       "      <th>year</th>\n",
       "      <th>month</th>\n",
       "    </tr>\n",
       "  </thead>\n",
       "  <tbody>\n",
       "    <tr>\n",
       "      <th>57</th>\n",
       "      <td>1997-01-01</td>\n",
       "      <td>soybean_oil</td>\n",
       "      <td>MS</td>\n",
       "      <td>Bolivia</td>\n",
       "      <td>Export</td>\n",
       "      <td>Other</td>\n",
       "      <td>48.053</td>\n",
       "      <td>43268.0</td>\n",
       "      <td>1997</td>\n",
       "      <td>01</td>\n",
       "    </tr>\n",
       "    <tr>\n",
       "      <th>58</th>\n",
       "      <td>1997-01-01</td>\n",
       "      <td>soybean_oil</td>\n",
       "      <td>MT</td>\n",
       "      <td>China</td>\n",
       "      <td>Export</td>\n",
       "      <td>Sea</td>\n",
       "      <td>6000.000</td>\n",
       "      <td>3002191.0</td>\n",
       "      <td>1997</td>\n",
       "      <td>01</td>\n",
       "    </tr>\n",
       "    <tr>\n",
       "      <th>61</th>\n",
       "      <td>1997-01-01</td>\n",
       "      <td>soybean_oil</td>\n",
       "      <td>PR</td>\n",
       "      <td>Bangladesh</td>\n",
       "      <td>Export</td>\n",
       "      <td>Sea</td>\n",
       "      <td>5430.000</td>\n",
       "      <td>2920399.0</td>\n",
       "      <td>1997</td>\n",
       "      <td>01</td>\n",
       "    </tr>\n",
       "    <tr>\n",
       "      <th>62</th>\n",
       "      <td>1997-01-01</td>\n",
       "      <td>soybean_oil</td>\n",
       "      <td>PR</td>\n",
       "      <td>China</td>\n",
       "      <td>Export</td>\n",
       "      <td>Sea</td>\n",
       "      <td>8095.000</td>\n",
       "      <td>4129840.0</td>\n",
       "      <td>1997</td>\n",
       "      <td>01</td>\n",
       "    </tr>\n",
       "    <tr>\n",
       "      <th>63</th>\n",
       "      <td>1997-01-01</td>\n",
       "      <td>soybean_oil</td>\n",
       "      <td>PR</td>\n",
       "      <td>Germany</td>\n",
       "      <td>Export</td>\n",
       "      <td>Sea</td>\n",
       "      <td>500.000</td>\n",
       "      <td>287150.0</td>\n",
       "      <td>1997</td>\n",
       "      <td>01</td>\n",
       "    </tr>\n",
       "  </tbody>\n",
       "</table>\n",
       "</div>"
      ],
      "text/plain": [
       "         date      product state     country    type  route      tons  \\\n",
       "57 1997-01-01  soybean_oil    MS     Bolivia  Export  Other    48.053   \n",
       "58 1997-01-01  soybean_oil    MT       China  Export    Sea  6000.000   \n",
       "61 1997-01-01  soybean_oil    PR  Bangladesh  Export    Sea  5430.000   \n",
       "62 1997-01-01  soybean_oil    PR       China  Export    Sea  8095.000   \n",
       "63 1997-01-01  soybean_oil    PR     Germany  Export    Sea   500.000   \n",
       "\n",
       "          usd  year month  \n",
       "57    43268.0  1997    01  \n",
       "58  3002191.0  1997    01  \n",
       "61  2920399.0  1997    01  \n",
       "62  4129840.0  1997    01  \n",
       "63   287150.0  1997    01  "
      ]
     },
     "execution_count": 14,
     "metadata": {},
     "output_type": "execute_result"
    }
   ],
   "source": [
    "df2 = df_exports.loc[df_exports['product'] == 'soybean_oil'].copy()\n",
    "\n",
    "df2.head()"
   ]
  },
  {
   "cell_type": "markdown",
   "metadata": {
    "colab_type": "text",
    "id": "u-JQwk9l3Ucy"
   },
   "source": [
    "###Year"
   ]
  },
  {
   "cell_type": "code",
   "execution_count": 15,
   "metadata": {
    "colab": {
     "base_uri": "https://localhost:8080/",
     "height": 0
    },
    "colab_type": "code",
    "executionInfo": {
     "elapsed": 4321,
     "status": "ok",
     "timestamp": 1594232225575,
     "user": {
      "displayName": "Giovanni Sá Barreto",
      "photoUrl": "",
      "userId": "12625235111421277305"
     },
     "user_tz": 180
    },
    "id": "tYKYCjwL3Dar",
    "outputId": "c6545f35-7067-4b67-cf5d-bfb70139b1c7"
   },
   "outputs": [
    {
     "data": {
      "image/png": "[encoded data removed]",
      "text/plain": [
       "<Figure size 432x288 with 1 Axes>"
      ]
     },
     "metadata": {
      "needs_background": "light"
     },
     "output_type": "display_data"
    }
   ],
   "source": [
    "df_exports_year = df2.groupby(['year']).mean()\n",
    "\n",
    "plt.plot(df_exports_year.tons)\n",
    "plt.xticks(rotation=90)\n",
    "plt.xlabel('Year')\n",
    "plt.ylabel('tons')\n",
    "\n",
    "plt.show()"
   ]
  },
  {
   "cell_type": "markdown",
   "metadata": {
    "colab_type": "text",
    "id": "0I8QrGX9GMrt"
   },
   "source": [
    "A exportação do óleo de sója, veio em crescimento desde o ano de 2008 até o ano de 2018 com uma sutíl queda em 2014, e como vimos anteriormente com o grão de sója, uma grande queda em 2019"
   ]
  },
  {
   "cell_type": "code",
   "execution_count": 16,
   "metadata": {
    "colab": {
     "base_uri": "https://localhost:8080/",
     "height": 0
    },
    "colab_type": "code",
    "executionInfo": {
     "elapsed": 4819,
     "status": "ok",
     "timestamp": 1594232226079,
     "user": {
      "displayName": "Giovanni Sá Barreto",
      "photoUrl": "",
      "userId": "12625235111421277305"
     },
     "user_tz": 180
    },
    "id": "Z026OvWl3FYe",
    "outputId": "4e5388f4-7df7-48db-b57a-d8397fe308f9"
   },
   "outputs": [
    {
     "data": {
      "image/png": "[encoded data removed]",
      "text/plain": [
       "<Figure size 432x288 with 1 Axes>"
      ]
     },
     "metadata": {
      "needs_background": "light"
     },
     "output_type": "display_data"
    }
   ],
   "source": [
    "plt.plot(df_exports_year.usd)\n",
    "plt.xticks(rotation=90)\n",
    "plt.xlabel('Year')\n",
    "plt.ylabel('usd')\n",
    "\n",
    "plt.show()"
   ]
  },
  {
   "cell_type": "markdown",
   "metadata": {
    "colab_type": "text",
    "id": "09p7rH8uGm86"
   },
   "source": [
    "O valor do óleo de sója oscilou bastante conforme os anos se passaram. Mesmo em ascensão, o valor adquirido teve bastante oscilação."
   ]
  },
  {
   "cell_type": "markdown",
   "metadata": {
    "colab_type": "text",
    "id": "ZqZ_0ki53HyE"
   },
   "source": [
    "###Month"
   ]
  },
  {
   "cell_type": "code",
   "execution_count": 17,
   "metadata": {
    "colab": {
     "base_uri": "https://localhost:8080/",
     "height": 0
    },
    "colab_type": "code",
    "executionInfo": {
     "elapsed": 4814,
     "status": "ok",
     "timestamp": 1594232226080,
     "user": {
      "displayName": "Giovanni Sá Barreto",
      "photoUrl": "",
      "userId": "12625235111421277305"
     },
     "user_tz": 180
    },
    "id": "QN3WRHCb3IKP",
    "outputId": "e71322f9-76b1-40a8-dfdc-36940750e369"
   },
   "outputs": [
    {
     "data": {
      "image/png": "[encoded data removed]",
      "text/plain": [
       "<Figure size 432x288 with 1 Axes>"
      ]
     },
     "metadata": {
      "needs_background": "light"
     },
     "output_type": "display_data"
    }
   ],
   "source": [
    "df_exports_month = df2.groupby(['month']).mean()\n",
    "\n",
    "plt.plot(df_exports_month.tons)\n",
    "plt.xticks(rotation=90)\n",
    "plt.xlabel('Month')\n",
    "plt.ylabel('tons')\n",
    "\n",
    "plt.show()"
   ]
  },
  {
   "cell_type": "code",
   "execution_count": 18,
   "metadata": {
    "colab": {
     "base_uri": "https://localhost:8080/",
     "height": 0
    },
    "colab_type": "code",
    "executionInfo": {
     "elapsed": 4807,
     "status": "ok",
     "timestamp": 1594232226080,
     "user": {
      "displayName": "Giovanni Sá Barreto",
      "photoUrl": "",
      "userId": "12625235111421277305"
     },
     "user_tz": 180
    },
    "id": "T5Mj5RBA3Ibo",
    "outputId": "097c4f65-42fc-484b-945b-2d1affc95106"
   },
   "outputs": [
    {
     "data": {
      "image/png": "[encoded data removed]",
      "text/plain": [
       "<Figure size 432x288 with 1 Axes>"
      ]
     },
     "metadata": {
      "needs_background": "light"
     },
     "output_type": "display_data"
    }
   ],
   "source": [
    "plt.plot(df_exports_month.usd)\n",
    "plt.xticks(rotation=90)\n",
    "plt.xlabel('Month')\n",
    "plt.ylabel('USD')\n",
    "\n",
    "plt.show()"
   ]
  },
  {
   "cell_type": "markdown",
   "metadata": {
    "colab_type": "text",
    "id": "VJPMbpLGHL2Y"
   },
   "source": [
    "Assim como o grão de sója, os melhores meses de exportação foram entre março e maio e ao contrário do grão, o óleo de soja no período de baixa do grão, teve seu valor elevado."
   ]
  },
  {
   "cell_type": "markdown",
   "metadata": {
    "colab_type": "text",
    "id": "m7c4568Dn1fX"
   },
   "source": [
    "##soybean meal"
   ]
  },
  {
   "cell_type": "code",
   "execution_count": 19,
   "metadata": {
    "colab": {
     "base_uri": "https://localhost:8080/",
     "height": 0
    },
    "colab_type": "code",
    "executionInfo": {
     "elapsed": 4802,
     "status": "ok",
     "timestamp": 1594232226081,
     "user": {
      "displayName": "Giovanni Sá Barreto",
      "photoUrl": "",
      "userId": "12625235111421277305"
     },
     "user_tz": 180
    },
    "id": "OMOLOyrRaI6c",
    "outputId": "c3daf7fc-b53a-4d47-ef9b-613520df0976"
   },
   "outputs": [
    {
     "data": {
      "text/html": [
       "<div>\n",
       "<style scoped>\n",
       "    .dataframe tbody tr th:only-of-type {\n",
       "        vertical-align: middle;\n",
       "    }\n",
       "\n",
       "    .dataframe tbody tr th {\n",
       "        vertical-align: top;\n",
       "    }\n",
       "\n",
       "    .dataframe thead th {\n",
       "        text-align: right;\n",
       "    }\n",
       "</style>\n",
       "<table border=\"1\" class=\"dataframe\">\n",
       "  <thead>\n",
       "    <tr style=\"text-align: right;\">\n",
       "      <th></th>\n",
       "      <th>date</th>\n",
       "      <th>product</th>\n",
       "      <th>state</th>\n",
       "      <th>country</th>\n",
       "      <th>type</th>\n",
       "      <th>route</th>\n",
       "      <th>tons</th>\n",
       "      <th>usd</th>\n",
       "      <th>year</th>\n",
       "      <th>month</th>\n",
       "    </tr>\n",
       "  </thead>\n",
       "  <tbody>\n",
       "    <tr>\n",
       "      <th>19</th>\n",
       "      <td>1997-01-01</td>\n",
       "      <td>soybean_meal</td>\n",
       "      <td>GO</td>\n",
       "      <td>Netherlands</td>\n",
       "      <td>Export</td>\n",
       "      <td>Sea</td>\n",
       "      <td>419.070</td>\n",
       "      <td>119318.0</td>\n",
       "      <td>1997</td>\n",
       "      <td>01</td>\n",
       "    </tr>\n",
       "    <tr>\n",
       "      <th>20</th>\n",
       "      <td>1997-01-01</td>\n",
       "      <td>soybean_meal</td>\n",
       "      <td>GO</td>\n",
       "      <td>Netherlands</td>\n",
       "      <td>Export</td>\n",
       "      <td>Sea</td>\n",
       "      <td>5000.000</td>\n",
       "      <td>1414250.0</td>\n",
       "      <td>1997</td>\n",
       "      <td>01</td>\n",
       "    </tr>\n",
       "    <tr>\n",
       "      <th>21</th>\n",
       "      <td>1997-01-01</td>\n",
       "      <td>soybean_meal</td>\n",
       "      <td>MS</td>\n",
       "      <td>Germany</td>\n",
       "      <td>Export</td>\n",
       "      <td>Sea</td>\n",
       "      <td>140.672</td>\n",
       "      <td>38378.0</td>\n",
       "      <td>1997</td>\n",
       "      <td>01</td>\n",
       "    </tr>\n",
       "    <tr>\n",
       "      <th>22</th>\n",
       "      <td>1997-01-01</td>\n",
       "      <td>soybean_meal</td>\n",
       "      <td>MS</td>\n",
       "      <td>Hungary</td>\n",
       "      <td>Export</td>\n",
       "      <td>Sea</td>\n",
       "      <td>15000.000</td>\n",
       "      <td>4042100.0</td>\n",
       "      <td>1997</td>\n",
       "      <td>01</td>\n",
       "    </tr>\n",
       "    <tr>\n",
       "      <th>23</th>\n",
       "      <td>1997-01-01</td>\n",
       "      <td>soybean_meal</td>\n",
       "      <td>MS</td>\n",
       "      <td>Netherlands</td>\n",
       "      <td>Export</td>\n",
       "      <td>Sea</td>\n",
       "      <td>14000.000</td>\n",
       "      <td>3850162.0</td>\n",
       "      <td>1997</td>\n",
       "      <td>01</td>\n",
       "    </tr>\n",
       "  </tbody>\n",
       "</table>\n",
       "</div>"
      ],
      "text/plain": [
       "         date       product state      country    type route       tons  \\\n",
       "19 1997-01-01  soybean_meal    GO  Netherlands  Export   Sea    419.070   \n",
       "20 1997-01-01  soybean_meal    GO  Netherlands  Export   Sea   5000.000   \n",
       "21 1997-01-01  soybean_meal    MS      Germany  Export   Sea    140.672   \n",
       "22 1997-01-01  soybean_meal    MS      Hungary  Export   Sea  15000.000   \n",
       "23 1997-01-01  soybean_meal    MS  Netherlands  Export   Sea  14000.000   \n",
       "\n",
       "          usd  year month  \n",
       "19   119318.0  1997    01  \n",
       "20  1414250.0  1997    01  \n",
       "21    38378.0  1997    01  \n",
       "22  4042100.0  1997    01  \n",
       "23  3850162.0  1997    01  "
      ]
     },
     "execution_count": 19,
     "metadata": {},
     "output_type": "execute_result"
    }
   ],
   "source": [
    "df3 = df_exports.loc[df_exports['product'] == 'soybean_meal'].copy()\n",
    "\n",
    "df3.head()"
   ]
  },
  {
   "cell_type": "markdown",
   "metadata": {
    "colab_type": "text",
    "id": "X8Ka3VX44HpY"
   },
   "source": [
    "###Year"
   ]
  },
  {
   "cell_type": "code",
   "execution_count": 20,
   "metadata": {
    "colab": {
     "base_uri": "https://localhost:8080/",
     "height": 0
    },
    "colab_type": "code",
    "executionInfo": {
     "elapsed": 5505,
     "status": "ok",
     "timestamp": 1594232226790,
     "user": {
      "displayName": "Giovanni Sá Barreto",
      "photoUrl": "",
      "userId": "12625235111421277305"
     },
     "user_tz": 180
    },
    "id": "M-5uJEi94E2G",
    "outputId": "5fdcaee3-c790-4aba-d355-a6e2d4eb4053"
   },
   "outputs": [
    {
     "data": {
      "image/png": "[encoded data removed]",
      "text/plain": [
       "<Figure size 432x288 with 1 Axes>"
      ]
     },
     "metadata": {
      "needs_background": "light"
     },
     "output_type": "display_data"
    }
   ],
   "source": [
    "df_exports_year = df3.groupby(['year']).mean()\n",
    "\n",
    "plt.plot(df_exports_year.tons)\n",
    "plt.xticks(rotation=90)\n",
    "plt.xlabel('Year')\n",
    "plt.ylabel('tons')\n",
    "\n",
    "plt.show()"
   ]
  },
  {
   "cell_type": "code",
   "execution_count": 21,
   "metadata": {
    "colab": {
     "base_uri": "https://localhost:8080/",
     "height": 0
    },
    "colab_type": "code",
    "executionInfo": {
     "elapsed": 5499,
     "status": "ok",
     "timestamp": 1594232226791,
     "user": {
      "displayName": "Giovanni Sá Barreto",
      "photoUrl": "",
      "userId": "12625235111421277305"
     },
     "user_tz": 180
    },
    "id": "VpL9k4k44Nl4",
    "outputId": "9e916ea5-dc9b-48b0-d219-c525bd6a094b"
   },
   "outputs": [
    {
     "data": {
      "image/png": "[encoded data removed]",
      "text/plain": [
       "<Figure size 432x288 with 1 Axes>"
      ]
     },
     "metadata": {
      "needs_background": "light"
     },
     "output_type": "display_data"
    }
   ],
   "source": [
    "plt.plot(df_exports_year.usd)\n",
    "plt.xticks(rotation=90)\n",
    "plt.xlabel('Year')\n",
    "plt.ylabel('usd')\n",
    "\n",
    "plt.show()"
   ]
  },
  {
   "cell_type": "markdown",
   "metadata": {
    "colab_type": "text",
    "id": "-MY0SfqwHhjE"
   },
   "source": [
    "O farelo de sója vem em queda desde 2011, assim como o seu valor."
   ]
  },
  {
   "cell_type": "markdown",
   "metadata": {
    "colab_type": "text",
    "id": "gIPyZB8z4Q-Y"
   },
   "source": [
    "###Month"
   ]
  },
  {
   "cell_type": "code",
   "execution_count": 22,
   "metadata": {
    "colab": {
     "base_uri": "https://localhost:8080/",
     "height": 0
    },
    "colab_type": "code",
    "executionInfo": {
     "elapsed": 5492,
     "status": "ok",
     "timestamp": 1594232226791,
     "user": {
      "displayName": "Giovanni Sá Barreto",
      "photoUrl": "",
      "userId": "12625235111421277305"
     },
     "user_tz": 180
    },
    "id": "ALtWcX4x4Cig",
    "outputId": "5760b08e-3901-4fdf-9093-a3b42928a34c"
   },
   "outputs": [
    {
     "data": {
      "image/png": "[encoded data removed]",
      "text/plain": [
       "<Figure size 432x288 with 1 Axes>"
      ]
     },
     "metadata": {
      "needs_background": "light"
     },
     "output_type": "display_data"
    }
   ],
   "source": [
    "df_exports_month = df3.groupby(['month']).mean()\n",
    "\n",
    "plt.plot(df_exports_month.tons)\n",
    "plt.xticks(rotation=90)\n",
    "plt.xlabel('Month')\n",
    "plt.ylabel('Tons')\n",
    "\n",
    "plt.show()"
   ]
  },
  {
   "cell_type": "code",
   "execution_count": 23,
   "metadata": {
    "colab": {
     "base_uri": "https://localhost:8080/",
     "height": 0
    },
    "colab_type": "code",
    "executionInfo": {
     "elapsed": 6120,
     "status": "ok",
     "timestamp": 1594232227425,
     "user": {
      "displayName": "Giovanni Sá Barreto",
      "photoUrl": "",
      "userId": "12625235111421277305"
     },
     "user_tz": 180
    },
    "id": "D97COSes4VBb",
    "outputId": "dd9f1a15-db66-4447-a2f3-6c5efdc6a1bf"
   },
   "outputs": [
    {
     "data": {
      "image/png": "[encoded data removed]",
      "text/plain": [
       "<Figure size 432x288 with 1 Axes>"
      ]
     },
     "metadata": {
      "needs_background": "light"
     },
     "output_type": "display_data"
    }
   ],
   "source": [
    "plt.plot(df_exports_month.usd)\n",
    "plt.xticks(rotation=90)\n",
    "plt.xlabel('Month')\n",
    "plt.ylabel('USD')\n",
    "\n",
    "plt.show()"
   ]
  },
  {
   "cell_type": "markdown",
   "metadata": {
    "colab_type": "text",
    "id": "ZWLMvBVMHs_M"
   },
   "source": [
    "Diferente dos outros dois produtos, o farelo de sója tem os melhores meses de exportação entre setembro e novembro, com uma grande baixa no mês de fevereiro."
   ]
  },
  {
   "cell_type": "markdown",
   "metadata": {
    "colab_type": "text",
    "id": "Z5dMiUYM5io0"
   },
   "source": [
    "#Q2"
   ]
  },
  {
   "cell_type": "code",
   "execution_count": 24,
   "metadata": {
    "colab": {
     "base_uri": "https://localhost:8080/",
     "height": 0
    },
    "colab_type": "code",
    "executionInfo": {
     "elapsed": 6115,
     "status": "ok",
     "timestamp": 1594232227426,
     "user": {
      "displayName": "Giovanni Sá Barreto",
      "photoUrl": "",
      "userId": "12625235111421277305"
     },
     "user_tz": 180
    },
    "id": "iZjLC_rd5l3i",
    "outputId": "2eb0c744-561a-48a9-b1a3-59aac39ddf6c"
   },
   "outputs": [
    {
     "data": {
      "text/html": [
       "<div>\n",
       "<style scoped>\n",
       "    .dataframe tbody tr th:only-of-type {\n",
       "        vertical-align: middle;\n",
       "    }\n",
       "\n",
       "    .dataframe tbody tr th {\n",
       "        vertical-align: top;\n",
       "    }\n",
       "\n",
       "    .dataframe thead th {\n",
       "        text-align: right;\n",
       "    }\n",
       "</style>\n",
       "<table border=\"1\" class=\"dataframe\">\n",
       "  <thead>\n",
       "    <tr style=\"text-align: right;\">\n",
       "      <th></th>\n",
       "      <th>date</th>\n",
       "      <th>product</th>\n",
       "      <th>state</th>\n",
       "      <th>country</th>\n",
       "      <th>type</th>\n",
       "      <th>route</th>\n",
       "      <th>tons</th>\n",
       "      <th>usd</th>\n",
       "      <th>year</th>\n",
       "      <th>month</th>\n",
       "    </tr>\n",
       "  </thead>\n",
       "  <tbody>\n",
       "    <tr>\n",
       "      <th>2</th>\n",
       "      <td>1997-01-01</td>\n",
       "      <td>corn</td>\n",
       "      <td>GO</td>\n",
       "      <td>Bolivia</td>\n",
       "      <td>Export</td>\n",
       "      <td>Ground</td>\n",
       "      <td>0.200</td>\n",
       "      <td>180.0</td>\n",
       "      <td>1997</td>\n",
       "      <td>01</td>\n",
       "    </tr>\n",
       "    <tr>\n",
       "      <th>3</th>\n",
       "      <td>1997-01-01</td>\n",
       "      <td>corn</td>\n",
       "      <td>GO</td>\n",
       "      <td>United States</td>\n",
       "      <td>Export</td>\n",
       "      <td>Sea</td>\n",
       "      <td>3.488</td>\n",
       "      <td>5688.0</td>\n",
       "      <td>1997</td>\n",
       "      <td>01</td>\n",
       "    </tr>\n",
       "    <tr>\n",
       "      <th>5</th>\n",
       "      <td>1997-01-01</td>\n",
       "      <td>corn</td>\n",
       "      <td>MS</td>\n",
       "      <td>Paraguay</td>\n",
       "      <td>Export</td>\n",
       "      <td>Ground</td>\n",
       "      <td>40.000</td>\n",
       "      <td>38700.0</td>\n",
       "      <td>1997</td>\n",
       "      <td>01</td>\n",
       "    </tr>\n",
       "    <tr>\n",
       "      <th>9</th>\n",
       "      <td>1997-01-01</td>\n",
       "      <td>corn</td>\n",
       "      <td>PR</td>\n",
       "      <td>Netherlands</td>\n",
       "      <td>Export</td>\n",
       "      <td>Sea</td>\n",
       "      <td>170000.000</td>\n",
       "      <td>20000000.0</td>\n",
       "      <td>1997</td>\n",
       "      <td>01</td>\n",
       "    </tr>\n",
       "    <tr>\n",
       "      <th>10</th>\n",
       "      <td>1997-01-01</td>\n",
       "      <td>corn</td>\n",
       "      <td>PR</td>\n",
       "      <td>Paraguay</td>\n",
       "      <td>Export</td>\n",
       "      <td>Ground</td>\n",
       "      <td>258.300</td>\n",
       "      <td>386733.0</td>\n",
       "      <td>1997</td>\n",
       "      <td>01</td>\n",
       "    </tr>\n",
       "  </tbody>\n",
       "</table>\n",
       "</div>"
      ],
      "text/plain": [
       "         date product state        country    type   route        tons  \\\n",
       "2  1997-01-01    corn    GO        Bolivia  Export  Ground       0.200   \n",
       "3  1997-01-01    corn    GO  United States  Export     Sea       3.488   \n",
       "5  1997-01-01    corn    MS       Paraguay  Export  Ground      40.000   \n",
       "9  1997-01-01    corn    PR    Netherlands  Export     Sea  170000.000   \n",
       "10 1997-01-01    corn    PR       Paraguay  Export  Ground     258.300   \n",
       "\n",
       "           usd  year month  \n",
       "2        180.0  1997    01  \n",
       "3       5688.0  1997    01  \n",
       "5      38700.0  1997    01  \n",
       "9   20000000.0  1997    01  \n",
       "10    386733.0  1997    01  "
      ]
     },
     "execution_count": 24,
     "metadata": {},
     "output_type": "execute_result"
    }
   ],
   "source": [
    "df_exports.head()"
   ]
  },
  {
   "cell_type": "code",
   "execution_count": 25,
   "metadata": {
    "colab": {
     "base_uri": "https://localhost:8080/",
     "height": 0
    },
    "colab_type": "code",
    "executionInfo": {
     "elapsed": 6108,
     "status": "ok",
     "timestamp": 1594232227426,
     "user": {
      "displayName": "Giovanni Sá Barreto",
      "photoUrl": "",
      "userId": "12625235111421277305"
     },
     "user_tz": 180
    },
    "id": "v_1Ko47j5pdM",
    "outputId": "72c81234-36ba-477a-ac64-cced07ca6baf"
   },
   "outputs": [
    {
     "data": {
      "text/html": [
       "<div>\n",
       "<style scoped>\n",
       "    .dataframe tbody tr th:only-of-type {\n",
       "        vertical-align: middle;\n",
       "    }\n",
       "\n",
       "    .dataframe tbody tr th {\n",
       "        vertical-align: top;\n",
       "    }\n",
       "\n",
       "    .dataframe thead th {\n",
       "        text-align: right;\n",
       "    }\n",
       "</style>\n",
       "<table border=\"1\" class=\"dataframe\">\n",
       "  <thead>\n",
       "    <tr style=\"text-align: right;\">\n",
       "      <th></th>\n",
       "      <th>date</th>\n",
       "      <th>product</th>\n",
       "      <th>state</th>\n",
       "      <th>country</th>\n",
       "      <th>type</th>\n",
       "      <th>route</th>\n",
       "      <th>tons</th>\n",
       "      <th>usd</th>\n",
       "      <th>year</th>\n",
       "      <th>month</th>\n",
       "    </tr>\n",
       "  </thead>\n",
       "  <tbody>\n",
       "    <tr>\n",
       "      <th>75505</th>\n",
       "      <td>2015-01-01</td>\n",
       "      <td>corn</td>\n",
       "      <td>BA</td>\n",
       "      <td>Morocco</td>\n",
       "      <td>Export</td>\n",
       "      <td>Sea</td>\n",
       "      <td>7486.339</td>\n",
       "      <td>1370000.0</td>\n",
       "      <td>2015</td>\n",
       "      <td>01</td>\n",
       "    </tr>\n",
       "    <tr>\n",
       "      <th>75506</th>\n",
       "      <td>2015-01-01</td>\n",
       "      <td>corn</td>\n",
       "      <td>DF</td>\n",
       "      <td>Taiwan</td>\n",
       "      <td>Export</td>\n",
       "      <td>Sea</td>\n",
       "      <td>6.085</td>\n",
       "      <td>1168.0</td>\n",
       "      <td>2015</td>\n",
       "      <td>01</td>\n",
       "    </tr>\n",
       "    <tr>\n",
       "      <th>75507</th>\n",
       "      <td>2015-01-01</td>\n",
       "      <td>corn</td>\n",
       "      <td>ES</td>\n",
       "      <td>South Korea</td>\n",
       "      <td>Export</td>\n",
       "      <td>Sea</td>\n",
       "      <td>50.000</td>\n",
       "      <td>8135.0</td>\n",
       "      <td>2015</td>\n",
       "      <td>01</td>\n",
       "    </tr>\n",
       "    <tr>\n",
       "      <th>75508</th>\n",
       "      <td>2015-01-01</td>\n",
       "      <td>corn</td>\n",
       "      <td>GO</td>\n",
       "      <td>China</td>\n",
       "      <td>Export</td>\n",
       "      <td>Sea</td>\n",
       "      <td>41331.166</td>\n",
       "      <td>8143579.0</td>\n",
       "      <td>2015</td>\n",
       "      <td>01</td>\n",
       "    </tr>\n",
       "    <tr>\n",
       "      <th>75509</th>\n",
       "      <td>2015-01-01</td>\n",
       "      <td>corn</td>\n",
       "      <td>GO</td>\n",
       "      <td>Costa Rica</td>\n",
       "      <td>Export</td>\n",
       "      <td>Sea</td>\n",
       "      <td>40.000</td>\n",
       "      <td>13140.0</td>\n",
       "      <td>2015</td>\n",
       "      <td>01</td>\n",
       "    </tr>\n",
       "  </tbody>\n",
       "</table>\n",
       "</div>"
      ],
      "text/plain": [
       "            date product state      country    type route       tons  \\\n",
       "75505 2015-01-01    corn    BA      Morocco  Export   Sea   7486.339   \n",
       "75506 2015-01-01    corn    DF       Taiwan  Export   Sea      6.085   \n",
       "75507 2015-01-01    corn    ES  South Korea  Export   Sea     50.000   \n",
       "75508 2015-01-01    corn    GO        China  Export   Sea  41331.166   \n",
       "75509 2015-01-01    corn    GO   Costa Rica  Export   Sea     40.000   \n",
       "\n",
       "             usd  year month  \n",
       "75505  1370000.0  2015    01  \n",
       "75506     1168.0  2015    01  \n",
       "75507     8135.0  2015    01  \n",
       "75508  8143579.0  2015    01  \n",
       "75509    13140.0  2015    01  "
      ]
     },
     "execution_count": 25,
     "metadata": {},
     "output_type": "execute_result"
    }
   ],
   "source": [
    "df_last_5 = df_exports.loc[df_exports.year >= '2015']\n",
    "\n",
    "df_last_5.head()"
   ]
  },
  {
   "cell_type": "code",
   "execution_count": 26,
   "metadata": {
    "colab": {
     "base_uri": "https://localhost:8080/",
     "height": 0
    },
    "colab_type": "code",
    "executionInfo": {
     "elapsed": 6102,
     "status": "ok",
     "timestamp": 1594232227426,
     "user": {
      "displayName": "Giovanni Sá Barreto",
      "photoUrl": "",
      "userId": "12625235111421277305"
     },
     "user_tz": 180
    },
    "id": "66eA0EDL59DT",
    "outputId": "32eab084-cb7c-497e-851e-0ad614b76380"
   },
   "outputs": [
    {
     "data": {
      "text/plain": [
       "sugar           13614\n",
       "corn             7677\n",
       "soybeans         7175\n",
       "soybean_meal     5154\n",
       "soybean_oil      4549\n",
       "wheat             368\n",
       "Name: product, dtype: int64"
      ]
     },
     "execution_count": 26,
     "metadata": {},
     "output_type": "execute_result"
    }
   ],
   "source": [
    "df_last_5['product'].value_counts()"
   ]
  },
  {
   "cell_type": "code",
   "execution_count": 27,
   "metadata": {
    "colab": {
     "base_uri": "https://localhost:8080/",
     "height": 0
    },
    "colab_type": "code",
    "executionInfo": {
     "elapsed": 6097,
     "status": "ok",
     "timestamp": 1594232227427,
     "user": {
      "displayName": "Giovanni Sá Barreto",
      "photoUrl": "",
      "userId": "12625235111421277305"
     },
     "user_tz": 180
    },
    "id": "9nTe4RCu6UWS",
    "outputId": "4b948ebb-d9d4-485b-c994-5a9e37979e6e"
   },
   "outputs": [
    {
     "data": {
      "text/html": [
       "<div>\n",
       "<style scoped>\n",
       "    .dataframe tbody tr th:only-of-type {\n",
       "        vertical-align: middle;\n",
       "    }\n",
       "\n",
       "    .dataframe tbody tr th {\n",
       "        vertical-align: top;\n",
       "    }\n",
       "\n",
       "    .dataframe thead th {\n",
       "        text-align: right;\n",
       "    }\n",
       "</style>\n",
       "<table border=\"1\" class=\"dataframe\">\n",
       "  <thead>\n",
       "    <tr style=\"text-align: right;\">\n",
       "      <th></th>\n",
       "      <th>tons</th>\n",
       "      <th>usd</th>\n",
       "    </tr>\n",
       "    <tr>\n",
       "      <th>product</th>\n",
       "      <th></th>\n",
       "      <th></th>\n",
       "    </tr>\n",
       "  </thead>\n",
       "  <tbody>\n",
       "    <tr>\n",
       "      <th>corn</th>\n",
       "      <td>1.445993e+08</td>\n",
       "      <td>2.444772e+10</td>\n",
       "    </tr>\n",
       "    <tr>\n",
       "      <th>soybean_meal</th>\n",
       "      <td>7.664749e+07</td>\n",
       "      <td>2.840772e+10</td>\n",
       "    </tr>\n",
       "    <tr>\n",
       "      <th>soybean_oil</th>\n",
       "      <td>6.711428e+06</td>\n",
       "      <td>4.795947e+09</td>\n",
       "    </tr>\n",
       "    <tr>\n",
       "      <th>soybeans</th>\n",
       "      <td>3.263315e+08</td>\n",
       "      <td>1.233255e+11</td>\n",
       "    </tr>\n",
       "    <tr>\n",
       "      <th>sugar</th>\n",
       "      <td>1.200336e+08</td>\n",
       "      <td>4.093849e+10</td>\n",
       "    </tr>\n",
       "    <tr>\n",
       "      <th>wheat</th>\n",
       "      <td>3.885836e+06</td>\n",
       "      <td>7.269454e+08</td>\n",
       "    </tr>\n",
       "  </tbody>\n",
       "</table>\n",
       "</div>"
      ],
      "text/plain": [
       "                      tons           usd\n",
       "product                                 \n",
       "corn          1.445993e+08  2.444772e+10\n",
       "soybean_meal  7.664749e+07  2.840772e+10\n",
       "soybean_oil   6.711428e+06  4.795947e+09\n",
       "soybeans      3.263315e+08  1.233255e+11\n",
       "sugar         1.200336e+08  4.093849e+10\n",
       "wheat         3.885836e+06  7.269454e+08"
      ]
     },
     "execution_count": 27,
     "metadata": {},
     "output_type": "execute_result"
    }
   ],
   "source": [
    "df_last_5.groupby(['product']).sum()"
   ]
  },
  {
   "cell_type": "markdown",
   "metadata": {
    "colab_type": "text",
    "id": "ea09WgALIBWs"
   },
   "source": [
    "Nos últimos 5 anos, os principais produtos mais exportados pelo Brasil são: Açucar, milho e grão de sója."
   ]
  },
  {
   "cell_type": "markdown",
   "metadata": {
    "colab_type": "text",
    "id": "kh6YYl337eMo"
   },
   "source": [
    "#Q3"
   ]
  },
  {
   "cell_type": "code",
   "execution_count": 28,
   "metadata": {
    "colab": {
     "base_uri": "https://localhost:8080/",
     "height": 0
    },
    "colab_type": "code",
    "executionInfo": {
     "elapsed": 6090,
     "status": "ok",
     "timestamp": 1594232227427,
     "user": {
      "displayName": "Giovanni Sá Barreto",
      "photoUrl": "",
      "userId": "12625235111421277305"
     },
     "user_tz": 180
    },
    "id": "mYPNtUvl7gXc",
    "outputId": "c3d81ab1-5181-4cc7-be58-93a36c0bee1b"
   },
   "outputs": [
    {
     "data": {
      "text/html": [
       "<div>\n",
       "<style scoped>\n",
       "    .dataframe tbody tr th:only-of-type {\n",
       "        vertical-align: middle;\n",
       "    }\n",
       "\n",
       "    .dataframe tbody tr th {\n",
       "        vertical-align: top;\n",
       "    }\n",
       "\n",
       "    .dataframe thead th {\n",
       "        text-align: right;\n",
       "    }\n",
       "</style>\n",
       "<table border=\"1\" class=\"dataframe\">\n",
       "  <thead>\n",
       "    <tr style=\"text-align: right;\">\n",
       "      <th></th>\n",
       "      <th>date</th>\n",
       "      <th>product</th>\n",
       "      <th>state</th>\n",
       "      <th>country</th>\n",
       "      <th>type</th>\n",
       "      <th>route</th>\n",
       "      <th>tons</th>\n",
       "      <th>usd</th>\n",
       "      <th>year</th>\n",
       "      <th>month</th>\n",
       "    </tr>\n",
       "  </thead>\n",
       "  <tbody>\n",
       "    <tr>\n",
       "      <th>2</th>\n",
       "      <td>1997-01-01</td>\n",
       "      <td>corn</td>\n",
       "      <td>GO</td>\n",
       "      <td>Bolivia</td>\n",
       "      <td>Export</td>\n",
       "      <td>Ground</td>\n",
       "      <td>0.200</td>\n",
       "      <td>180.0</td>\n",
       "      <td>1997</td>\n",
       "      <td>01</td>\n",
       "    </tr>\n",
       "    <tr>\n",
       "      <th>3</th>\n",
       "      <td>1997-01-01</td>\n",
       "      <td>corn</td>\n",
       "      <td>GO</td>\n",
       "      <td>United States</td>\n",
       "      <td>Export</td>\n",
       "      <td>Sea</td>\n",
       "      <td>3.488</td>\n",
       "      <td>5688.0</td>\n",
       "      <td>1997</td>\n",
       "      <td>01</td>\n",
       "    </tr>\n",
       "    <tr>\n",
       "      <th>5</th>\n",
       "      <td>1997-01-01</td>\n",
       "      <td>corn</td>\n",
       "      <td>MS</td>\n",
       "      <td>Paraguay</td>\n",
       "      <td>Export</td>\n",
       "      <td>Ground</td>\n",
       "      <td>40.000</td>\n",
       "      <td>38700.0</td>\n",
       "      <td>1997</td>\n",
       "      <td>01</td>\n",
       "    </tr>\n",
       "    <tr>\n",
       "      <th>9</th>\n",
       "      <td>1997-01-01</td>\n",
       "      <td>corn</td>\n",
       "      <td>PR</td>\n",
       "      <td>Netherlands</td>\n",
       "      <td>Export</td>\n",
       "      <td>Sea</td>\n",
       "      <td>170000.000</td>\n",
       "      <td>20000000.0</td>\n",
       "      <td>1997</td>\n",
       "      <td>01</td>\n",
       "    </tr>\n",
       "    <tr>\n",
       "      <th>10</th>\n",
       "      <td>1997-01-01</td>\n",
       "      <td>corn</td>\n",
       "      <td>PR</td>\n",
       "      <td>Paraguay</td>\n",
       "      <td>Export</td>\n",
       "      <td>Ground</td>\n",
       "      <td>258.300</td>\n",
       "      <td>386733.0</td>\n",
       "      <td>1997</td>\n",
       "      <td>01</td>\n",
       "    </tr>\n",
       "  </tbody>\n",
       "</table>\n",
       "</div>"
      ],
      "text/plain": [
       "         date product state        country    type   route        tons  \\\n",
       "2  1997-01-01    corn    GO        Bolivia  Export  Ground       0.200   \n",
       "3  1997-01-01    corn    GO  United States  Export     Sea       3.488   \n",
       "5  1997-01-01    corn    MS       Paraguay  Export  Ground      40.000   \n",
       "9  1997-01-01    corn    PR    Netherlands  Export     Sea  170000.000   \n",
       "10 1997-01-01    corn    PR       Paraguay  Export  Ground     258.300   \n",
       "\n",
       "           usd  year month  \n",
       "2        180.0  1997    01  \n",
       "3       5688.0  1997    01  \n",
       "5      38700.0  1997    01  \n",
       "9   20000000.0  1997    01  \n",
       "10    386733.0  1997    01  "
      ]
     },
     "execution_count": 28,
     "metadata": {},
     "output_type": "execute_result"
    }
   ],
   "source": [
    "df_exports.head()"
   ]
  },
  {
   "cell_type": "code",
   "execution_count": 29,
   "metadata": {
    "colab": {
     "base_uri": "https://localhost:8080/",
     "height": 0
    },
    "colab_type": "code",
    "executionInfo": {
     "elapsed": 6086,
     "status": "ok",
     "timestamp": 1594232227428,
     "user": {
      "displayName": "Giovanni Sá Barreto",
      "photoUrl": "",
      "userId": "12625235111421277305"
     },
     "user_tz": 180
    },
    "id": "J0V-IEnO7w7-",
    "outputId": "710ce097-ce00-44fe-8988-d26cca834e6b"
   },
   "outputs": [
    {
     "data": {
      "text/html": [
       "<div>\n",
       "<style scoped>\n",
       "    .dataframe tbody tr th:only-of-type {\n",
       "        vertical-align: middle;\n",
       "    }\n",
       "\n",
       "    .dataframe tbody tr th {\n",
       "        vertical-align: top;\n",
       "    }\n",
       "\n",
       "    .dataframe thead th {\n",
       "        text-align: right;\n",
       "    }\n",
       "</style>\n",
       "<table border=\"1\" class=\"dataframe\">\n",
       "  <thead>\n",
       "    <tr style=\"text-align: right;\">\n",
       "      <th></th>\n",
       "      <th>date</th>\n",
       "      <th>product</th>\n",
       "      <th>state</th>\n",
       "      <th>country</th>\n",
       "      <th>type</th>\n",
       "      <th>route</th>\n",
       "      <th>tons</th>\n",
       "      <th>usd</th>\n",
       "      <th>year</th>\n",
       "      <th>month</th>\n",
       "    </tr>\n",
       "  </thead>\n",
       "  <tbody>\n",
       "    <tr>\n",
       "      <th>2</th>\n",
       "      <td>1997-01-01</td>\n",
       "      <td>corn</td>\n",
       "      <td>GO</td>\n",
       "      <td>Bolivia</td>\n",
       "      <td>Export</td>\n",
       "      <td>Ground</td>\n",
       "      <td>0.200</td>\n",
       "      <td>180.0</td>\n",
       "      <td>1997</td>\n",
       "      <td>01</td>\n",
       "    </tr>\n",
       "    <tr>\n",
       "      <th>3</th>\n",
       "      <td>1997-01-01</td>\n",
       "      <td>corn</td>\n",
       "      <td>GO</td>\n",
       "      <td>United States</td>\n",
       "      <td>Export</td>\n",
       "      <td>Sea</td>\n",
       "      <td>3.488</td>\n",
       "      <td>5688.0</td>\n",
       "      <td>1997</td>\n",
       "      <td>01</td>\n",
       "    </tr>\n",
       "    <tr>\n",
       "      <th>5</th>\n",
       "      <td>1997-01-01</td>\n",
       "      <td>corn</td>\n",
       "      <td>MS</td>\n",
       "      <td>Paraguay</td>\n",
       "      <td>Export</td>\n",
       "      <td>Ground</td>\n",
       "      <td>40.000</td>\n",
       "      <td>38700.0</td>\n",
       "      <td>1997</td>\n",
       "      <td>01</td>\n",
       "    </tr>\n",
       "    <tr>\n",
       "      <th>9</th>\n",
       "      <td>1997-01-01</td>\n",
       "      <td>corn</td>\n",
       "      <td>PR</td>\n",
       "      <td>Netherlands</td>\n",
       "      <td>Export</td>\n",
       "      <td>Sea</td>\n",
       "      <td>170000.000</td>\n",
       "      <td>20000000.0</td>\n",
       "      <td>1997</td>\n",
       "      <td>01</td>\n",
       "    </tr>\n",
       "    <tr>\n",
       "      <th>10</th>\n",
       "      <td>1997-01-01</td>\n",
       "      <td>corn</td>\n",
       "      <td>PR</td>\n",
       "      <td>Paraguay</td>\n",
       "      <td>Export</td>\n",
       "      <td>Ground</td>\n",
       "      <td>258.300</td>\n",
       "      <td>386733.0</td>\n",
       "      <td>1997</td>\n",
       "      <td>01</td>\n",
       "    </tr>\n",
       "  </tbody>\n",
       "</table>\n",
       "</div>"
      ],
      "text/plain": [
       "         date product state        country    type   route        tons  \\\n",
       "2  1997-01-01    corn    GO        Bolivia  Export  Ground       0.200   \n",
       "3  1997-01-01    corn    GO  United States  Export     Sea       3.488   \n",
       "5  1997-01-01    corn    MS       Paraguay  Export  Ground      40.000   \n",
       "9  1997-01-01    corn    PR    Netherlands  Export     Sea  170000.000   \n",
       "10 1997-01-01    corn    PR       Paraguay  Export  Ground     258.300   \n",
       "\n",
       "           usd  year month  \n",
       "2        180.0  1997    01  \n",
       "3       5688.0  1997    01  \n",
       "5      38700.0  1997    01  \n",
       "9   20000000.0  1997    01  \n",
       "10    386733.0  1997    01  "
      ]
     },
     "execution_count": 29,
     "metadata": {},
     "output_type": "execute_result"
    }
   ],
   "source": [
    "df_corn = df_exports.loc[df_exports['product'] == 'corn'].copy()\n",
    "\n",
    "df_corn.head()"
   ]
  },
  {
   "cell_type": "code",
   "execution_count": 30,
   "metadata": {
    "colab": {
     "base_uri": "https://localhost:8080/",
     "height": 0
    },
    "colab_type": "code",
    "executionInfo": {
     "elapsed": 6079,
     "status": "ok",
     "timestamp": 1594232227428,
     "user": {
      "displayName": "Giovanni Sá Barreto",
      "photoUrl": "",
      "userId": "12625235111421277305"
     },
     "user_tz": 180
    },
    "id": "ODnEycL07-IW",
    "outputId": "60027825-039a-4253-94e2-f985663ea84c"
   },
   "outputs": [
    {
     "data": {
      "text/plain": [
       "Sea       13448\n",
       "Ground     1830\n",
       "Air         917\n",
       "Other       731\n",
       "River       468\n",
       "Name: route, dtype: int64"
      ]
     },
     "execution_count": 30,
     "metadata": {},
     "output_type": "execute_result"
    }
   ],
   "source": [
    "df_corn.route.value_counts()"
   ]
  },
  {
   "cell_type": "code",
   "execution_count": 31,
   "metadata": {
    "colab": {
     "base_uri": "https://localhost:8080/",
     "height": 0
    },
    "colab_type": "code",
    "executionInfo": {
     "elapsed": 6072,
     "status": "ok",
     "timestamp": 1594232227428,
     "user": {
      "displayName": "Giovanni Sá Barreto",
      "photoUrl": "",
      "userId": "12625235111421277305"
     },
     "user_tz": 180
    },
    "id": "r8I9gb578Et6",
    "outputId": "0596a366-7f24-4a50-e2d8-74a5e3df80b7"
   },
   "outputs": [
    {
     "data": {
      "text/plain": [
       "Sea       93870\n",
       "Ground    13038\n",
       "Other      6374\n",
       "Air        2918\n",
       "River      1765\n",
       "Name: route, dtype: int64"
      ]
     },
     "execution_count": 31,
     "metadata": {},
     "output_type": "execute_result"
    }
   ],
   "source": [
    "df.route.value_counts()"
   ]
  },
  {
   "cell_type": "markdown",
   "metadata": {
    "colab_type": "text",
    "id": "vTUT_rUTO74g"
   },
   "source": [
    "A principal rota de exportação de milho é por vias marítimas. A via por onde os produtos são exportados varia de acordo com o seu destino, por exemplo, um carregamento de soja para a China será melhor e com um custo menor de ser exportado por um navio do que se comparado com um avião. Via Terrestre é vantajoso também para destinos próximos e em quantidades menores."
   ]
  },
  {
   "cell_type": "markdown",
   "metadata": {
    "colab_type": "text",
    "id": "L08lFR_09Arw"
   },
   "source": [
    "#Q4"
   ]
  },
  {
   "cell_type": "code",
   "execution_count": 32,
   "metadata": {
    "colab": {
     "base_uri": "https://localhost:8080/",
     "height": 0
    },
    "colab_type": "code",
    "executionInfo": {
     "elapsed": 6067,
     "status": "ok",
     "timestamp": 1594232227429,
     "user": {
      "displayName": "Giovanni Sá Barreto",
      "photoUrl": "",
      "userId": "12625235111421277305"
     },
     "user_tz": 180
    },
    "id": "NyDbY1rl9C7R",
    "outputId": "14d4f7ad-4f9e-4059-bbc3-e7dd80608d0e"
   },
   "outputs": [
    {
     "data": {
      "text/html": [
       "<div>\n",
       "<style scoped>\n",
       "    .dataframe tbody tr th:only-of-type {\n",
       "        vertical-align: middle;\n",
       "    }\n",
       "\n",
       "    .dataframe tbody tr th {\n",
       "        vertical-align: top;\n",
       "    }\n",
       "\n",
       "    .dataframe thead th {\n",
       "        text-align: right;\n",
       "    }\n",
       "</style>\n",
       "<table border=\"1\" class=\"dataframe\">\n",
       "  <thead>\n",
       "    <tr style=\"text-align: right;\">\n",
       "      <th></th>\n",
       "      <th>date</th>\n",
       "      <th>product</th>\n",
       "      <th>state</th>\n",
       "      <th>country</th>\n",
       "      <th>type</th>\n",
       "      <th>route</th>\n",
       "      <th>tons</th>\n",
       "      <th>usd</th>\n",
       "      <th>year</th>\n",
       "      <th>month</th>\n",
       "    </tr>\n",
       "  </thead>\n",
       "  <tbody>\n",
       "    <tr>\n",
       "      <th>90622</th>\n",
       "      <td>2017-01-01</td>\n",
       "      <td>corn</td>\n",
       "      <td>GO</td>\n",
       "      <td>Dominican Republic</td>\n",
       "      <td>Export</td>\n",
       "      <td>Sea</td>\n",
       "      <td>795.679</td>\n",
       "      <td>147710.0</td>\n",
       "      <td>2017</td>\n",
       "      <td>01</td>\n",
       "    </tr>\n",
       "    <tr>\n",
       "      <th>90623</th>\n",
       "      <td>2017-01-01</td>\n",
       "      <td>corn</td>\n",
       "      <td>GO</td>\n",
       "      <td>Ecuador</td>\n",
       "      <td>Export</td>\n",
       "      <td>Air</td>\n",
       "      <td>0.122</td>\n",
       "      <td>1504.0</td>\n",
       "      <td>2017</td>\n",
       "      <td>01</td>\n",
       "    </tr>\n",
       "    <tr>\n",
       "      <th>90624</th>\n",
       "      <td>2017-01-01</td>\n",
       "      <td>corn</td>\n",
       "      <td>GO</td>\n",
       "      <td>Egypt</td>\n",
       "      <td>Export</td>\n",
       "      <td>Sea</td>\n",
       "      <td>199.950</td>\n",
       "      <td>533884.0</td>\n",
       "      <td>2017</td>\n",
       "      <td>01</td>\n",
       "    </tr>\n",
       "    <tr>\n",
       "      <th>90625</th>\n",
       "      <td>2017-01-01</td>\n",
       "      <td>corn</td>\n",
       "      <td>GO</td>\n",
       "      <td>Iran</td>\n",
       "      <td>Export</td>\n",
       "      <td>Sea</td>\n",
       "      <td>17.680</td>\n",
       "      <td>2791.0</td>\n",
       "      <td>2017</td>\n",
       "      <td>01</td>\n",
       "    </tr>\n",
       "    <tr>\n",
       "      <th>90626</th>\n",
       "      <td>2017-01-01</td>\n",
       "      <td>corn</td>\n",
       "      <td>GO</td>\n",
       "      <td>Iran</td>\n",
       "      <td>Export</td>\n",
       "      <td>Sea</td>\n",
       "      <td>600.000</td>\n",
       "      <td>85626.0</td>\n",
       "      <td>2017</td>\n",
       "      <td>01</td>\n",
       "    </tr>\n",
       "  </tbody>\n",
       "</table>\n",
       "</div>"
      ],
      "text/plain": [
       "            date product state             country    type route     tons  \\\n",
       "90622 2017-01-01    corn    GO  Dominican Republic  Export   Sea  795.679   \n",
       "90623 2017-01-01    corn    GO             Ecuador  Export   Air    0.122   \n",
       "90624 2017-01-01    corn    GO               Egypt  Export   Sea  199.950   \n",
       "90625 2017-01-01    corn    GO                Iran  Export   Sea   17.680   \n",
       "90626 2017-01-01    corn    GO                Iran  Export   Sea  600.000   \n",
       "\n",
       "            usd  year month  \n",
       "90622  147710.0  2017    01  \n",
       "90623    1504.0  2017    01  \n",
       "90624  533884.0  2017    01  \n",
       "90625    2791.0  2017    01  \n",
       "90626   85626.0  2017    01  "
      ]
     },
     "execution_count": 32,
     "metadata": {},
     "output_type": "execute_result"
    }
   ],
   "source": [
    "df_last_3 = df_exports.loc[df_exports.year >= '2017']\n",
    "\n",
    "df_last_3.head()"
   ]
  },
  {
   "cell_type": "markdown",
   "metadata": {
    "colab_type": "text",
    "id": "9OUwlRld923n"
   },
   "source": [
    "###Corn"
   ]
  },
  {
   "cell_type": "code",
   "execution_count": 33,
   "metadata": {
    "colab": {
     "base_uri": "https://localhost:8080/",
     "height": 0
    },
    "colab_type": "code",
    "executionInfo": {
     "elapsed": 6060,
     "status": "ok",
     "timestamp": 1594232227429,
     "user": {
      "displayName": "Giovanni Sá Barreto",
      "photoUrl": "",
      "userId": "12625235111421277305"
     },
     "user_tz": 180
    },
    "id": "qoBNSf2q9UK_",
    "outputId": "ee0e7844-09ac-4b9e-b49e-9257511da51e"
   },
   "outputs": [
    {
     "data": {
      "text/html": [
       "<div>\n",
       "<style scoped>\n",
       "    .dataframe tbody tr th:only-of-type {\n",
       "        vertical-align: middle;\n",
       "    }\n",
       "\n",
       "    .dataframe tbody tr th {\n",
       "        vertical-align: top;\n",
       "    }\n",
       "\n",
       "    .dataframe thead th {\n",
       "        text-align: right;\n",
       "    }\n",
       "</style>\n",
       "<table border=\"1\" class=\"dataframe\">\n",
       "  <thead>\n",
       "    <tr style=\"text-align: right;\">\n",
       "      <th></th>\n",
       "      <th>date</th>\n",
       "      <th>product</th>\n",
       "      <th>state</th>\n",
       "      <th>country</th>\n",
       "      <th>type</th>\n",
       "      <th>route</th>\n",
       "      <th>tons</th>\n",
       "      <th>usd</th>\n",
       "      <th>year</th>\n",
       "      <th>month</th>\n",
       "    </tr>\n",
       "  </thead>\n",
       "  <tbody>\n",
       "    <tr>\n",
       "      <th>90622</th>\n",
       "      <td>2017-01-01</td>\n",
       "      <td>corn</td>\n",
       "      <td>GO</td>\n",
       "      <td>Dominican Republic</td>\n",
       "      <td>Export</td>\n",
       "      <td>Sea</td>\n",
       "      <td>795.679</td>\n",
       "      <td>147710.0</td>\n",
       "      <td>2017</td>\n",
       "      <td>01</td>\n",
       "    </tr>\n",
       "    <tr>\n",
       "      <th>90623</th>\n",
       "      <td>2017-01-01</td>\n",
       "      <td>corn</td>\n",
       "      <td>GO</td>\n",
       "      <td>Ecuador</td>\n",
       "      <td>Export</td>\n",
       "      <td>Air</td>\n",
       "      <td>0.122</td>\n",
       "      <td>1504.0</td>\n",
       "      <td>2017</td>\n",
       "      <td>01</td>\n",
       "    </tr>\n",
       "    <tr>\n",
       "      <th>90624</th>\n",
       "      <td>2017-01-01</td>\n",
       "      <td>corn</td>\n",
       "      <td>GO</td>\n",
       "      <td>Egypt</td>\n",
       "      <td>Export</td>\n",
       "      <td>Sea</td>\n",
       "      <td>199.950</td>\n",
       "      <td>533884.0</td>\n",
       "      <td>2017</td>\n",
       "      <td>01</td>\n",
       "    </tr>\n",
       "    <tr>\n",
       "      <th>90625</th>\n",
       "      <td>2017-01-01</td>\n",
       "      <td>corn</td>\n",
       "      <td>GO</td>\n",
       "      <td>Iran</td>\n",
       "      <td>Export</td>\n",
       "      <td>Sea</td>\n",
       "      <td>17.680</td>\n",
       "      <td>2791.0</td>\n",
       "      <td>2017</td>\n",
       "      <td>01</td>\n",
       "    </tr>\n",
       "    <tr>\n",
       "      <th>90626</th>\n",
       "      <td>2017-01-01</td>\n",
       "      <td>corn</td>\n",
       "      <td>GO</td>\n",
       "      <td>Iran</td>\n",
       "      <td>Export</td>\n",
       "      <td>Sea</td>\n",
       "      <td>600.000</td>\n",
       "      <td>85626.0</td>\n",
       "      <td>2017</td>\n",
       "      <td>01</td>\n",
       "    </tr>\n",
       "  </tbody>\n",
       "</table>\n",
       "</div>"
      ],
      "text/plain": [
       "            date product state             country    type route     tons  \\\n",
       "90622 2017-01-01    corn    GO  Dominican Republic  Export   Sea  795.679   \n",
       "90623 2017-01-01    corn    GO             Ecuador  Export   Air    0.122   \n",
       "90624 2017-01-01    corn    GO               Egypt  Export   Sea  199.950   \n",
       "90625 2017-01-01    corn    GO                Iran  Export   Sea   17.680   \n",
       "90626 2017-01-01    corn    GO                Iran  Export   Sea  600.000   \n",
       "\n",
       "            usd  year month  \n",
       "90622  147710.0  2017    01  \n",
       "90623    1504.0  2017    01  \n",
       "90624  533884.0  2017    01  \n",
       "90625    2791.0  2017    01  \n",
       "90626   85626.0  2017    01  "
      ]
     },
     "execution_count": 33,
     "metadata": {},
     "output_type": "execute_result"
    }
   ],
   "source": [
    "df_corn_3 = df_last_3.loc[df_last_3['product'] == 'corn'].copy()\n",
    "\n",
    "df_corn_3.head()"
   ]
  },
  {
   "cell_type": "code",
   "execution_count": 34,
   "metadata": {
    "colab": {
     "base_uri": "https://localhost:8080/",
     "height": 0
    },
    "colab_type": "code",
    "executionInfo": {
     "elapsed": 6055,
     "status": "ok",
     "timestamp": 1594232227429,
     "user": {
      "displayName": "Giovanni Sá Barreto",
      "photoUrl": "",
      "userId": "12625235111421277305"
     },
     "user_tz": 180
    },
    "id": "8kOEVIx292Bh",
    "outputId": "900bb9c8-8cae-4951-cc77-0f14cf486355"
   },
   "outputs": [
    {
     "data": {
      "text/plain": [
       "Iran                     355\n",
       "Egypt                    282\n",
       "Spain                    266\n",
       "Japan                    253\n",
       "Vietnam                  208\n",
       "                        ... \n",
       "Australia                  1\n",
       "Bulgaria                   1\n",
       "Mozambique                 1\n",
       "Luxembourg                 1\n",
       "São Tome and Principe      1\n",
       "Name: country, Length: 113, dtype: int64"
      ]
     },
     "execution_count": 34,
     "metadata": {},
     "output_type": "execute_result"
    }
   ],
   "source": [
    "df_corn_3.country.value_counts()"
   ]
  },
  {
   "cell_type": "markdown",
   "metadata": {
    "colab_type": "text",
    "id": "-G7KSjOpPwyb"
   },
   "source": [
    "Os principais parceiros brasileiros de exportação de milho são Irã, Egito e Espanha."
   ]
  },
  {
   "cell_type": "markdown",
   "metadata": {
    "colab_type": "text",
    "id": "_w0IPKPw9-R7"
   },
   "source": [
    "###Sugar"
   ]
  },
  {
   "cell_type": "code",
   "execution_count": 35,
   "metadata": {
    "colab": {
     "base_uri": "https://localhost:8080/",
     "height": 0
    },
    "colab_type": "code",
    "executionInfo": {
     "elapsed": 6051,
     "status": "ok",
     "timestamp": 1594232227430,
     "user": {
      "displayName": "Giovanni Sá Barreto",
      "photoUrl": "",
      "userId": "12625235111421277305"
     },
     "user_tz": 180
    },
    "id": "uBXLVQhW-BVo",
    "outputId": "8a64dc7b-6145-44a1-992b-70f70b8eaff1"
   },
   "outputs": [
    {
     "data": {
      "text/html": [
       "<div>\n",
       "<style scoped>\n",
       "    .dataframe tbody tr th:only-of-type {\n",
       "        vertical-align: middle;\n",
       "    }\n",
       "\n",
       "    .dataframe tbody tr th {\n",
       "        vertical-align: top;\n",
       "    }\n",
       "\n",
       "    .dataframe thead th {\n",
       "        text-align: right;\n",
       "    }\n",
       "</style>\n",
       "<table border=\"1\" class=\"dataframe\">\n",
       "  <thead>\n",
       "    <tr style=\"text-align: right;\">\n",
       "      <th></th>\n",
       "      <th>date</th>\n",
       "      <th>product</th>\n",
       "      <th>state</th>\n",
       "      <th>country</th>\n",
       "      <th>type</th>\n",
       "      <th>route</th>\n",
       "      <th>tons</th>\n",
       "      <th>usd</th>\n",
       "      <th>year</th>\n",
       "      <th>month</th>\n",
       "    </tr>\n",
       "  </thead>\n",
       "  <tbody>\n",
       "    <tr>\n",
       "      <th>90867</th>\n",
       "      <td>2017-01-01</td>\n",
       "      <td>sugar</td>\n",
       "      <td>AL</td>\n",
       "      <td>Canada</td>\n",
       "      <td>Export</td>\n",
       "      <td>Sea</td>\n",
       "      <td>62000.0</td>\n",
       "      <td>22821294.0</td>\n",
       "      <td>2017</td>\n",
       "      <td>01</td>\n",
       "    </tr>\n",
       "    <tr>\n",
       "      <th>90868</th>\n",
       "      <td>2017-01-01</td>\n",
       "      <td>sugar</td>\n",
       "      <td>AL</td>\n",
       "      <td>Ghana</td>\n",
       "      <td>Export</td>\n",
       "      <td>Sea</td>\n",
       "      <td>4050.0</td>\n",
       "      <td>2076639.0</td>\n",
       "      <td>2017</td>\n",
       "      <td>01</td>\n",
       "    </tr>\n",
       "    <tr>\n",
       "      <th>90869</th>\n",
       "      <td>2017-01-01</td>\n",
       "      <td>sugar</td>\n",
       "      <td>AL</td>\n",
       "      <td>Guinea</td>\n",
       "      <td>Export</td>\n",
       "      <td>Sea</td>\n",
       "      <td>270.0</td>\n",
       "      <td>147555.0</td>\n",
       "      <td>2017</td>\n",
       "      <td>01</td>\n",
       "    </tr>\n",
       "    <tr>\n",
       "      <th>90870</th>\n",
       "      <td>2017-01-01</td>\n",
       "      <td>sugar</td>\n",
       "      <td>AL</td>\n",
       "      <td>Liberia</td>\n",
       "      <td>Export</td>\n",
       "      <td>Sea</td>\n",
       "      <td>270.0</td>\n",
       "      <td>147555.0</td>\n",
       "      <td>2017</td>\n",
       "      <td>01</td>\n",
       "    </tr>\n",
       "    <tr>\n",
       "      <th>90871</th>\n",
       "      <td>2017-01-01</td>\n",
       "      <td>sugar</td>\n",
       "      <td>AL</td>\n",
       "      <td>Togo</td>\n",
       "      <td>Export</td>\n",
       "      <td>Sea</td>\n",
       "      <td>324.0</td>\n",
       "      <td>177066.0</td>\n",
       "      <td>2017</td>\n",
       "      <td>01</td>\n",
       "    </tr>\n",
       "  </tbody>\n",
       "</table>\n",
       "</div>"
      ],
      "text/plain": [
       "            date product state  country    type route     tons         usd  \\\n",
       "90867 2017-01-01   sugar    AL   Canada  Export   Sea  62000.0  22821294.0   \n",
       "90868 2017-01-01   sugar    AL    Ghana  Export   Sea   4050.0   2076639.0   \n",
       "90869 2017-01-01   sugar    AL   Guinea  Export   Sea    270.0    147555.0   \n",
       "90870 2017-01-01   sugar    AL  Liberia  Export   Sea    270.0    147555.0   \n",
       "90871 2017-01-01   sugar    AL     Togo  Export   Sea    324.0    177066.0   \n",
       "\n",
       "       year month  \n",
       "90867  2017    01  \n",
       "90868  2017    01  \n",
       "90869  2017    01  \n",
       "90870  2017    01  \n",
       "90871  2017    01  "
      ]
     },
     "execution_count": 35,
     "metadata": {},
     "output_type": "execute_result"
    }
   ],
   "source": [
    "df_sugar_3 = df_last_3.loc[df_last_3['product'] == 'sugar'].copy()\n",
    "\n",
    "df_sugar_3.head()"
   ]
  },
  {
   "cell_type": "code",
   "execution_count": 36,
   "metadata": {
    "colab": {
     "base_uri": "https://localhost:8080/",
     "height": 0
    },
    "colab_type": "code",
    "executionInfo": {
     "elapsed": 6047,
     "status": "ok",
     "timestamp": 1594232227430,
     "user": {
      "displayName": "Giovanni Sá Barreto",
      "photoUrl": "",
      "userId": "12625235111421277305"
     },
     "user_tz": 180
    },
    "id": "NO2i_dIr-IUh",
    "outputId": "b8f4a456-5bca-421a-8488-875083322d96"
   },
   "outputs": [
    {
     "data": {
      "text/plain": [
       "Uruguay                        302\n",
       "Liberia                        288\n",
       "Venezuela                      282\n",
       "Panama                         273\n",
       "Marshall Islands               263\n",
       "                              ... \n",
       "Ethiopia                         1\n",
       "Belize                           1\n",
       "Gabon                            1\n",
       "Falkland Islands (Malvinas)      1\n",
       "Bosnia and Herzegovina           1\n",
       "Name: country, Length: 154, dtype: int64"
      ]
     },
     "execution_count": 36,
     "metadata": {},
     "output_type": "execute_result"
    }
   ],
   "source": [
    "df_sugar_3.country.value_counts()"
   ]
  },
  {
   "cell_type": "markdown",
   "metadata": {
    "colab_type": "text",
    "id": "vvIHELvjP6Py"
   },
   "source": [
    "Já em relação ao açucar são Uruguai, Libéria e Venezuela."
   ]
  },
  {
   "cell_type": "markdown",
   "metadata": {
    "colab_type": "text",
    "id": "6r5jDF1J-MEv"
   },
   "source": [
    "#Q5"
   ]
  },
  {
   "cell_type": "code",
   "execution_count": 37,
   "metadata": {
    "colab": {
     "base_uri": "https://localhost:8080/",
     "height": 0
    },
    "colab_type": "code",
    "executionInfo": {
     "elapsed": 6041,
     "status": "ok",
     "timestamp": 1594232227430,
     "user": {
      "displayName": "Giovanni Sá Barreto",
      "photoUrl": "",
      "userId": "12625235111421277305"
     },
     "user_tz": 180
    },
    "id": "xjEnTGAm-ObL",
    "outputId": "79f6e55e-9cb9-4d95-a02d-85d9f0dac0d7"
   },
   "outputs": [
    {
     "data": {
      "text/html": [
       "<div>\n",
       "<style scoped>\n",
       "    .dataframe tbody tr th:only-of-type {\n",
       "        vertical-align: middle;\n",
       "    }\n",
       "\n",
       "    .dataframe tbody tr th {\n",
       "        vertical-align: top;\n",
       "    }\n",
       "\n",
       "    .dataframe thead th {\n",
       "        text-align: right;\n",
       "    }\n",
       "</style>\n",
       "<table border=\"1\" class=\"dataframe\">\n",
       "  <thead>\n",
       "    <tr style=\"text-align: right;\">\n",
       "      <th></th>\n",
       "      <th>date</th>\n",
       "      <th>product</th>\n",
       "      <th>state</th>\n",
       "      <th>country</th>\n",
       "      <th>type</th>\n",
       "      <th>route</th>\n",
       "      <th>tons</th>\n",
       "      <th>usd</th>\n",
       "      <th>year</th>\n",
       "      <th>month</th>\n",
       "    </tr>\n",
       "  </thead>\n",
       "  <tbody>\n",
       "    <tr>\n",
       "      <th>2</th>\n",
       "      <td>1997-01-01</td>\n",
       "      <td>corn</td>\n",
       "      <td>GO</td>\n",
       "      <td>Bolivia</td>\n",
       "      <td>Export</td>\n",
       "      <td>Ground</td>\n",
       "      <td>0.200</td>\n",
       "      <td>180.0</td>\n",
       "      <td>1997</td>\n",
       "      <td>01</td>\n",
       "    </tr>\n",
       "    <tr>\n",
       "      <th>3</th>\n",
       "      <td>1997-01-01</td>\n",
       "      <td>corn</td>\n",
       "      <td>GO</td>\n",
       "      <td>United States</td>\n",
       "      <td>Export</td>\n",
       "      <td>Sea</td>\n",
       "      <td>3.488</td>\n",
       "      <td>5688.0</td>\n",
       "      <td>1997</td>\n",
       "      <td>01</td>\n",
       "    </tr>\n",
       "    <tr>\n",
       "      <th>5</th>\n",
       "      <td>1997-01-01</td>\n",
       "      <td>corn</td>\n",
       "      <td>MS</td>\n",
       "      <td>Paraguay</td>\n",
       "      <td>Export</td>\n",
       "      <td>Ground</td>\n",
       "      <td>40.000</td>\n",
       "      <td>38700.0</td>\n",
       "      <td>1997</td>\n",
       "      <td>01</td>\n",
       "    </tr>\n",
       "    <tr>\n",
       "      <th>9</th>\n",
       "      <td>1997-01-01</td>\n",
       "      <td>corn</td>\n",
       "      <td>PR</td>\n",
       "      <td>Netherlands</td>\n",
       "      <td>Export</td>\n",
       "      <td>Sea</td>\n",
       "      <td>170000.000</td>\n",
       "      <td>20000000.0</td>\n",
       "      <td>1997</td>\n",
       "      <td>01</td>\n",
       "    </tr>\n",
       "    <tr>\n",
       "      <th>10</th>\n",
       "      <td>1997-01-01</td>\n",
       "      <td>corn</td>\n",
       "      <td>PR</td>\n",
       "      <td>Paraguay</td>\n",
       "      <td>Export</td>\n",
       "      <td>Ground</td>\n",
       "      <td>258.300</td>\n",
       "      <td>386733.0</td>\n",
       "      <td>1997</td>\n",
       "      <td>01</td>\n",
       "    </tr>\n",
       "  </tbody>\n",
       "</table>\n",
       "</div>"
      ],
      "text/plain": [
       "         date product state        country    type   route        tons  \\\n",
       "2  1997-01-01    corn    GO        Bolivia  Export  Ground       0.200   \n",
       "3  1997-01-01    corn    GO  United States  Export     Sea       3.488   \n",
       "5  1997-01-01    corn    MS       Paraguay  Export  Ground      40.000   \n",
       "9  1997-01-01    corn    PR    Netherlands  Export     Sea  170000.000   \n",
       "10 1997-01-01    corn    PR       Paraguay  Export  Ground     258.300   \n",
       "\n",
       "           usd  year month  \n",
       "2        180.0  1997    01  \n",
       "3       5688.0  1997    01  \n",
       "5      38700.0  1997    01  \n",
       "9   20000000.0  1997    01  \n",
       "10    386733.0  1997    01  "
      ]
     },
     "execution_count": 37,
     "metadata": {},
     "output_type": "execute_result"
    }
   ],
   "source": [
    "df_exports.head()"
   ]
  },
  {
   "cell_type": "code",
   "execution_count": 38,
   "metadata": {
    "colab": {
     "base_uri": "https://localhost:8080/",
     "height": 0
    },
    "colab_type": "code",
    "executionInfo": {
     "elapsed": 6037,
     "status": "ok",
     "timestamp": 1594232227431,
     "user": {
      "displayName": "Giovanni Sá Barreto",
      "photoUrl": "",
      "userId": "12625235111421277305"
     },
     "user_tz": 180
    },
    "id": "InFaZgXSAYJ7",
    "outputId": "a5f1d8fa-6c34-4ce3-ceb4-215bbb8580e0"
   },
   "outputs": [
    {
     "data": {
      "text/plain": [
       "sugar           32988\n",
       "soybeans        21817\n",
       "soybean_meal    17672\n",
       "corn            17394\n",
       "soybean_oil     15287\n",
       "wheat             703\n",
       "Name: product, dtype: int64"
      ]
     },
     "execution_count": 38,
     "metadata": {},
     "output_type": "execute_result"
    }
   ],
   "source": [
    "df_exports['product'].value_counts()"
   ]
  },
  {
   "cell_type": "markdown",
   "metadata": {
    "colab_type": "text",
    "id": "EgdVAQVY_-WH"
   },
   "source": [
    "###Corn"
   ]
  },
  {
   "cell_type": "code",
   "execution_count": 39,
   "metadata": {
    "colab": {
     "base_uri": "https://localhost:8080/",
     "height": 0
    },
    "colab_type": "code",
    "executionInfo": {
     "elapsed": 6031,
     "status": "ok",
     "timestamp": 1594232227431,
     "user": {
      "displayName": "Giovanni Sá Barreto",
      "photoUrl": "",
      "userId": "12625235111421277305"
     },
     "user_tz": 180
    },
    "id": "rmfXTixb_DRq",
    "outputId": "644d03d3-421a-4cb3-c2c2-0f4099b7d246"
   },
   "outputs": [
    {
     "data": {
      "text/html": [
       "<div>\n",
       "<style scoped>\n",
       "    .dataframe tbody tr th:only-of-type {\n",
       "        vertical-align: middle;\n",
       "    }\n",
       "\n",
       "    .dataframe tbody tr th {\n",
       "        vertical-align: top;\n",
       "    }\n",
       "\n",
       "    .dataframe thead th {\n",
       "        text-align: right;\n",
       "    }\n",
       "</style>\n",
       "<table border=\"1\" class=\"dataframe\">\n",
       "  <thead>\n",
       "    <tr style=\"text-align: right;\">\n",
       "      <th></th>\n",
       "      <th>date</th>\n",
       "      <th>product</th>\n",
       "      <th>state</th>\n",
       "      <th>country</th>\n",
       "      <th>type</th>\n",
       "      <th>route</th>\n",
       "      <th>tons</th>\n",
       "      <th>usd</th>\n",
       "      <th>year</th>\n",
       "      <th>month</th>\n",
       "    </tr>\n",
       "  </thead>\n",
       "  <tbody>\n",
       "    <tr>\n",
       "      <th>2</th>\n",
       "      <td>1997-01-01</td>\n",
       "      <td>corn</td>\n",
       "      <td>GO</td>\n",
       "      <td>Bolivia</td>\n",
       "      <td>Export</td>\n",
       "      <td>Ground</td>\n",
       "      <td>0.200</td>\n",
       "      <td>180.0</td>\n",
       "      <td>1997</td>\n",
       "      <td>01</td>\n",
       "    </tr>\n",
       "    <tr>\n",
       "      <th>3</th>\n",
       "      <td>1997-01-01</td>\n",
       "      <td>corn</td>\n",
       "      <td>GO</td>\n",
       "      <td>United States</td>\n",
       "      <td>Export</td>\n",
       "      <td>Sea</td>\n",
       "      <td>3.488</td>\n",
       "      <td>5688.0</td>\n",
       "      <td>1997</td>\n",
       "      <td>01</td>\n",
       "    </tr>\n",
       "    <tr>\n",
       "      <th>5</th>\n",
       "      <td>1997-01-01</td>\n",
       "      <td>corn</td>\n",
       "      <td>MS</td>\n",
       "      <td>Paraguay</td>\n",
       "      <td>Export</td>\n",
       "      <td>Ground</td>\n",
       "      <td>40.000</td>\n",
       "      <td>38700.0</td>\n",
       "      <td>1997</td>\n",
       "      <td>01</td>\n",
       "    </tr>\n",
       "    <tr>\n",
       "      <th>9</th>\n",
       "      <td>1997-01-01</td>\n",
       "      <td>corn</td>\n",
       "      <td>PR</td>\n",
       "      <td>Netherlands</td>\n",
       "      <td>Export</td>\n",
       "      <td>Sea</td>\n",
       "      <td>170000.000</td>\n",
       "      <td>20000000.0</td>\n",
       "      <td>1997</td>\n",
       "      <td>01</td>\n",
       "    </tr>\n",
       "    <tr>\n",
       "      <th>10</th>\n",
       "      <td>1997-01-01</td>\n",
       "      <td>corn</td>\n",
       "      <td>PR</td>\n",
       "      <td>Paraguay</td>\n",
       "      <td>Export</td>\n",
       "      <td>Ground</td>\n",
       "      <td>258.300</td>\n",
       "      <td>386733.0</td>\n",
       "      <td>1997</td>\n",
       "      <td>01</td>\n",
       "    </tr>\n",
       "  </tbody>\n",
       "</table>\n",
       "</div>"
      ],
      "text/plain": [
       "         date product state        country    type   route        tons  \\\n",
       "2  1997-01-01    corn    GO        Bolivia  Export  Ground       0.200   \n",
       "3  1997-01-01    corn    GO  United States  Export     Sea       3.488   \n",
       "5  1997-01-01    corn    MS       Paraguay  Export  Ground      40.000   \n",
       "9  1997-01-01    corn    PR    Netherlands  Export     Sea  170000.000   \n",
       "10 1997-01-01    corn    PR       Paraguay  Export  Ground     258.300   \n",
       "\n",
       "           usd  year month  \n",
       "2        180.0  1997    01  \n",
       "3       5688.0  1997    01  \n",
       "5      38700.0  1997    01  \n",
       "9   20000000.0  1997    01  \n",
       "10    386733.0  1997    01  "
      ]
     },
     "execution_count": 39,
     "metadata": {},
     "output_type": "execute_result"
    }
   ],
   "source": [
    "df_exp_corn = df_exports.loc[df_exports['product'] == 'corn'].copy()\n",
    "\n",
    "df_exp_corn.head()"
   ]
  },
  {
   "cell_type": "code",
   "execution_count": 40,
   "metadata": {
    "colab": {
     "base_uri": "https://localhost:8080/",
     "height": 0
    },
    "colab_type": "code",
    "executionInfo": {
     "elapsed": 6023,
     "status": "ok",
     "timestamp": 1594232227431,
     "user": {
      "displayName": "Giovanni Sá Barreto",
      "photoUrl": "",
      "userId": "12625235111421277305"
     },
     "user_tz": 180
    },
    "id": "P6bUpXU6ABVn",
    "outputId": "81814811-4885-4205-8638-decdaf3ee47b"
   },
   "outputs": [
    {
     "data": {
      "text/plain": [
       "MT    4387\n",
       "PR    2714\n",
       "GO    2643\n",
       "SP    2118\n",
       "MS    1590\n",
       "MG    1277\n",
       "RS     782\n",
       "RO     446\n",
       "SC     437\n",
       "MA     209\n",
       "PA     205\n",
       "TO     183\n",
       "DF      94\n",
       "BA      63\n",
       "ES      58\n",
       "PI      51\n",
       "RJ      47\n",
       "RR      32\n",
       "AC      29\n",
       "CE       9\n",
       "AM       8\n",
       "PE       8\n",
       "RN       1\n",
       "PB       1\n",
       "AL       1\n",
       "AP       1\n",
       "Name: state, dtype: int64"
      ]
     },
     "execution_count": 40,
     "metadata": {},
     "output_type": "execute_result"
    }
   ],
   "source": [
    "df_exp_corn.state.value_counts()"
   ]
  },
  {
   "cell_type": "markdown",
   "metadata": {
    "colab_type": "text",
    "id": "Gd6ijD4ZAV16"
   },
   "source": [
    "###Sugar"
   ]
  },
  {
   "cell_type": "code",
   "execution_count": 41,
   "metadata": {
    "colab": {
     "base_uri": "https://localhost:8080/",
     "height": 0
    },
    "colab_type": "code",
    "executionInfo": {
     "elapsed": 6015,
     "status": "ok",
     "timestamp": 1594232227431,
     "user": {
      "displayName": "Giovanni Sá Barreto",
      "photoUrl": "",
      "userId": "12625235111421277305"
     },
     "user_tz": 180
    },
    "id": "JSkf2qaVA3Dj",
    "outputId": "6c16b9a9-fc71-484d-e7f9-994170b362e6"
   },
   "outputs": [
    {
     "data": {
      "text/html": [
       "<div>\n",
       "<style scoped>\n",
       "    .dataframe tbody tr th:only-of-type {\n",
       "        vertical-align: middle;\n",
       "    }\n",
       "\n",
       "    .dataframe tbody tr th {\n",
       "        vertical-align: top;\n",
       "    }\n",
       "\n",
       "    .dataframe thead th {\n",
       "        text-align: right;\n",
       "    }\n",
       "</style>\n",
       "<table border=\"1\" class=\"dataframe\">\n",
       "  <thead>\n",
       "    <tr style=\"text-align: right;\">\n",
       "      <th></th>\n",
       "      <th>date</th>\n",
       "      <th>product</th>\n",
       "      <th>state</th>\n",
       "      <th>country</th>\n",
       "      <th>type</th>\n",
       "      <th>route</th>\n",
       "      <th>tons</th>\n",
       "      <th>usd</th>\n",
       "      <th>year</th>\n",
       "      <th>month</th>\n",
       "    </tr>\n",
       "  </thead>\n",
       "  <tbody>\n",
       "    <tr>\n",
       "      <th>76</th>\n",
       "      <td>1997-01-01</td>\n",
       "      <td>sugar</td>\n",
       "      <td>PE</td>\n",
       "      <td>Algeria</td>\n",
       "      <td>Export</td>\n",
       "      <td>Air</td>\n",
       "      <td>1000.0</td>\n",
       "      <td>307000.0</td>\n",
       "      <td>1997</td>\n",
       "      <td>01</td>\n",
       "    </tr>\n",
       "    <tr>\n",
       "      <th>77</th>\n",
       "      <td>1997-01-01</td>\n",
       "      <td>sugar</td>\n",
       "      <td>PE</td>\n",
       "      <td>Algeria</td>\n",
       "      <td>Export</td>\n",
       "      <td>Sea</td>\n",
       "      <td>12400.0</td>\n",
       "      <td>3587650.0</td>\n",
       "      <td>1997</td>\n",
       "      <td>01</td>\n",
       "    </tr>\n",
       "    <tr>\n",
       "      <th>78</th>\n",
       "      <td>1997-01-01</td>\n",
       "      <td>sugar</td>\n",
       "      <td>PE</td>\n",
       "      <td>Gambia</td>\n",
       "      <td>Export</td>\n",
       "      <td>Sea</td>\n",
       "      <td>3560.0</td>\n",
       "      <td>1032400.0</td>\n",
       "      <td>1997</td>\n",
       "      <td>01</td>\n",
       "    </tr>\n",
       "    <tr>\n",
       "      <th>79</th>\n",
       "      <td>1997-01-01</td>\n",
       "      <td>sugar</td>\n",
       "      <td>PE</td>\n",
       "      <td>Ghana</td>\n",
       "      <td>Export</td>\n",
       "      <td>Sea</td>\n",
       "      <td>9040.0</td>\n",
       "      <td>2798359.0</td>\n",
       "      <td>1997</td>\n",
       "      <td>01</td>\n",
       "    </tr>\n",
       "    <tr>\n",
       "      <th>80</th>\n",
       "      <td>1997-01-01</td>\n",
       "      <td>sugar</td>\n",
       "      <td>PE</td>\n",
       "      <td>Iran</td>\n",
       "      <td>Export</td>\n",
       "      <td>Sea</td>\n",
       "      <td>28000.0</td>\n",
       "      <td>8190000.0</td>\n",
       "      <td>1997</td>\n",
       "      <td>01</td>\n",
       "    </tr>\n",
       "  </tbody>\n",
       "</table>\n",
       "</div>"
      ],
      "text/plain": [
       "         date product state  country    type route     tons        usd  year  \\\n",
       "76 1997-01-01   sugar    PE  Algeria  Export   Air   1000.0   307000.0  1997   \n",
       "77 1997-01-01   sugar    PE  Algeria  Export   Sea  12400.0  3587650.0  1997   \n",
       "78 1997-01-01   sugar    PE   Gambia  Export   Sea   3560.0  1032400.0  1997   \n",
       "79 1997-01-01   sugar    PE    Ghana  Export   Sea   9040.0  2798359.0  1997   \n",
       "80 1997-01-01   sugar    PE     Iran  Export   Sea  28000.0  8190000.0  1997   \n",
       "\n",
       "   month  \n",
       "76    01  \n",
       "77    01  \n",
       "78    01  \n",
       "79    01  \n",
       "80    01  "
      ]
     },
     "execution_count": 41,
     "metadata": {},
     "output_type": "execute_result"
    }
   ],
   "source": [
    "df_exp_sugar = df_exports.loc[df_exports['product'] == 'sugar'].copy()\n",
    "\n",
    "df_exp_sugar.head()"
   ]
  },
  {
   "cell_type": "code",
   "execution_count": 42,
   "metadata": {
    "colab": {
     "base_uri": "https://localhost:8080/",
     "height": 0
    },
    "colab_type": "code",
    "executionInfo": {
     "elapsed": 6009,
     "status": "ok",
     "timestamp": 1594232227432,
     "user": {
      "displayName": "Giovanni Sá Barreto",
      "photoUrl": "",
      "userId": "12625235111421277305"
     },
     "user_tz": 180
    },
    "id": "s4vt9xFiA9Rq",
    "outputId": "8ea22403-51f1-4771-db69-6abef4a87e92"
   },
   "outputs": [
    {
     "data": {
      "text/plain": [
       "SP    18278\n",
       "GO     2732\n",
       "MG     2646\n",
       "PR     1993\n",
       "MS     1524\n",
       "PE     1118\n",
       "AL      999\n",
       "MT      711\n",
       "SC      479\n",
       "RS      425\n",
       "ES      418\n",
       "RJ      336\n",
       "PB      286\n",
       "SE      173\n",
       "AM      149\n",
       "BA      139\n",
       "RN      137\n",
       "MA      114\n",
       "PA       99\n",
       "RR       92\n",
       "CE       79\n",
       "RO       35\n",
       "AC       13\n",
       "AP        8\n",
       "DF        4\n",
       "PI        1\n",
       "Name: state, dtype: int64"
      ]
     },
     "execution_count": 42,
     "metadata": {},
     "output_type": "execute_result"
    }
   ],
   "source": [
    "df_exp_sugar.state.value_counts()"
   ]
  },
  {
   "cell_type": "markdown",
   "metadata": {
    "colab_type": "text",
    "id": "uGG1K1zWAfE5"
   },
   "source": [
    "###soybeans "
   ]
  },
  {
   "cell_type": "code",
   "execution_count": 43,
   "metadata": {
    "colab": {
     "base_uri": "https://localhost:8080/",
     "height": 0
    },
    "colab_type": "code",
    "executionInfo": {
     "elapsed": 6002,
     "status": "ok",
     "timestamp": 1594232227432,
     "user": {
      "displayName": "Giovanni Sá Barreto",
      "photoUrl": "",
      "userId": "12625235111421277305"
     },
     "user_tz": 180
    },
    "id": "k-AJCvaaBBXy",
    "outputId": "91c0a651-a39c-4451-bb2b-2012b282b16a"
   },
   "outputs": [
    {
     "data": {
      "text/html": [
       "<div>\n",
       "<style scoped>\n",
       "    .dataframe tbody tr th:only-of-type {\n",
       "        vertical-align: middle;\n",
       "    }\n",
       "\n",
       "    .dataframe tbody tr th {\n",
       "        vertical-align: top;\n",
       "    }\n",
       "\n",
       "    .dataframe thead th {\n",
       "        text-align: right;\n",
       "    }\n",
       "</style>\n",
       "<table border=\"1\" class=\"dataframe\">\n",
       "  <thead>\n",
       "    <tr style=\"text-align: right;\">\n",
       "      <th></th>\n",
       "      <th>date</th>\n",
       "      <th>product</th>\n",
       "      <th>state</th>\n",
       "      <th>country</th>\n",
       "      <th>type</th>\n",
       "      <th>route</th>\n",
       "      <th>tons</th>\n",
       "      <th>usd</th>\n",
       "      <th>year</th>\n",
       "      <th>month</th>\n",
       "    </tr>\n",
       "  </thead>\n",
       "  <tbody>\n",
       "    <tr>\n",
       "      <th>73</th>\n",
       "      <td>1997-01-01</td>\n",
       "      <td>soybeans</td>\n",
       "      <td>GO</td>\n",
       "      <td>Spain</td>\n",
       "      <td>Export</td>\n",
       "      <td>Sea</td>\n",
       "      <td>13730.0</td>\n",
       "      <td>3954240.0</td>\n",
       "      <td>1997</td>\n",
       "      <td>01</td>\n",
       "    </tr>\n",
       "    <tr>\n",
       "      <th>74</th>\n",
       "      <td>1997-01-01</td>\n",
       "      <td>soybeans</td>\n",
       "      <td>MT</td>\n",
       "      <td>Bolivia</td>\n",
       "      <td>Export</td>\n",
       "      <td>Other</td>\n",
       "      <td>100.0</td>\n",
       "      <td>60500.0</td>\n",
       "      <td>1997</td>\n",
       "      <td>01</td>\n",
       "    </tr>\n",
       "    <tr>\n",
       "      <th>75</th>\n",
       "      <td>1997-01-01</td>\n",
       "      <td>soybeans</td>\n",
       "      <td>RS</td>\n",
       "      <td>Argentina</td>\n",
       "      <td>Export</td>\n",
       "      <td>Ground</td>\n",
       "      <td>200.0</td>\n",
       "      <td>104000.0</td>\n",
       "      <td>1997</td>\n",
       "      <td>01</td>\n",
       "    </tr>\n",
       "    <tr>\n",
       "      <th>167</th>\n",
       "      <td>1997-02-01</td>\n",
       "      <td>soybeans</td>\n",
       "      <td>GO</td>\n",
       "      <td>Netherlands</td>\n",
       "      <td>Export</td>\n",
       "      <td>Sea</td>\n",
       "      <td>3000.0</td>\n",
       "      <td>855450.0</td>\n",
       "      <td>1997</td>\n",
       "      <td>02</td>\n",
       "    </tr>\n",
       "    <tr>\n",
       "      <th>168</th>\n",
       "      <td>1997-02-01</td>\n",
       "      <td>soybeans</td>\n",
       "      <td>MT</td>\n",
       "      <td>Netherlands</td>\n",
       "      <td>Export</td>\n",
       "      <td>Sea</td>\n",
       "      <td>5000.0</td>\n",
       "      <td>1436185.0</td>\n",
       "      <td>1997</td>\n",
       "      <td>02</td>\n",
       "    </tr>\n",
       "  </tbody>\n",
       "</table>\n",
       "</div>"
      ],
      "text/plain": [
       "          date   product state      country    type   route     tons  \\\n",
       "73  1997-01-01  soybeans    GO        Spain  Export     Sea  13730.0   \n",
       "74  1997-01-01  soybeans    MT      Bolivia  Export   Other    100.0   \n",
       "75  1997-01-01  soybeans    RS    Argentina  Export  Ground    200.0   \n",
       "167 1997-02-01  soybeans    GO  Netherlands  Export     Sea   3000.0   \n",
       "168 1997-02-01  soybeans    MT  Netherlands  Export     Sea   5000.0   \n",
       "\n",
       "           usd  year month  \n",
       "73   3954240.0  1997    01  \n",
       "74     60500.0  1997    01  \n",
       "75    104000.0  1997    01  \n",
       "167   855450.0  1997    02  \n",
       "168  1436185.0  1997    02  "
      ]
     },
     "execution_count": 43,
     "metadata": {},
     "output_type": "execute_result"
    }
   ],
   "source": [
    "df_exp_soyb = df_exports.loc[df_exports['product'] == 'soybeans'].copy()\n",
    "\n",
    "df_exp_soyb.head()"
   ]
  },
  {
   "cell_type": "code",
   "execution_count": 44,
   "metadata": {
    "colab": {
     "base_uri": "https://localhost:8080/",
     "height": 0
    },
    "colab_type": "code",
    "executionInfo": {
     "elapsed": 5996,
     "status": "ok",
     "timestamp": 1594232227432,
     "user": {
      "displayName": "Giovanni Sá Barreto",
      "photoUrl": "",
      "userId": "12625235111421277305"
     },
     "user_tz": 180
    },
    "id": "AMqFy2WjBBry",
    "outputId": "5d81edb5-dcb4-4e0e-98e3-51ea2ceb931a"
   },
   "outputs": [
    {
     "data": {
      "text/plain": [
       "MT    4980\n",
       "PR    3188\n",
       "GO    2166\n",
       "MS    1603\n",
       "MG    1472\n",
       "SP    1460\n",
       "RS    1443\n",
       "SC     888\n",
       "BA     790\n",
       "TO     778\n",
       "MA     703\n",
       "PA     692\n",
       "RO     610\n",
       "PI     434\n",
       "DF     412\n",
       "RR     111\n",
       "ES      22\n",
       "AM      21\n",
       "AP      14\n",
       "RJ      11\n",
       "AC       6\n",
       "PE       5\n",
       "AL       5\n",
       "PB       2\n",
       "SE       1\n",
       "Name: state, dtype: int64"
      ]
     },
     "execution_count": 44,
     "metadata": {},
     "output_type": "execute_result"
    }
   ],
   "source": [
    "df_exp_soyb.state.value_counts()"
   ]
  },
  {
   "cell_type": "markdown",
   "metadata": {
    "colab_type": "text",
    "id": "xLki7D8AAlJ9"
   },
   "source": [
    "###soybean meal"
   ]
  },
  {
   "cell_type": "code",
   "execution_count": 45,
   "metadata": {
    "colab": {
     "base_uri": "https://localhost:8080/",
     "height": 0
    },
    "colab_type": "code",
    "executionInfo": {
     "elapsed": 6404,
     "status": "ok",
     "timestamp": 1594232227846,
     "user": {
      "displayName": "Giovanni Sá Barreto",
      "photoUrl": "",
      "userId": "12625235111421277305"
     },
     "user_tz": 180
    },
    "id": "1hGYqEQ7BCMN",
    "outputId": "a3336aa7-a72a-4a9a-8e47-eb71b68f0b68"
   },
   "outputs": [
    {
     "data": {
      "text/html": [
       "<div>\n",
       "<style scoped>\n",
       "    .dataframe tbody tr th:only-of-type {\n",
       "        vertical-align: middle;\n",
       "    }\n",
       "\n",
       "    .dataframe tbody tr th {\n",
       "        vertical-align: top;\n",
       "    }\n",
       "\n",
       "    .dataframe thead th {\n",
       "        text-align: right;\n",
       "    }\n",
       "</style>\n",
       "<table border=\"1\" class=\"dataframe\">\n",
       "  <thead>\n",
       "    <tr style=\"text-align: right;\">\n",
       "      <th></th>\n",
       "      <th>date</th>\n",
       "      <th>product</th>\n",
       "      <th>state</th>\n",
       "      <th>country</th>\n",
       "      <th>type</th>\n",
       "      <th>route</th>\n",
       "      <th>tons</th>\n",
       "      <th>usd</th>\n",
       "      <th>year</th>\n",
       "      <th>month</th>\n",
       "    </tr>\n",
       "  </thead>\n",
       "  <tbody>\n",
       "    <tr>\n",
       "      <th>19</th>\n",
       "      <td>1997-01-01</td>\n",
       "      <td>soybean_meal</td>\n",
       "      <td>GO</td>\n",
       "      <td>Netherlands</td>\n",
       "      <td>Export</td>\n",
       "      <td>Sea</td>\n",
       "      <td>419.070</td>\n",
       "      <td>119318.0</td>\n",
       "      <td>1997</td>\n",
       "      <td>01</td>\n",
       "    </tr>\n",
       "    <tr>\n",
       "      <th>20</th>\n",
       "      <td>1997-01-01</td>\n",
       "      <td>soybean_meal</td>\n",
       "      <td>GO</td>\n",
       "      <td>Netherlands</td>\n",
       "      <td>Export</td>\n",
       "      <td>Sea</td>\n",
       "      <td>5000.000</td>\n",
       "      <td>1414250.0</td>\n",
       "      <td>1997</td>\n",
       "      <td>01</td>\n",
       "    </tr>\n",
       "    <tr>\n",
       "      <th>21</th>\n",
       "      <td>1997-01-01</td>\n",
       "      <td>soybean_meal</td>\n",
       "      <td>MS</td>\n",
       "      <td>Germany</td>\n",
       "      <td>Export</td>\n",
       "      <td>Sea</td>\n",
       "      <td>140.672</td>\n",
       "      <td>38378.0</td>\n",
       "      <td>1997</td>\n",
       "      <td>01</td>\n",
       "    </tr>\n",
       "    <tr>\n",
       "      <th>22</th>\n",
       "      <td>1997-01-01</td>\n",
       "      <td>soybean_meal</td>\n",
       "      <td>MS</td>\n",
       "      <td>Hungary</td>\n",
       "      <td>Export</td>\n",
       "      <td>Sea</td>\n",
       "      <td>15000.000</td>\n",
       "      <td>4042100.0</td>\n",
       "      <td>1997</td>\n",
       "      <td>01</td>\n",
       "    </tr>\n",
       "    <tr>\n",
       "      <th>23</th>\n",
       "      <td>1997-01-01</td>\n",
       "      <td>soybean_meal</td>\n",
       "      <td>MS</td>\n",
       "      <td>Netherlands</td>\n",
       "      <td>Export</td>\n",
       "      <td>Sea</td>\n",
       "      <td>14000.000</td>\n",
       "      <td>3850162.0</td>\n",
       "      <td>1997</td>\n",
       "      <td>01</td>\n",
       "    </tr>\n",
       "  </tbody>\n",
       "</table>\n",
       "</div>"
      ],
      "text/plain": [
       "         date       product state      country    type route       tons  \\\n",
       "19 1997-01-01  soybean_meal    GO  Netherlands  Export   Sea    419.070   \n",
       "20 1997-01-01  soybean_meal    GO  Netherlands  Export   Sea   5000.000   \n",
       "21 1997-01-01  soybean_meal    MS      Germany  Export   Sea    140.672   \n",
       "22 1997-01-01  soybean_meal    MS      Hungary  Export   Sea  15000.000   \n",
       "23 1997-01-01  soybean_meal    MS  Netherlands  Export   Sea  14000.000   \n",
       "\n",
       "          usd  year month  \n",
       "19   119318.0  1997    01  \n",
       "20  1414250.0  1997    01  \n",
       "21    38378.0  1997    01  \n",
       "22  4042100.0  1997    01  \n",
       "23  3850162.0  1997    01  "
      ]
     },
     "execution_count": 45,
     "metadata": {},
     "output_type": "execute_result"
    }
   ],
   "source": [
    "df_exp_soym = df_exports.loc[df_exports['product'] == 'soybean_meal'].copy()\n",
    "\n",
    "df_exp_soym.head()"
   ]
  },
  {
   "cell_type": "code",
   "execution_count": 46,
   "metadata": {
    "colab": {
     "base_uri": "https://localhost:8080/",
     "height": 0
    },
    "colab_type": "code",
    "executionInfo": {
     "elapsed": 6392,
     "status": "ok",
     "timestamp": 1594232227848,
     "user": {
      "displayName": "Giovanni Sá Barreto",
      "photoUrl": "",
      "userId": "12625235111421277305"
     },
     "user_tz": 180
    },
    "id": "3OB7EC0rBCaT",
    "outputId": "36161713-2cc1-4da6-d4ea-58fa5a0dd73b"
   },
   "outputs": [
    {
     "data": {
      "text/plain": [
       "MT    3953\n",
       "PR    3251\n",
       "RS    2657\n",
       "GO    1976\n",
       "MG    1602\n",
       "SP    1585\n",
       "MS    1553\n",
       "BA     548\n",
       "SC     347\n",
       "TO      60\n",
       "PA      35\n",
       "PI      31\n",
       "MA      25\n",
       "RO      16\n",
       "RJ      13\n",
       "PE       7\n",
       "AM       4\n",
       "ES       3\n",
       "AL       2\n",
       "RN       1\n",
       "AC       1\n",
       "CE       1\n",
       "RR       1\n",
       "Name: state, dtype: int64"
      ]
     },
     "execution_count": 46,
     "metadata": {},
     "output_type": "execute_result"
    }
   ],
   "source": [
    "df_exp_soym.state.value_counts()"
   ]
  },
  {
   "cell_type": "markdown",
   "metadata": {
    "colab_type": "text",
    "id": "Pb3B5Zy0AlsY"
   },
   "source": [
    "###soybean oil     "
   ]
  },
  {
   "cell_type": "code",
   "execution_count": 47,
   "metadata": {
    "colab": {
     "base_uri": "https://localhost:8080/",
     "height": 0
    },
    "colab_type": "code",
    "executionInfo": {
     "elapsed": 6385,
     "status": "ok",
     "timestamp": 1594232227849,
     "user": {
      "displayName": "Giovanni Sá Barreto",
      "photoUrl": "",
      "userId": "12625235111421277305"
     },
     "user_tz": 180
    },
    "id": "LWLA6egvBC8p",
    "outputId": "315b749f-fbc5-45ec-c89b-ccbb643e4619"
   },
   "outputs": [
    {
     "data": {
      "text/html": [
       "<div>\n",
       "<style scoped>\n",
       "    .dataframe tbody tr th:only-of-type {\n",
       "        vertical-align: middle;\n",
       "    }\n",
       "\n",
       "    .dataframe tbody tr th {\n",
       "        vertical-align: top;\n",
       "    }\n",
       "\n",
       "    .dataframe thead th {\n",
       "        text-align: right;\n",
       "    }\n",
       "</style>\n",
       "<table border=\"1\" class=\"dataframe\">\n",
       "  <thead>\n",
       "    <tr style=\"text-align: right;\">\n",
       "      <th></th>\n",
       "      <th>date</th>\n",
       "      <th>product</th>\n",
       "      <th>state</th>\n",
       "      <th>country</th>\n",
       "      <th>type</th>\n",
       "      <th>route</th>\n",
       "      <th>tons</th>\n",
       "      <th>usd</th>\n",
       "      <th>year</th>\n",
       "      <th>month</th>\n",
       "    </tr>\n",
       "  </thead>\n",
       "  <tbody>\n",
       "    <tr>\n",
       "      <th>57</th>\n",
       "      <td>1997-01-01</td>\n",
       "      <td>soybean_oil</td>\n",
       "      <td>MS</td>\n",
       "      <td>Bolivia</td>\n",
       "      <td>Export</td>\n",
       "      <td>Other</td>\n",
       "      <td>48.053</td>\n",
       "      <td>43268.0</td>\n",
       "      <td>1997</td>\n",
       "      <td>01</td>\n",
       "    </tr>\n",
       "    <tr>\n",
       "      <th>58</th>\n",
       "      <td>1997-01-01</td>\n",
       "      <td>soybean_oil</td>\n",
       "      <td>MT</td>\n",
       "      <td>China</td>\n",
       "      <td>Export</td>\n",
       "      <td>Sea</td>\n",
       "      <td>6000.000</td>\n",
       "      <td>3002191.0</td>\n",
       "      <td>1997</td>\n",
       "      <td>01</td>\n",
       "    </tr>\n",
       "    <tr>\n",
       "      <th>61</th>\n",
       "      <td>1997-01-01</td>\n",
       "      <td>soybean_oil</td>\n",
       "      <td>PR</td>\n",
       "      <td>Bangladesh</td>\n",
       "      <td>Export</td>\n",
       "      <td>Sea</td>\n",
       "      <td>5430.000</td>\n",
       "      <td>2920399.0</td>\n",
       "      <td>1997</td>\n",
       "      <td>01</td>\n",
       "    </tr>\n",
       "    <tr>\n",
       "      <th>62</th>\n",
       "      <td>1997-01-01</td>\n",
       "      <td>soybean_oil</td>\n",
       "      <td>PR</td>\n",
       "      <td>China</td>\n",
       "      <td>Export</td>\n",
       "      <td>Sea</td>\n",
       "      <td>8095.000</td>\n",
       "      <td>4129840.0</td>\n",
       "      <td>1997</td>\n",
       "      <td>01</td>\n",
       "    </tr>\n",
       "    <tr>\n",
       "      <th>63</th>\n",
       "      <td>1997-01-01</td>\n",
       "      <td>soybean_oil</td>\n",
       "      <td>PR</td>\n",
       "      <td>Germany</td>\n",
       "      <td>Export</td>\n",
       "      <td>Sea</td>\n",
       "      <td>500.000</td>\n",
       "      <td>287150.0</td>\n",
       "      <td>1997</td>\n",
       "      <td>01</td>\n",
       "    </tr>\n",
       "  </tbody>\n",
       "</table>\n",
       "</div>"
      ],
      "text/plain": [
       "         date      product state     country    type  route      tons  \\\n",
       "57 1997-01-01  soybean_oil    MS     Bolivia  Export  Other    48.053   \n",
       "58 1997-01-01  soybean_oil    MT       China  Export    Sea  6000.000   \n",
       "61 1997-01-01  soybean_oil    PR  Bangladesh  Export    Sea  5430.000   \n",
       "62 1997-01-01  soybean_oil    PR       China  Export    Sea  8095.000   \n",
       "63 1997-01-01  soybean_oil    PR     Germany  Export    Sea   500.000   \n",
       "\n",
       "          usd  year month  \n",
       "57    43268.0  1997    01  \n",
       "58  3002191.0  1997    01  \n",
       "61  2920399.0  1997    01  \n",
       "62  4129840.0  1997    01  \n",
       "63   287150.0  1997    01  "
      ]
     },
     "execution_count": 47,
     "metadata": {},
     "output_type": "execute_result"
    }
   ],
   "source": [
    "df_exp_soyo = df_exports.loc[df_exports['product'] == 'soybean_oil'].copy()\n",
    "\n",
    "df_exp_soyo.head()"
   ]
  },
  {
   "cell_type": "code",
   "execution_count": 48,
   "metadata": {
    "colab": {
     "base_uri": "https://localhost:8080/",
     "height": 0
    },
    "colab_type": "code",
    "executionInfo": {
     "elapsed": 6378,
     "status": "ok",
     "timestamp": 1594232227849,
     "user": {
      "displayName": "Giovanni Sá Barreto",
      "photoUrl": "",
      "userId": "12625235111421277305"
     },
     "user_tz": 180
    },
    "id": "97o2LhADBC2E",
    "outputId": "5a37f6fd-ff60-4edc-b737-a2da6f5b7bf1"
   },
   "outputs": [
    {
     "data": {
      "text/plain": [
       "PR    3476\n",
       "MT    2697\n",
       "SP    2131\n",
       "SC    2023\n",
       "RS    1420\n",
       "GO    1166\n",
       "MS     724\n",
       "MG     616\n",
       "ES     265\n",
       "BA     190\n",
       "RJ     151\n",
       "MA      98\n",
       "RR      92\n",
       "AL      66\n",
       "PE      36\n",
       "AM      33\n",
       "RO      33\n",
       "PA      32\n",
       "AC      21\n",
       "PI       6\n",
       "CE       5\n",
       "TO       3\n",
       "DF       2\n",
       "AP       1\n",
       "Name: state, dtype: int64"
      ]
     },
     "execution_count": 48,
     "metadata": {},
     "output_type": "execute_result"
    }
   ],
   "source": [
    "df_exp_soyo.state.value_counts()"
   ]
  },
  {
   "cell_type": "markdown",
   "metadata": {
    "colab_type": "text",
    "id": "7xDk0TmuAmLY"
   },
   "source": [
    "###wheat             "
   ]
  },
  {
   "cell_type": "code",
   "execution_count": 49,
   "metadata": {
    "colab": {
     "base_uri": "https://localhost:8080/",
     "height": 0
    },
    "colab_type": "code",
    "executionInfo": {
     "elapsed": 6371,
     "status": "ok",
     "timestamp": 1594232227849,
     "user": {
      "displayName": "Giovanni Sá Barreto",
      "photoUrl": "",
      "userId": "12625235111421277305"
     },
     "user_tz": 180
    },
    "id": "kUm7n25BBDfz",
    "outputId": "05779e97-ab99-4153-8d63-fc84a2840bbc"
   },
   "outputs": [
    {
     "data": {
      "text/html": [
       "<div>\n",
       "<style scoped>\n",
       "    .dataframe tbody tr th:only-of-type {\n",
       "        vertical-align: middle;\n",
       "    }\n",
       "\n",
       "    .dataframe tbody tr th {\n",
       "        vertical-align: top;\n",
       "    }\n",
       "\n",
       "    .dataframe thead th {\n",
       "        text-align: right;\n",
       "    }\n",
       "</style>\n",
       "<table border=\"1\" class=\"dataframe\">\n",
       "  <thead>\n",
       "    <tr style=\"text-align: right;\">\n",
       "      <th></th>\n",
       "      <th>date</th>\n",
       "      <th>product</th>\n",
       "      <th>state</th>\n",
       "      <th>country</th>\n",
       "      <th>type</th>\n",
       "      <th>route</th>\n",
       "      <th>tons</th>\n",
       "      <th>usd</th>\n",
       "      <th>year</th>\n",
       "      <th>month</th>\n",
       "    </tr>\n",
       "  </thead>\n",
       "  <tbody>\n",
       "    <tr>\n",
       "      <th>17466</th>\n",
       "      <td>2003-12-01</td>\n",
       "      <td>wheat</td>\n",
       "      <td>MG</td>\n",
       "      <td>United States</td>\n",
       "      <td>Export</td>\n",
       "      <td>Sea</td>\n",
       "      <td>1.50</td>\n",
       "      <td>657.0</td>\n",
       "      <td>2003</td>\n",
       "      <td>12</td>\n",
       "    </tr>\n",
       "    <tr>\n",
       "      <th>17711</th>\n",
       "      <td>2004-01-01</td>\n",
       "      <td>wheat</td>\n",
       "      <td>MG</td>\n",
       "      <td>United States</td>\n",
       "      <td>Export</td>\n",
       "      <td>Sea</td>\n",
       "      <td>3.00</td>\n",
       "      <td>1269.0</td>\n",
       "      <td>2004</td>\n",
       "      <td>01</td>\n",
       "    </tr>\n",
       "    <tr>\n",
       "      <th>21208</th>\n",
       "      <td>2005-01-01</td>\n",
       "      <td>wheat</td>\n",
       "      <td>MG</td>\n",
       "      <td>United States</td>\n",
       "      <td>Export</td>\n",
       "      <td>Sea</td>\n",
       "      <td>0.40</td>\n",
       "      <td>164.0</td>\n",
       "      <td>2005</td>\n",
       "      <td>01</td>\n",
       "    </tr>\n",
       "    <tr>\n",
       "      <th>21780</th>\n",
       "      <td>2005-03-01</td>\n",
       "      <td>wheat</td>\n",
       "      <td>MG</td>\n",
       "      <td>United States</td>\n",
       "      <td>Export</td>\n",
       "      <td>Sea</td>\n",
       "      <td>0.40</td>\n",
       "      <td>170.0</td>\n",
       "      <td>2005</td>\n",
       "      <td>03</td>\n",
       "    </tr>\n",
       "    <tr>\n",
       "      <th>22459</th>\n",
       "      <td>2005-05-01</td>\n",
       "      <td>wheat</td>\n",
       "      <td>PR</td>\n",
       "      <td>United States</td>\n",
       "      <td>Export</td>\n",
       "      <td>Sea</td>\n",
       "      <td>0.39</td>\n",
       "      <td>231.0</td>\n",
       "      <td>2005</td>\n",
       "      <td>05</td>\n",
       "    </tr>\n",
       "  </tbody>\n",
       "</table>\n",
       "</div>"
      ],
      "text/plain": [
       "            date product state        country    type route  tons     usd  \\\n",
       "17466 2003-12-01   wheat    MG  United States  Export   Sea  1.50   657.0   \n",
       "17711 2004-01-01   wheat    MG  United States  Export   Sea  3.00  1269.0   \n",
       "21208 2005-01-01   wheat    MG  United States  Export   Sea  0.40   164.0   \n",
       "21780 2005-03-01   wheat    MG  United States  Export   Sea  0.40   170.0   \n",
       "22459 2005-05-01   wheat    PR  United States  Export   Sea  0.39   231.0   \n",
       "\n",
       "       year month  \n",
       "17466  2003    12  \n",
       "17711  2004    01  \n",
       "21208  2005    01  \n",
       "21780  2005    03  \n",
       "22459  2005    05  "
      ]
     },
     "execution_count": 49,
     "metadata": {},
     "output_type": "execute_result"
    }
   ],
   "source": [
    "df_exp_wheat = df_exports.loc[df_exports['product'] == 'wheat'].copy()\n",
    "\n",
    "df_exp_wheat.head()"
   ]
  },
  {
   "cell_type": "code",
   "execution_count": 50,
   "metadata": {
    "colab": {
     "base_uri": "https://localhost:8080/",
     "height": 0
    },
    "colab_type": "code",
    "executionInfo": {
     "elapsed": 6364,
     "status": "ok",
     "timestamp": 1594232227850,
     "user": {
      "displayName": "Giovanni Sá Barreto",
      "photoUrl": "",
      "userId": "12625235111421277305"
     },
     "user_tz": 180
    },
    "id": "PdnfOQkwBDcP",
    "outputId": "76c85137-f0ee-4158-e479-f818b52fe702"
   },
   "outputs": [
    {
     "data": {
      "text/plain": [
       "PR    308\n",
       "RS    194\n",
       "SP     80\n",
       "RO     27\n",
       "RJ     25\n",
       "SC     24\n",
       "MG     19\n",
       "GO     10\n",
       "ES      6\n",
       "MS      5\n",
       "DF      4\n",
       "MA      1\n",
       "Name: state, dtype: int64"
      ]
     },
     "execution_count": 50,
     "metadata": {},
     "output_type": "execute_result"
    }
   ],
   "source": [
    "df_exp_wheat.state.value_counts()"
   ]
  },
  {
   "cell_type": "markdown",
   "metadata": {
    "colab_type": "text",
    "id": "ZLF8y1PhQOhC"
   },
   "source": [
    "*   Milho - Mato Grosso\n",
    "*   Açucar - São Paulo\n",
    "*   Sója - Mato Grosso\n",
    "*   Farelo de sója - Mato Grosso\n",
    "*   Óleo de soja - Paraná\n",
    "*   Trigo - Paraná"
   ]
  },
  {
   "cell_type": "markdown",
   "metadata": {
    "colab_type": "text",
    "id": "g1K9PPOfRbft"
   },
   "source": [
    "#Q6"
   ]
  },
  {
   "cell_type": "code",
   "execution_count": 51,
   "metadata": {
    "colab": {
     "base_uri": "https://localhost:8080/",
     "height": 195
    },
    "colab_type": "code",
    "executionInfo": {
     "elapsed": 866,
     "status": "ok",
     "timestamp": 1594233853791,
     "user": {
      "displayName": "Giovanni Sá Barreto",
      "photoUrl": "",
      "userId": "12625235111421277305"
     },
     "user_tz": 180
    },
    "id": "EFPGlkx5V4ia",
    "outputId": "0aae2fe4-6bcc-40b0-f838-f12835768f89"
   },
   "outputs": [
    {
     "data": {
      "text/html": [
       "<div>\n",
       "<style scoped>\n",
       "    .dataframe tbody tr th:only-of-type {\n",
       "        vertical-align: middle;\n",
       "    }\n",
       "\n",
       "    .dataframe tbody tr th {\n",
       "        vertical-align: top;\n",
       "    }\n",
       "\n",
       "    .dataframe thead th {\n",
       "        text-align: right;\n",
       "    }\n",
       "</style>\n",
       "<table border=\"1\" class=\"dataframe\">\n",
       "  <thead>\n",
       "    <tr style=\"text-align: right;\">\n",
       "      <th></th>\n",
       "      <th>date</th>\n",
       "      <th>product</th>\n",
       "      <th>state</th>\n",
       "      <th>country</th>\n",
       "      <th>type</th>\n",
       "      <th>route</th>\n",
       "      <th>tons</th>\n",
       "      <th>usd</th>\n",
       "      <th>year</th>\n",
       "      <th>month</th>\n",
       "    </tr>\n",
       "  </thead>\n",
       "  <tbody>\n",
       "    <tr>\n",
       "      <th>2</th>\n",
       "      <td>1997-01-01</td>\n",
       "      <td>corn</td>\n",
       "      <td>GO</td>\n",
       "      <td>Bolivia</td>\n",
       "      <td>Export</td>\n",
       "      <td>Ground</td>\n",
       "      <td>0.200</td>\n",
       "      <td>180.0</td>\n",
       "      <td>1997</td>\n",
       "      <td>01</td>\n",
       "    </tr>\n",
       "    <tr>\n",
       "      <th>3</th>\n",
       "      <td>1997-01-01</td>\n",
       "      <td>corn</td>\n",
       "      <td>GO</td>\n",
       "      <td>United States</td>\n",
       "      <td>Export</td>\n",
       "      <td>Sea</td>\n",
       "      <td>3.488</td>\n",
       "      <td>5688.0</td>\n",
       "      <td>1997</td>\n",
       "      <td>01</td>\n",
       "    </tr>\n",
       "    <tr>\n",
       "      <th>5</th>\n",
       "      <td>1997-01-01</td>\n",
       "      <td>corn</td>\n",
       "      <td>MS</td>\n",
       "      <td>Paraguay</td>\n",
       "      <td>Export</td>\n",
       "      <td>Ground</td>\n",
       "      <td>40.000</td>\n",
       "      <td>38700.0</td>\n",
       "      <td>1997</td>\n",
       "      <td>01</td>\n",
       "    </tr>\n",
       "    <tr>\n",
       "      <th>9</th>\n",
       "      <td>1997-01-01</td>\n",
       "      <td>corn</td>\n",
       "      <td>PR</td>\n",
       "      <td>Netherlands</td>\n",
       "      <td>Export</td>\n",
       "      <td>Sea</td>\n",
       "      <td>170000.000</td>\n",
       "      <td>20000000.0</td>\n",
       "      <td>1997</td>\n",
       "      <td>01</td>\n",
       "    </tr>\n",
       "    <tr>\n",
       "      <th>10</th>\n",
       "      <td>1997-01-01</td>\n",
       "      <td>corn</td>\n",
       "      <td>PR</td>\n",
       "      <td>Paraguay</td>\n",
       "      <td>Export</td>\n",
       "      <td>Ground</td>\n",
       "      <td>258.300</td>\n",
       "      <td>386733.0</td>\n",
       "      <td>1997</td>\n",
       "      <td>01</td>\n",
       "    </tr>\n",
       "  </tbody>\n",
       "</table>\n",
       "</div>"
      ],
      "text/plain": [
       "         date product state        country    type   route        tons  \\\n",
       "2  1997-01-01    corn    GO        Bolivia  Export  Ground       0.200   \n",
       "3  1997-01-01    corn    GO  United States  Export     Sea       3.488   \n",
       "5  1997-01-01    corn    MS       Paraguay  Export  Ground      40.000   \n",
       "9  1997-01-01    corn    PR    Netherlands  Export     Sea  170000.000   \n",
       "10 1997-01-01    corn    PR       Paraguay  Export  Ground     258.300   \n",
       "\n",
       "           usd  year month  \n",
       "2        180.0  1997    01  \n",
       "3       5688.0  1997    01  \n",
       "5      38700.0  1997    01  \n",
       "9   20000000.0  1997    01  \n",
       "10    386733.0  1997    01  "
      ]
     },
     "execution_count": 51,
     "metadata": {},
     "output_type": "execute_result"
    }
   ],
   "source": [
    "df_exports.head()"
   ]
  },
  {
   "cell_type": "code",
   "execution_count": 52,
   "metadata": {
    "colab": {
     "base_uri": "https://localhost:8080/",
     "height": 195
    },
    "colab_type": "code",
    "executionInfo": {
     "elapsed": 908,
     "status": "ok",
     "timestamp": 1594233856448,
     "user": {
      "displayName": "Giovanni Sá Barreto",
      "photoUrl": "",
      "userId": "12625235111421277305"
     },
     "user_tz": 180
    },
    "id": "P3w50fFOgfkW",
    "outputId": "46bad271-354f-4076-ecd8-5dcdcdfea2a5"
   },
   "outputs": [
    {
     "data": {
      "text/html": [
       "<div>\n",
       "<style scoped>\n",
       "    .dataframe tbody tr th:only-of-type {\n",
       "        vertical-align: middle;\n",
       "    }\n",
       "\n",
       "    .dataframe tbody tr th {\n",
       "        vertical-align: top;\n",
       "    }\n",
       "\n",
       "    .dataframe thead th {\n",
       "        text-align: right;\n",
       "    }\n",
       "</style>\n",
       "<table border=\"1\" class=\"dataframe\">\n",
       "  <thead>\n",
       "    <tr style=\"text-align: right;\">\n",
       "      <th></th>\n",
       "      <th>product</th>\n",
       "      <th>tons</th>\n",
       "      <th>year</th>\n",
       "    </tr>\n",
       "  </thead>\n",
       "  <tbody>\n",
       "    <tr>\n",
       "      <th>2</th>\n",
       "      <td>corn</td>\n",
       "      <td>0.200</td>\n",
       "      <td>1997</td>\n",
       "    </tr>\n",
       "    <tr>\n",
       "      <th>3</th>\n",
       "      <td>corn</td>\n",
       "      <td>3.488</td>\n",
       "      <td>1997</td>\n",
       "    </tr>\n",
       "    <tr>\n",
       "      <th>5</th>\n",
       "      <td>corn</td>\n",
       "      <td>40.000</td>\n",
       "      <td>1997</td>\n",
       "    </tr>\n",
       "    <tr>\n",
       "      <th>9</th>\n",
       "      <td>corn</td>\n",
       "      <td>170000.000</td>\n",
       "      <td>1997</td>\n",
       "    </tr>\n",
       "    <tr>\n",
       "      <th>10</th>\n",
       "      <td>corn</td>\n",
       "      <td>258.300</td>\n",
       "      <td>1997</td>\n",
       "    </tr>\n",
       "  </tbody>\n",
       "</table>\n",
       "</div>"
      ],
      "text/plain": [
       "   product        tons  year\n",
       "2     corn       0.200  1997\n",
       "3     corn       3.488  1997\n",
       "5     corn      40.000  1997\n",
       "9     corn  170000.000  1997\n",
       "10    corn     258.300  1997"
      ]
     },
     "execution_count": 52,
     "metadata": {},
     "output_type": "execute_result"
    }
   ],
   "source": [
    "df_p = df_exports.drop(columns=['date', 'month', 'usd', 'state', 'country', 'type', 'route'], axis=1)\n",
    "\n",
    "df_p.head()"
   ]
  },
  {
   "cell_type": "code",
   "execution_count": 53,
   "metadata": {
    "colab": {
     "base_uri": "https://localhost:8080/",
     "height": 195
    },
    "colab_type": "code",
    "executionInfo": {
     "elapsed": 940,
     "status": "ok",
     "timestamp": 1594233858244,
     "user": {
      "displayName": "Giovanni Sá Barreto",
      "photoUrl": "",
      "userId": "12625235111421277305"
     },
     "user_tz": 180
    },
    "id": "p_0jKj4sg8FB",
    "outputId": "96fe8d2c-8c49-4407-d1e4-53e50abd8b67"
   },
   "outputs": [
    {
     "data": {
      "text/html": [
       "<div>\n",
       "<style scoped>\n",
       "    .dataframe tbody tr th:only-of-type {\n",
       "        vertical-align: middle;\n",
       "    }\n",
       "\n",
       "    .dataframe tbody tr th {\n",
       "        vertical-align: top;\n",
       "    }\n",
       "\n",
       "    .dataframe thead th {\n",
       "        text-align: right;\n",
       "    }\n",
       "</style>\n",
       "<table border=\"1\" class=\"dataframe\">\n",
       "  <thead>\n",
       "    <tr style=\"text-align: right;\">\n",
       "      <th></th>\n",
       "      <th>tons</th>\n",
       "      <th>year</th>\n",
       "      <th>product_corn</th>\n",
       "      <th>product_soybean_meal</th>\n",
       "      <th>product_soybean_oil</th>\n",
       "      <th>product_soybeans</th>\n",
       "      <th>product_sugar</th>\n",
       "      <th>product_wheat</th>\n",
       "    </tr>\n",
       "  </thead>\n",
       "  <tbody>\n",
       "    <tr>\n",
       "      <th>2</th>\n",
       "      <td>0.200</td>\n",
       "      <td>1997</td>\n",
       "      <td>1</td>\n",
       "      <td>0</td>\n",
       "      <td>0</td>\n",
       "      <td>0</td>\n",
       "      <td>0</td>\n",
       "      <td>0</td>\n",
       "    </tr>\n",
       "    <tr>\n",
       "      <th>3</th>\n",
       "      <td>3.488</td>\n",
       "      <td>1997</td>\n",
       "      <td>1</td>\n",
       "      <td>0</td>\n",
       "      <td>0</td>\n",
       "      <td>0</td>\n",
       "      <td>0</td>\n",
       "      <td>0</td>\n",
       "    </tr>\n",
       "    <tr>\n",
       "      <th>5</th>\n",
       "      <td>40.000</td>\n",
       "      <td>1997</td>\n",
       "      <td>1</td>\n",
       "      <td>0</td>\n",
       "      <td>0</td>\n",
       "      <td>0</td>\n",
       "      <td>0</td>\n",
       "      <td>0</td>\n",
       "    </tr>\n",
       "    <tr>\n",
       "      <th>9</th>\n",
       "      <td>170000.000</td>\n",
       "      <td>1997</td>\n",
       "      <td>1</td>\n",
       "      <td>0</td>\n",
       "      <td>0</td>\n",
       "      <td>0</td>\n",
       "      <td>0</td>\n",
       "      <td>0</td>\n",
       "    </tr>\n",
       "    <tr>\n",
       "      <th>10</th>\n",
       "      <td>258.300</td>\n",
       "      <td>1997</td>\n",
       "      <td>1</td>\n",
       "      <td>0</td>\n",
       "      <td>0</td>\n",
       "      <td>0</td>\n",
       "      <td>0</td>\n",
       "      <td>0</td>\n",
       "    </tr>\n",
       "  </tbody>\n",
       "</table>\n",
       "</div>"
      ],
      "text/plain": [
       "          tons  year  product_corn  product_soybean_meal  product_soybean_oil  \\\n",
       "2        0.200  1997             1                     0                    0   \n",
       "3        3.488  1997             1                     0                    0   \n",
       "5       40.000  1997             1                     0                    0   \n",
       "9   170000.000  1997             1                     0                    0   \n",
       "10     258.300  1997             1                     0                    0   \n",
       "\n",
       "    product_soybeans  product_sugar  product_wheat  \n",
       "2                  0              0              0  \n",
       "3                  0              0              0  \n",
       "5                  0              0              0  \n",
       "9                  0              0              0  \n",
       "10                 0              0              0  "
      ]
     },
     "execution_count": 53,
     "metadata": {},
     "output_type": "execute_result"
    }
   ],
   "source": [
    "df_p = pd.get_dummies(df_p, columns=['product']).copy()\n",
    "df_p = df_p.apply(pd.to_numeric)\n",
    "df_p.head()"
   ]
  },
  {
   "cell_type": "code",
   "execution_count": 54,
   "metadata": {
    "colab": {
     "base_uri": "https://localhost:8080/",
     "height": 34
    },
    "colab_type": "code",
    "executionInfo": {
     "elapsed": 814,
     "status": "ok",
     "timestamp": 1594233859954,
     "user": {
      "displayName": "Giovanni Sá Barreto",
      "photoUrl": "",
      "userId": "12625235111421277305"
     },
     "user_tz": 180
    },
    "id": "WVmWhxeMjqlp",
    "outputId": "7abb5f89-0a6c-4adb-d9af-ce016e5813e8"
   },
   "outputs": [
    {
     "ename": "NameError",
     "evalue": "name 'train_test_split' is not defined",
     "output_type": "error",
     "traceback": [
      "\u001b[1;31m---------------------------------------------------------------------------\u001b[0m",
      "\u001b[1;31mNameError\u001b[0m                                 Traceback (most recent call last)",
      "\u001b[1;32m<ipython-input-54-7653b1196e66>\u001b[0m in \u001b[0;36m<module>\u001b[1;34m\u001b[0m\n\u001b[0;32m      5\u001b[0m \u001b[0my\u001b[0m \u001b[1;33m=\u001b[0m \u001b[0mdf_p\u001b[0m\u001b[1;33m[\u001b[0m\u001b[1;34m'tons'\u001b[0m\u001b[1;33m]\u001b[0m\u001b[1;33m\u001b[0m\u001b[1;33m\u001b[0m\u001b[0m\n\u001b[0;32m      6\u001b[0m \u001b[1;33m\u001b[0m\u001b[0m\n\u001b[1;32m----> 7\u001b[1;33m \u001b[0mX_train\u001b[0m\u001b[1;33m,\u001b[0m \u001b[0mX_test\u001b[0m\u001b[1;33m,\u001b[0m \u001b[0my_train\u001b[0m\u001b[1;33m,\u001b[0m \u001b[0my_test\u001b[0m \u001b[1;33m=\u001b[0m \u001b[0mtrain_test_split\u001b[0m\u001b[1;33m(\u001b[0m\u001b[0mX\u001b[0m\u001b[1;33m,\u001b[0m \u001b[0my\u001b[0m\u001b[1;33m)\u001b[0m\u001b[1;33m\u001b[0m\u001b[1;33m\u001b[0m\u001b[0m\n\u001b[0m\u001b[0;32m      8\u001b[0m \u001b[1;33m\u001b[0m\u001b[0m\n\u001b[0;32m      9\u001b[0m \u001b[0mlreg\u001b[0m\u001b[1;33m.\u001b[0m\u001b[0mfit\u001b[0m\u001b[1;33m(\u001b[0m\u001b[0mX_train\u001b[0m\u001b[1;33m,\u001b[0m \u001b[0my_train\u001b[0m\u001b[1;33m)\u001b[0m\u001b[1;33m\u001b[0m\u001b[1;33m\u001b[0m\u001b[0m\n",
      "\u001b[1;31mNameError\u001b[0m: name 'train_test_split' is not defined"
     ]
    }
   ],
   "source": [
    "from sklearn.linear_model import LinearRegression\n",
    "lreg = LinearRegression()\n",
    "\n",
    "X = df_p.drop('tons', axis=1)\n",
    "y = df_p['tons']\n",
    "\n",
    "X_train, X_test, y_train, y_test = train_test_split(X, y)\n",
    "\n",
    "lreg.fit(X_train, y_train)"
   ]
  },
  {
   "cell_type": "code",
   "execution_count": null,
   "metadata": {
    "colab": {
     "base_uri": "https://localhost:8080/",
     "height": 50
    },
    "colab_type": "code",
    "executionInfo": {
     "elapsed": 776,
     "status": "ok",
     "timestamp": 1594233861781,
     "user": {
      "displayName": "Giovanni Sá Barreto",
      "photoUrl": "",
      "userId": "12625235111421277305"
     },
     "user_tz": 180
    },
    "id": "7sPoy9Xbj18C",
    "outputId": "538a8603-b1e9-449c-f322-8d773315506a"
   },
   "outputs": [],
   "source": [
    "pred = lreg.predict(X_test)\n",
    "print(pred)"
   ]
  },
  {
   "cell_type": "code",
   "execution_count": null,
   "metadata": {
    "colab": {
     "base_uri": "https://localhost:8080/",
     "height": 34
    },
    "colab_type": "code",
    "executionInfo": {
     "elapsed": 768,
     "status": "ok",
     "timestamp": 1594233863741,
     "user": {
      "displayName": "Giovanni Sá Barreto",
      "photoUrl": "",
      "userId": "12625235111421277305"
     },
     "user_tz": 180
    },
    "id": "syJGYx3WrG1z",
    "outputId": "736e2846-f36f-4210-bbb0-f9f5bf677a25"
   },
   "outputs": [],
   "source": [
    "import numpy as np\n",
    "mse = np.mean((pred - y_test)**2)\n",
    "mse"
   ]
  },
  {
   "cell_type": "code",
   "execution_count": null,
   "metadata": {
    "colab": {
     "base_uri": "https://localhost:8080/",
     "height": 34
    },
    "colab_type": "code",
    "executionInfo": {
     "elapsed": 774,
     "status": "ok",
     "timestamp": 1594233866220,
     "user": {
      "displayName": "Giovanni Sá Barreto",
      "photoUrl": "",
      "userId": "12625235111421277305"
     },
     "user_tz": 180
    },
    "id": "WB9Yv-CJrYMa",
    "outputId": "1fab91e3-ac8d-45f5-e11f-bd6106505e6b"
   },
   "outputs": [],
   "source": [
    "lreg.score(X_test,y_test)"
   ]
  },
  {
   "cell_type": "code",
   "execution_count": null,
   "metadata": {
    "colab": {
     "base_uri": "https://localhost:8080/",
     "height": 34
    },
    "colab_type": "code",
    "executionInfo": {
     "elapsed": 606,
     "status": "ok",
     "timestamp": 1594233882297,
     "user": {
      "displayName": "Giovanni Sá Barreto",
      "photoUrl": "",
      "userId": "12625235111421277305"
     },
     "user_tz": 180
    },
    "id": "IMOsHkrVrryq",
    "outputId": "5ced2e3e-e952-435d-a6c7-fd7b3b84f01e"
   },
   "outputs": [],
   "source": [
    "pred_20 = np.array([2020, 0, 0, 0, 1, 0, 0]).reshape((1, -1))\n",
    "\n",
    "print(lreg.predict(pred_20)[0])"
   ]
  },
  {
   "cell_type": "markdown",
   "metadata": {
    "colab_type": "text",
    "id": "KCm0MF0stbo2"
   },
   "source": [
    "###Soybeans"
   ]
  },
  {
   "cell_type": "code",
   "execution_count": null,
   "metadata": {
    "colab": {
     "base_uri": "https://localhost:8080/",
     "height": 202
    },
    "colab_type": "code",
    "executionInfo": {
     "elapsed": 843,
     "status": "ok",
     "timestamp": 1594234047003,
     "user": {
      "displayName": "Giovanni Sá Barreto",
      "photoUrl": "",
      "userId": "12625235111421277305"
     },
     "user_tz": 180
    },
    "id": "dMR1N1-qs-NY",
    "outputId": "3e8850a4-732a-4aa0-bf47-76bae6ba542e"
   },
   "outputs": [],
   "source": [
    "for n in range(2020, 2031):\n",
    "  pred_tons = np.array([n, 0, 0, 0, 1, 0, 0]).reshape((1, -1))\n",
    "  print(\"pred:\", n, \"\\t{}\".format(lreg.predict(pred_tons)[0]), \"tons\")"
   ]
  },
  {
   "cell_type": "markdown",
   "metadata": {
    "colab_type": "text",
    "id": "LXfTn4WVv0hh"
   },
   "source": [
    "###soybean meal"
   ]
  },
  {
   "cell_type": "code",
   "execution_count": null,
   "metadata": {
    "colab": {
     "base_uri": "https://localhost:8080/",
     "height": 202
    },
    "colab_type": "code",
    "executionInfo": {
     "elapsed": 800,
     "status": "ok",
     "timestamp": 1594234039242,
     "user": {
      "displayName": "Giovanni Sá Barreto",
      "photoUrl": "",
      "userId": "12625235111421277305"
     },
     "user_tz": 180
    },
    "id": "eoArhEe-vyY2",
    "outputId": "df7b547c-16aa-40e2-d5bd-8e7c479404da"
   },
   "outputs": [],
   "source": [
    "for n in range(2020, 2031):\n",
    "  pred_tons = np.array([n, 0, 1, 0, 0, 0, 0]).reshape((1, -1))\n",
    "  print(\"pred:\", n, \"\\t{}\".format(lreg.predict(pred_tons)[0]), \"tons\")"
   ]
  },
  {
   "cell_type": "markdown",
   "metadata": {
    "colab_type": "text",
    "id": "ZmrrwLJSv0_Z"
   },
   "source": [
    "###corn"
   ]
  },
  {
   "cell_type": "code",
   "execution_count": null,
   "metadata": {
    "colab": {
     "base_uri": "https://localhost:8080/",
     "height": 202
    },
    "colab_type": "code",
    "executionInfo": {
     "elapsed": 802,
     "status": "ok",
     "timestamp": 1594234032474,
     "user": {
      "displayName": "Giovanni Sá Barreto",
      "photoUrl": "",
      "userId": "12625235111421277305"
     },
     "user_tz": 180
    },
    "id": "MvxJatO5v1y_",
    "outputId": "ce0df72f-41ad-46c8-dac3-8821cfd5e7fd"
   },
   "outputs": [],
   "source": [
    "for n in range(2020, 2031):\n",
    "  pred_tons = np.array([n, 1, 0, 0, 0, 0, 0]).reshape((1, -1))\n",
    "  print(\"pred:\", n, \"\\t{}\".format(lreg.predict(pred_tons)[0]), \"tons\")"
   ]
  }
 ],
 "metadata": {
  "colab": {
   "authorship_tag": "ABX9TyPJRoVA9MbIqRIBIEFTQOYC",
   "collapsed_sections": [
    "8Usa2dZNr7z3",
    "eR4LpP_boL-x",
    "u-JQwk9l3Ucy",
    "ZqZ_0ki53HyE",
    "X8Ka3VX44HpY",
    "gIPyZB8z4Q-Y",
    "Z5dMiUYM5io0",
    "kh6YYl337eMo",
    "L08lFR_09Arw",
    "9OUwlRld923n",
    "_w0IPKPw9-R7",
    "6r5jDF1J-MEv",
    "EgdVAQVY_-WH",
    "Gd6ijD4ZAV16",
    "uGG1K1zWAfE5",
    "xLki7D8AAlJ9",
    "Pb3B5Zy0AlsY",
    "7xDk0TmuAmLY"
   ],
   "mount_file_id": "1afPv9p3F5TISzUcz56kX91ZU7hUkOP1m",
   "name": "case_2.ipynb",
   "provenance": []
  },
  "kernelspec": {
   "display_name": "Python 3",
   "language": "python",
   "name": "python3"
  },
  "language_info": {
   "codemirror_mode": {
    "name": "ipython",
    "version": 3
   },
   "file_extension": ".py",
   "mimetype": "text/x-python",
   "name": "python",
   "nbconvert_exporter": "python",
   "pygments_lexer": "ipython3",
   "version": "3.7.6"
  }
 },
 "nbformat": 4,
 "nbformat_minor": 1
}
